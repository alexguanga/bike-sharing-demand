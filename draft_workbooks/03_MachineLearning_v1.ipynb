{
 "cells": [
  {
   "cell_type": "code",
   "execution_count": 1,
   "metadata": {},
   "outputs": [
    {
     "name": "stderr",
     "output_type": "stream",
     "text": [
      "/Users/alexguanga/anaconda/lib/python3.6/site-packages/sklearn/cross_validation.py:41: DeprecationWarning: This module was deprecated in version 0.18 in favor of the model_selection module into which all the refactored classes and functions are moved. Also note that the interface of the new CV iterators are different from that of this module. This module will be removed in 0.20.\n",
      "  \"This module will be removed in 0.20.\", DeprecationWarning)\n"
     ]
    }
   ],
   "source": [
    "import numpy as np\n",
    "import pandas as pd\n",
    "\n",
    "from sklearn.preprocessing import LabelEncoder\n",
    "\n",
    "from sklearn.ensemble import ExtraTreesRegressor, RandomForestRegressor, AdaBoostRegressor, BaggingRegressor, GradientBoostingRegressor\n",
    "from sklearn.tree import DecisionTreeRegressor\n",
    "import xgboost as xgb\n",
    "\n",
    "from sklearn.feature_selection import VarianceThreshold\n",
    "from sklearn.feature_selection import SelectKBest\n",
    "from sklearn.feature_selection import chi2\n",
    "from sklearn.feature_selection import RFE\n",
    "\n",
    "from sklearn.model_selection import cross_val_score\n",
    "from sklearn.model_selection import GroupKFold\n",
    "\n",
    "from sklearn.metrics import make_scorer\n",
    "from sklearn.cross_validation import LabelKFold\n",
    "from ml_metrics import rmsle\n",
    "\n",
    "import matplotlib.pyplot as plt\n",
    "import seaborn as sns\n",
    "sns.set_style('whitegrid')\n",
    "%matplotlib inline"
   ]
  },
  {
   "cell_type": "code",
   "execution_count": 2,
   "metadata": {},
   "outputs": [],
   "source": [
    "def correlation_values(data, target, pred_series=None, include_pred=False):\n",
    "    if include_pred is True:\n",
    "        data[target] = pred_series\n",
    "    \n",
    "    corr_matrix = data.corr()\n",
    "    top_corr = list(corr_matrix[target].sort_values(ascending=False).index)\n",
    "    corr_values = corr_matrix[target].sort_values(ascending=False)\n",
    "    return pd.DataFrame(corr_values, index=top_corr)\n",
    "\n",
    "def remove_unwanted_vars(data, unwanted_list):\n",
    "    feats = [feat for feat in data.columns if feat not in unwanted_list]\n",
    "    return feats\n",
    "\n",
    "def create_dummies(data, dummy_list):\n",
    "    return pd.get_dummies(data, columns=dummy_list, drop_first=True)\n",
    "\n",
    "def get_Xs_y(data, target, remove_more=None):\n",
    "    if remove_more is not None:\n",
    "        Xs = [feat for feat in data.columns if feat not in remove_more]\n",
    "    else:\n",
    "        Xs = [feat for feat in data.columns if feat not in target]\n",
    "\n",
    "    return [data[Xs].values, data[target].values]\n",
    "\n",
    "def get_important_features(data, model, target, unwanted_feats, limit=10):\n",
    "    Xs, y = get_Xs_y(data, target, unwanted_feats)\n",
    "    col_names = remove_unwanted_vars(data, unwanted_feats)\n",
    "    \n",
    "    model.fit(Xs, y)\n",
    "    best_features = pd.DataFrame(model.feature_importances_, index=data[col_names].columns)\n",
    "    best_features = best_features.sort_values(by=[0], ascending=False)[:limit]\n",
    "    return best_features.rename(columns={0:'name'})\n",
    "\n",
    "def transform_label_nums(data, categorical_label):\n",
    "    le = LabelEncoder()\n",
    "    num_cols = le.fit_transform(data[categorical_label])\n",
    "    return num_cols\n",
    "\n",
    "def less_than_x_ctgy(data, treshold=10):\n",
    "    categories = training_set.apply(lambda x: len(x.unique())).sort_values(ascending=True)\n",
    "    categories_values, categories_labels = categories.values, categories.index\n",
    "    categories_values = [ctgy for ctgy in categories_values if ctgy <= treshold]\n",
    "    categories_labels =  categories_labels[:len(categories_values)]\n",
    "    return pd.DataFrame(categories_values, index=categories_labels)\n",
    "\n",
    "def matched_list(data, filter_like_list):\n",
    "    return [col for col in data.columns for filter_col in filter_like_list if filter_col in col]\n"
   ]
  },
  {
   "cell_type": "code",
   "execution_count": 3,
   "metadata": {},
   "outputs": [],
   "source": [
    "# Importing the datasets that will be used\n",
    "\n",
    "training_set = pd.read_csv(\"./archive/train.csv\")\n",
    "testing_set = pd.read_csv(\"./archive/test.csv\")"
   ]
  },
  {
   "cell_type": "code",
   "execution_count": 4,
   "metadata": {},
   "outputs": [
    {
     "data": {
      "text/plain": [
       "datetime       object\n",
       "season          int64\n",
       "holiday         int64\n",
       "workingday      int64\n",
       "weather         int64\n",
       "temp          float64\n",
       "atemp         float64\n",
       "humidity        int64\n",
       "windspeed     float64\n",
       "casual          int64\n",
       "registered      int64\n",
       "count           int64\n",
       "dtype: object"
      ]
     },
     "execution_count": 4,
     "metadata": {},
     "output_type": "execute_result"
    }
   ],
   "source": [
    "training_set.dtypes"
   ]
  },
  {
   "cell_type": "code",
   "execution_count": 5,
   "metadata": {},
   "outputs": [
    {
     "data": {
      "text/plain": [
       "datetime      10886\n",
       "count           822\n",
       "registered      731\n",
       "casual          309\n",
       "humidity         89\n",
       "atemp            60\n",
       "temp             49\n",
       "windspeed        28\n",
       "weather           4\n",
       "season            4\n",
       "workingday        2\n",
       "holiday           2\n",
       "dtype: int64"
      ]
     },
     "execution_count": 5,
     "metadata": {},
     "output_type": "execute_result"
    }
   ],
   "source": [
    "training_set.apply(lambda x: len(x.unique())).sort_values(ascending=False)"
   ]
  },
  {
   "cell_type": "code",
   "execution_count": 6,
   "metadata": {},
   "outputs": [
    {
     "data": {
      "text/html": [
       "<div>\n",
       "<style scoped>\n",
       "    .dataframe tbody tr th:only-of-type {\n",
       "        vertical-align: middle;\n",
       "    }\n",
       "\n",
       "    .dataframe tbody tr th {\n",
       "        vertical-align: top;\n",
       "    }\n",
       "\n",
       "    .dataframe thead th {\n",
       "        text-align: right;\n",
       "    }\n",
       "</style>\n",
       "<table border=\"1\" class=\"dataframe\">\n",
       "  <thead>\n",
       "    <tr style=\"text-align: right;\">\n",
       "      <th></th>\n",
       "      <th>datetime</th>\n",
       "      <th>season</th>\n",
       "      <th>holiday</th>\n",
       "      <th>workingday</th>\n",
       "      <th>weather</th>\n",
       "      <th>temp</th>\n",
       "      <th>atemp</th>\n",
       "      <th>humidity</th>\n",
       "      <th>windspeed</th>\n",
       "      <th>casual</th>\n",
       "      <th>registered</th>\n",
       "      <th>count</th>\n",
       "    </tr>\n",
       "  </thead>\n",
       "  <tbody>\n",
       "    <tr>\n",
       "      <th>0</th>\n",
       "      <td>2011-01-01 00:00:00</td>\n",
       "      <td>1</td>\n",
       "      <td>0</td>\n",
       "      <td>0</td>\n",
       "      <td>1</td>\n",
       "      <td>9.84</td>\n",
       "      <td>14.395</td>\n",
       "      <td>81</td>\n",
       "      <td>0.0</td>\n",
       "      <td>3</td>\n",
       "      <td>13</td>\n",
       "      <td>16</td>\n",
       "    </tr>\n",
       "    <tr>\n",
       "      <th>1</th>\n",
       "      <td>2011-01-01 01:00:00</td>\n",
       "      <td>1</td>\n",
       "      <td>0</td>\n",
       "      <td>0</td>\n",
       "      <td>1</td>\n",
       "      <td>9.02</td>\n",
       "      <td>13.635</td>\n",
       "      <td>80</td>\n",
       "      <td>0.0</td>\n",
       "      <td>8</td>\n",
       "      <td>32</td>\n",
       "      <td>40</td>\n",
       "    </tr>\n",
       "    <tr>\n",
       "      <th>2</th>\n",
       "      <td>2011-01-01 02:00:00</td>\n",
       "      <td>1</td>\n",
       "      <td>0</td>\n",
       "      <td>0</td>\n",
       "      <td>1</td>\n",
       "      <td>9.02</td>\n",
       "      <td>13.635</td>\n",
       "      <td>80</td>\n",
       "      <td>0.0</td>\n",
       "      <td>5</td>\n",
       "      <td>27</td>\n",
       "      <td>32</td>\n",
       "    </tr>\n",
       "    <tr>\n",
       "      <th>3</th>\n",
       "      <td>2011-01-01 03:00:00</td>\n",
       "      <td>1</td>\n",
       "      <td>0</td>\n",
       "      <td>0</td>\n",
       "      <td>1</td>\n",
       "      <td>9.84</td>\n",
       "      <td>14.395</td>\n",
       "      <td>75</td>\n",
       "      <td>0.0</td>\n",
       "      <td>3</td>\n",
       "      <td>10</td>\n",
       "      <td>13</td>\n",
       "    </tr>\n",
       "    <tr>\n",
       "      <th>4</th>\n",
       "      <td>2011-01-01 04:00:00</td>\n",
       "      <td>1</td>\n",
       "      <td>0</td>\n",
       "      <td>0</td>\n",
       "      <td>1</td>\n",
       "      <td>9.84</td>\n",
       "      <td>14.395</td>\n",
       "      <td>75</td>\n",
       "      <td>0.0</td>\n",
       "      <td>0</td>\n",
       "      <td>1</td>\n",
       "      <td>1</td>\n",
       "    </tr>\n",
       "  </tbody>\n",
       "</table>\n",
       "</div>"
      ],
      "text/plain": [
       "              datetime  season  holiday  workingday  weather  temp   atemp  \\\n",
       "0  2011-01-01 00:00:00       1        0           0        1  9.84  14.395   \n",
       "1  2011-01-01 01:00:00       1        0           0        1  9.02  13.635   \n",
       "2  2011-01-01 02:00:00       1        0           0        1  9.02  13.635   \n",
       "3  2011-01-01 03:00:00       1        0           0        1  9.84  14.395   \n",
       "4  2011-01-01 04:00:00       1        0           0        1  9.84  14.395   \n",
       "\n",
       "   humidity  windspeed  casual  registered  count  \n",
       "0        81        0.0       3          13     16  \n",
       "1        80        0.0       8          32     40  \n",
       "2        80        0.0       5          27     32  \n",
       "3        75        0.0       3          10     13  \n",
       "4        75        0.0       0           1      1  "
      ]
     },
     "execution_count": 6,
     "metadata": {},
     "output_type": "execute_result"
    }
   ],
   "source": [
    "training_set.head(5)"
   ]
  },
  {
   "cell_type": "markdown",
   "metadata": {},
   "source": [
    "### Feature Engineering"
   ]
  },
  {
   "cell_type": "code",
   "execution_count": 7,
   "metadata": {},
   "outputs": [
    {
     "name": "stderr",
     "output_type": "stream",
     "text": [
      "/Users/alexguanga/anaconda/lib/python3.6/site-packages/ipykernel_launcher.py:30: DeprecationWarning: In future, it will be an error for 'np.bool_' scalars to be interpreted as an index\n",
      "/Users/alexguanga/anaconda/lib/python3.6/site-packages/ipykernel_launcher.py:33: DeprecationWarning: In future, it will be an error for 'np.bool_' scalars to be interpreted as an index\n"
     ]
    }
   ],
   "source": [
    "# Noticed that we have date that can be parsed in many ways\n",
    "training_set['datetime'] = pd.to_datetime(training_set['datetime'])\n",
    "\n",
    "training_set['year'] = training_set['datetime'].dt.year\n",
    "training_set['month'] = training_set['datetime'].dt.month\n",
    "training_set['day'] = training_set['datetime'].dt.day\n",
    "training_set['hour'] = training_set['datetime'].dt.hour\n",
    "training_set['minute'] = training_set['datetime'].dt.minute\n",
    "training_set['dayofweek'] = training_set['datetime'].dt.dayofweek\n",
    "training_set['weekofyear'] = training_set['datetime'].dt.weekofyear\n",
    "\n",
    "training_set['weekend'] = training_set['dayofweek'].map(lambda x: int(x in [5,6]))\n",
    "\n",
    "# Creating a column that labels the winner of the game\n",
    "\n",
    "# Conditional on time of day, morning=1, afternoon=2, evening=3, night=4\n",
    "conditions = [\n",
    "    ((training_set['hour'] >=  5) & (training_set['hour'] < 12)),\n",
    "    ((training_set['hour'] >=  12) & (training_set['hour'] < 17)),\n",
    "    ((training_set['hour'] >=  17) & (training_set['hour'] < 21))\n",
    "]\n",
    "choices = [1, 2, 3]\n",
    "training_set['time_of_day'] = np.select(conditions, choices, default=4)\n",
    "\n",
    "training_set['rush_hour'] = training_set['hour'].apply(lambda x: int(x in [8,9,10,17,18,19]))\n",
    "training_set['rush_workday'] = 0\n",
    "training_set.loc[training_set['weekend'] == 0, 'rush_workday'] = 1\n",
    "\n",
    "training_set['holiday'] = training_set[['month', 'day', 'holiday', 'year']].apply(\n",
    "    lambda x: (x['holiday'], 1)[x['year'] == 2012 and x['month'] == 10 and (x['day'] in [30])], axis = 1)\n",
    "\n",
    "training_set['holiday'] = training_set[['month', 'day', 'holiday']].apply(\n",
    "    lambda x: (x['holiday'], 1)[x['month'] == 12 and (x['day'] in [24, 26, 31])], axis = 1)"
   ]
  },
  {
   "cell_type": "code",
   "execution_count": 8,
   "metadata": {},
   "outputs": [
    {
     "data": {
      "text/html": [
       "<div>\n",
       "<style scoped>\n",
       "    .dataframe tbody tr th:only-of-type {\n",
       "        vertical-align: middle;\n",
       "    }\n",
       "\n",
       "    .dataframe tbody tr th {\n",
       "        vertical-align: top;\n",
       "    }\n",
       "\n",
       "    .dataframe thead th {\n",
       "        text-align: right;\n",
       "    }\n",
       "</style>\n",
       "<table border=\"1\" class=\"dataframe\">\n",
       "  <thead>\n",
       "    <tr style=\"text-align: right;\">\n",
       "      <th></th>\n",
       "      <th>name</th>\n",
       "    </tr>\n",
       "  </thead>\n",
       "  <tbody>\n",
       "    <tr>\n",
       "      <th>hour</th>\n",
       "      <td>0.493003</td>\n",
       "    </tr>\n",
       "    <tr>\n",
       "      <th>year</th>\n",
       "      <td>0.087061</td>\n",
       "    </tr>\n",
       "    <tr>\n",
       "      <th>temp</th>\n",
       "      <td>0.071772</td>\n",
       "    </tr>\n",
       "    <tr>\n",
       "      <th>workingday</th>\n",
       "      <td>0.055545</td>\n",
       "    </tr>\n",
       "    <tr>\n",
       "      <th>rush_hour</th>\n",
       "      <td>0.054193</td>\n",
       "    </tr>\n",
       "    <tr>\n",
       "      <th>time_of_day</th>\n",
       "      <td>0.053669</td>\n",
       "    </tr>\n",
       "    <tr>\n",
       "      <th>atemp</th>\n",
       "      <td>0.035226</td>\n",
       "    </tr>\n",
       "    <tr>\n",
       "      <th>humidity</th>\n",
       "      <td>0.027560</td>\n",
       "    </tr>\n",
       "    <tr>\n",
       "      <th>weekofyear</th>\n",
       "      <td>0.025640</td>\n",
       "    </tr>\n",
       "    <tr>\n",
       "      <th>dayofweek</th>\n",
       "      <td>0.025452</td>\n",
       "    </tr>\n",
       "    <tr>\n",
       "      <th>month</th>\n",
       "      <td>0.023775</td>\n",
       "    </tr>\n",
       "    <tr>\n",
       "      <th>weather</th>\n",
       "      <td>0.011998</td>\n",
       "    </tr>\n",
       "    <tr>\n",
       "      <th>day</th>\n",
       "      <td>0.009099</td>\n",
       "    </tr>\n",
       "    <tr>\n",
       "      <th>weekend</th>\n",
       "      <td>0.008306</td>\n",
       "    </tr>\n",
       "    <tr>\n",
       "      <th>windspeed</th>\n",
       "      <td>0.006430</td>\n",
       "    </tr>\n",
       "  </tbody>\n",
       "</table>\n",
       "</div>"
      ],
      "text/plain": [
       "                 name\n",
       "hour         0.493003\n",
       "year         0.087061\n",
       "temp         0.071772\n",
       "workingday   0.055545\n",
       "rush_hour    0.054193\n",
       "time_of_day  0.053669\n",
       "atemp        0.035226\n",
       "humidity     0.027560\n",
       "weekofyear   0.025640\n",
       "dayofweek    0.025452\n",
       "month        0.023775\n",
       "weather      0.011998\n",
       "day          0.009099\n",
       "weekend      0.008306\n",
       "windspeed    0.006430"
      ]
     },
     "execution_count": 8,
     "metadata": {},
     "output_type": "execute_result"
    }
   ],
   "source": [
    "training_set['time_of_day'] = transform_label_nums(training_set, 'time_of_day')\n",
    "rf_feats = get_important_features(training_set, RandomForestRegressor(), 'count', \n",
    "                       ['registered', 'casual', 'count', 'datetime'], 15)\n",
    "rf_feats"
   ]
  },
  {
   "cell_type": "code",
   "execution_count": 9,
   "metadata": {},
   "outputs": [
    {
     "data": {
      "text/html": [
       "<div>\n",
       "<style scoped>\n",
       "    .dataframe tbody tr th:only-of-type {\n",
       "        vertical-align: middle;\n",
       "    }\n",
       "\n",
       "    .dataframe tbody tr th {\n",
       "        vertical-align: top;\n",
       "    }\n",
       "\n",
       "    .dataframe thead th {\n",
       "        text-align: right;\n",
       "    }\n",
       "</style>\n",
       "<table border=\"1\" class=\"dataframe\">\n",
       "  <thead>\n",
       "    <tr style=\"text-align: right;\">\n",
       "      <th></th>\n",
       "      <th>count</th>\n",
       "    </tr>\n",
       "  </thead>\n",
       "  <tbody>\n",
       "    <tr>\n",
       "      <th>count</th>\n",
       "      <td>1.000000</td>\n",
       "    </tr>\n",
       "    <tr>\n",
       "      <th>rush_hour</th>\n",
       "      <td>0.439820</td>\n",
       "    </tr>\n",
       "    <tr>\n",
       "      <th>hour</th>\n",
       "      <td>0.400601</td>\n",
       "    </tr>\n",
       "    <tr>\n",
       "      <th>temp</th>\n",
       "      <td>0.394454</td>\n",
       "    </tr>\n",
       "    <tr>\n",
       "      <th>atemp</th>\n",
       "      <td>0.389784</td>\n",
       "    </tr>\n",
       "    <tr>\n",
       "      <th>year</th>\n",
       "      <td>0.260403</td>\n",
       "    </tr>\n",
       "    <tr>\n",
       "      <th>month</th>\n",
       "      <td>0.166862</td>\n",
       "    </tr>\n",
       "    <tr>\n",
       "      <th>season</th>\n",
       "      <td>0.163439</td>\n",
       "    </tr>\n",
       "    <tr>\n",
       "      <th>weekofyear</th>\n",
       "      <td>0.152512</td>\n",
       "    </tr>\n",
       "    <tr>\n",
       "      <th>windspeed</th>\n",
       "      <td>0.101369</td>\n",
       "    </tr>\n",
       "    <tr>\n",
       "      <th>day</th>\n",
       "      <td>0.019826</td>\n",
       "    </tr>\n",
       "    <tr>\n",
       "      <th>workingday</th>\n",
       "      <td>0.011594</td>\n",
       "    </tr>\n",
       "    <tr>\n",
       "      <th>rush_workday</th>\n",
       "      <td>0.009925</td>\n",
       "    </tr>\n",
       "    <tr>\n",
       "      <th>dayofweek</th>\n",
       "      <td>-0.002283</td>\n",
       "    </tr>\n",
       "    <tr>\n",
       "      <th>holiday</th>\n",
       "      <td>-0.005393</td>\n",
       "    </tr>\n",
       "    <tr>\n",
       "      <th>weekend</th>\n",
       "      <td>-0.009925</td>\n",
       "    </tr>\n",
       "    <tr>\n",
       "      <th>weather</th>\n",
       "      <td>-0.128655</td>\n",
       "    </tr>\n",
       "    <tr>\n",
       "      <th>time_of_day</th>\n",
       "      <td>-0.234047</td>\n",
       "    </tr>\n",
       "    <tr>\n",
       "      <th>humidity</th>\n",
       "      <td>-0.317371</td>\n",
       "    </tr>\n",
       "    <tr>\n",
       "      <th>minute</th>\n",
       "      <td>NaN</td>\n",
       "    </tr>\n",
       "  </tbody>\n",
       "</table>\n",
       "</div>"
      ],
      "text/plain": [
       "                 count\n",
       "count         1.000000\n",
       "rush_hour     0.439820\n",
       "hour          0.400601\n",
       "temp          0.394454\n",
       "atemp         0.389784\n",
       "year          0.260403\n",
       "month         0.166862\n",
       "season        0.163439\n",
       "weekofyear    0.152512\n",
       "windspeed     0.101369\n",
       "day           0.019826\n",
       "workingday    0.011594\n",
       "rush_workday  0.009925\n",
       "dayofweek    -0.002283\n",
       "holiday      -0.005393\n",
       "weekend      -0.009925\n",
       "weather      -0.128655\n",
       "time_of_day  -0.234047\n",
       "humidity     -0.317371\n",
       "minute             NaN"
      ]
     },
     "execution_count": 9,
     "metadata": {},
     "output_type": "execute_result"
    }
   ],
   "source": [
    "cleaned_vars = remove_unwanted_vars(training_set, ['registered', 'casual'])\n",
    "corr_feats = correlation_values(training_set[cleaned_vars], 'count')\n",
    "corr_feats"
   ]
  },
  {
   "cell_type": "markdown",
   "metadata": {},
   "source": [
    "- Using the Random Forest best features parameter & the correlation matrix:\n",
    "    - Top values to look at are hour, temp, time_of_day (neg correlation), humidity, workingday, atemp"
   ]
  },
  {
   "cell_type": "code",
   "execution_count": 10,
   "metadata": {},
   "outputs": [
    {
     "data": {
      "text/plain": [
       "<matplotlib.axes._subplots.AxesSubplot at 0x1a0a599a58>"
      ]
     },
     "execution_count": 10,
     "metadata": {},
     "output_type": "execute_result"
    },
    {
     "data": {
      "image/png": "[encoded data removed]",
      "text/plain": [
       "<Figure size 1440x360 with 1 Axes>"
      ]
     },
     "metadata": {},
     "output_type": "display_data"
    },
    {
     "data": {
      "image/png": "[encoded data removed]",
      "text/plain": [
       "<Figure size 1440x360 with 1 Axes>"
      ]
     },
     "metadata": {},
     "output_type": "display_data"
    }
   ],
   "source": [
    "# Visuals for correlation and Random Forest features\n",
    "rf_feats.plot(kind='bar', figsize=(20, 5), title=\"Target variable = {0}\".format('count'))\n",
    "corr_feats.plot(kind='bar', figsize=(20, 5), title=\"Target variable = {0}\".format('count'))"
   ]
  },
  {
   "cell_type": "code",
   "execution_count": 11,
   "metadata": {},
   "outputs": [],
   "source": [
    "# The minute variable does not provide any value\n",
    "\n",
    "training_set.drop(['minute'], axis=1, inplace=True)"
   ]
  },
  {
   "cell_type": "code",
   "execution_count": 12,
   "metadata": {},
   "outputs": [],
   "source": [
    "# What are the unique values? Need to transform some of these variables to dummies\n",
    "\n",
    "dummy_list = less_than_x_ctgy(training_set, treshold=10).index.tolist()\n",
    "training_set_w_dummies = create_dummies(training_set, dummy_list)\n",
    "training_set_w_dummies.drop('datetime', axis=1, inplace=True)"
   ]
  },
  {
   "cell_type": "code",
   "execution_count": 13,
   "metadata": {},
   "outputs": [
    {
     "data": {
      "text/plain": [
       "(10886, 32)"
      ]
     },
     "execution_count": 13,
     "metadata": {},
     "output_type": "execute_result"
    }
   ],
   "source": [
    "# Understanding the added dummy variables to the training set\n",
    "\n",
    "training_set_w_dummies.shape        "
   ]
  },
  {
   "cell_type": "markdown",
   "metadata": {},
   "source": [
    "### Advanced Feature Enginnering"
   ]
  },
  {
   "cell_type": "code",
   "execution_count": 27,
   "metadata": {},
   "outputs": [],
   "source": [
    "def feats_by_variance(data, ylabel, remove_more_xs=None, threshold=.6):\n",
    "    if remove_more_xs is not None: ylabel = ylabel + remove_more_xs\n",
    "\n",
    "    feats = remove_unwanted_vars(data, [ylabel, 'registered', 'casual', 'datetime'])\n",
    "    sel = VarianceThreshold(threshold=(threshold * (1 - threshold)))\n",
    "    sel.fit_transform(data[feats], data[ylabel]).shape\n",
    "\n",
    "    current_feats = np.array(feats)[sel.get_support()]\n",
    "    to_remove_feats = list(set(np.array(feats)) - set(current_feats))\n",
    "\n",
    "    print(\"removed features: {0}\\n\\ncurrent features: {1}\".format(to_remove_feats, current_feats))"
   ]
  },
  {
   "cell_type": "code",
   "execution_count": 28,
   "metadata": {},
   "outputs": [
    {
     "name": "stdout",
     "output_type": "stream",
     "text": [
      "removed features: ['weekend', 'rush_hour', 'workingday', 'rush_workday', 'holiday']\n",
      "\n",
      "current features: ['season' 'weather' 'temp' 'atemp' 'humidity' 'windspeed' 'year' 'month'\n",
      " 'day' 'hour' 'dayofweek' 'weekofyear' 'time_of_day']\n"
     ]
    }
   ],
   "source": [
    "feats_by_variance(training_set, 'count')"
   ]
  },
  {
   "cell_type": "code",
   "execution_count": null,
   "metadata": {},
   "outputs": [],
   "source": [
    "# Checking the variance in the cleaned training set without the dummy variables\n",
    "\n",
    "feats = remove_unwanted_vars(training_set, ['count', 'registered', 'casual', 'datetime'])\n",
    "treshold = .6\n",
    "sel = VarianceThreshold(threshold=(treshold * (1 - treshold)))\n",
    "sel.fit_transform(training_set[feats], training_set['count']).shape\n",
    "\n",
    "current_feats = np.array(feats)[sel.get_support()]\n",
    "removed_feats = list(set(np.array(feats)) - set(current_feats))\n",
    "\n",
    "print(\"removed features: {0}\\n\\ncurrent features{1}\".format(removed_feats, current_feats))"
   ]
  },
  {
   "cell_type": "code",
   "execution_count": 74,
   "metadata": {},
   "outputs": [],
   "source": [
    "def modeling(model, data, feats, target, n_folds=3):\n",
    "    Xs, y  = data[feats].values, data[target].values\n",
    "    groups = data['datetime'].dt.month.values\n",
    "    group_kfold = GroupKFold(n_splits=n_folds)\n",
    "    \n",
    "    scores = []\n",
    "    for train_idx, test_idx in group_kfold.split(Xs, y, groups):\n",
    "        model.fit(Xs[train_idx], y[train_idx])\n",
    "        y_pred = model.predict(Xs[test_idx])\n",
    "        y_pred[y_pred <0 ] = 0\n",
    "        scores.append(rmsle(y[test_idx], y_pred))\n",
    "    \n",
    "    return np.mean(scores), np.std(scores)\n",
    "\n",
    "\n",
    "def find_the_best_features(data, sel_class, model, target, verbose=True, range_k = range(2, 16), show_top=5):\n",
    "    feats = remove_unwanted_vars(data, ['count', 'registered', 'casual', 'datetime'])\n",
    "    X,y = data[feats], data[target]\n",
    "\n",
    "    results = []\n",
    "    for k in range_k:\n",
    "        sel = sel_class(k)\n",
    "        X_new = sel.fit_transform(X, y)\n",
    "\n",
    "        current_feats = np.array(feats)[sel.get_support()]\n",
    "        mean_score, std_score = modeling(model, data, current_feats, target)\n",
    "        mean_score, std_score = np.abs(mean_score), np.abs(std_score)\n",
    "        if verbose:\n",
    "            print(\"score={0}, std-score{1}, features#{2}: {3}\".format(round(mean_score, 5), round(std_score, 4), len(current_feats), current_feats ))\n",
    "        \n",
    "        results.append((mean_score, std_score, current_feats))\n",
    "    return sorted(results, key=lambda x: x[0])[:show_top]"
   ]
  },
  {
   "cell_type": "code",
   "execution_count": 79,
   "metadata": {},
   "outputs": [
    {
     "name": "stdout",
     "output_type": "stream",
     "text": [
      "Target Variable: count\n",
      "Model: extra_tree\n",
      "['season' 'workingday' 'weather' 'temp' 'atemp' 'humidity' 'year' 'month'\n",
      " 'hour' 'dayofweek' 'weekofyear' 'weekend' 'time_of_day' 'rush_hour'] are the best features with a mean score of: 0.38370507035829154\n",
      "\n",
      "Model: random_forest\n",
      "['workingday' 'weather' 'temp' 'atemp' 'humidity' 'year' 'month' 'hour'\n",
      " 'dayofweek' 'weekofyear' 'time_of_day' 'rush_hour' 'rush_workday'] are the best features with a mean score of: 0.3912857336535484\n",
      "\n",
      "Model: ada boost\n",
      "['year' 'hour'] are the best features with a mean score of: 0.8981668437720208\n",
      "\n",
      "Model: decision tree\n",
      "['workingday' 'weather' 'temp' 'atemp' 'humidity' 'year' 'month' 'hour'\n",
      " 'dayofweek' 'weekofyear' 'rush_hour'] are the best features with a mean score of: 0.5047291325134392\n",
      "\n",
      "Model: xgb_model\n",
      "['workingday' 'temp' 'atemp' 'humidity' 'year' 'month' 'hour' 'dayofweek'\n",
      " 'time_of_day' 'rush_hour'] are the best features with a mean score of: 0.6503063365802585\n",
      "\n",
      "\n",
      "----------------------------------\n",
      "\n",
      "Target Variable: registered\n",
      "Model: extra_tree\n",
      "['season' 'workingday' 'weather' 'temp' 'atemp' 'humidity' 'year' 'month'\n",
      " 'hour' 'dayofweek' 'weekofyear' 'weekend' 'time_of_day' 'rush_hour'] are the best features with a mean score of: 0.377590784410981\n",
      "\n",
      "Model: random_forest\n",
      "['workingday' 'weather' 'temp' 'atemp' 'humidity' 'year' 'month' 'hour'\n",
      " 'dayofweek' 'weekofyear' 'time_of_day' 'rush_hour'] are the best features with a mean score of: 0.37997372873488483\n",
      "\n",
      "Model: ada boost\n",
      "['workingday' 'year' 'month' 'hour' 'rush_hour'] are the best features with a mean score of: 0.879678327559987\n",
      "\n",
      "Model: decision tree\n",
      "['workingday' 'weather' 'temp' 'humidity' 'year' 'month' 'hour'\n",
      " 'dayofweek' 'weekofyear' 'time_of_day' 'rush_hour'] are the best features with a mean score of: 0.46982341390315896\n",
      "\n",
      "Model: xgb_model\n",
      "['workingday' 'temp' 'atemp' 'humidity' 'year' 'month' 'hour' 'dayofweek'\n",
      " 'time_of_day' 'rush_hour'] are the best features with a mean score of: 0.6635240796064901\n",
      "\n",
      "\n",
      "----------------------------------\n",
      "\n",
      "Target Variable: casual\n",
      "Model: extra_tree\n",
      "['season' 'workingday' 'weather' 'temp' 'atemp' 'humidity' 'year' 'day'\n",
      " 'hour' 'dayofweek' 'weekofyear' 'weekend' 'time_of_day' 'rush_hour'] are the best features with a mean score of: 0.6146118977567192\n",
      "\n",
      "Model: random_forest\n",
      "['workingday' 'temp' 'atemp' 'humidity' 'year' 'hour' 'dayofweek'\n",
      " 'weekofyear'] are the best features with a mean score of: 0.6087803985741398\n",
      "\n",
      "Model: ada boost\n",
      "['atemp' 'hour' 'dayofweek'] are the best features with a mean score of: 1.1257506913479736\n",
      "\n",
      "Model: decision tree\n",
      "['workingday' 'atemp' 'hour'] are the best features with a mean score of: 0.7121865373653437\n",
      "\n",
      "Model: xgb_model\n",
      "['holiday' 'workingday' 'weather' 'temp' 'atemp' 'humidity' 'windspeed'\n",
      " 'year' 'month' 'day' 'hour' 'dayofweek' 'weekofyear' 'time_of_day'\n",
      " 'rush_hour'] are the best features with a mean score of: 0.7871141871024984\n",
      "\n",
      "\n",
      "----------------------------------\n",
      "\n"
     ]
    }
   ],
   "source": [
    "# Training across different models to find the best features selections\n",
    "\n",
    "models = [ \n",
    "    ('extra_tree', ExtraTreesRegressor()),\n",
    "    ('random_forest', RandomForestRegressor()),\n",
    "    ('ada boost', AdaBoostRegressor()),\n",
    "    ('decision tree', DecisionTreeRegressor()),\n",
    "    ('xgb_model', xgb.XGBRegressor())\n",
    "]\n",
    "\n",
    "poss_targets = ['count', 'registered', 'casual']     \n",
    "        \n",
    "for target in poss_targets:\n",
    "    print(\"Target Variable: {0}\".format(target))\n",
    "    \n",
    "    for model_name, model in models:\n",
    "        print(\"Model: {0}\".format(model_name))\n",
    "        try:\n",
    "            results = find_the_best_features(training_set, lambda k: RFE(model, k, step=1), \n",
    "                                             model, target, verbose=False)\n",
    "        except RuntimeError:\n",
    "            results = find_the_best_features(training_set, lambda k: SelectKBest(chi2, k), \n",
    "                                             model, target, verbose=False)\n",
    "        best_features = results[0][2]        \n",
    "        mean_score, std_score = modeling(model, training_set, best_features, target)\n",
    "        mean_score, std_score = np.abs(mean_score), np.abs(std_score)\n",
    "        print(\"{0} are the best features with a mean score of: {1}\\n\".format(best_features, mean_score))\n",
    "\n",
    "    print('\\n----------------------------------\\n')\n"
   ]
  }
 ],
 "metadata": {
  "kernelspec": {
   "display_name": "Python 3",
   "language": "python",
   "name": "python3"
  },
  "language_info": {
   "codemirror_mode": {
    "name": "ipython",
    "version": 3
   },
   "file_extension": ".py",
   "mimetype": "text/x-python",
   "name": "python",
   "nbconvert_exporter": "python",
   "pygments_lexer": "ipython3",
   "version": "3.6.6"
  },
  "toc": {
   "base_numbering": 1,
   "nav_menu": {},
   "number_sections": true,
   "sideBar": true,
   "skip_h1_title": true,
   "title_cell": "Table of Contents",
   "title_sidebar": "Contents",
   "toc_cell": false,
   "toc_position": {},
   "toc_section_display": true,
   "toc_window_display": false
  },
  "varInspector": {
   "cols": {
    "lenName": 16,
    "lenType": 16,
    "lenVar": 40
   },
   "kernels_config": {
    "python": {
     "delete_cmd_postfix": "",
     "delete_cmd_prefix": "del ",
     "library": "var_list.py",
     "varRefreshCmd": "print(var_dic_list())"
    },
    "r": {
     "delete_cmd_postfix": ") ",
     "delete_cmd_prefix": "rm(",
     "library": "var_list.r",
     "varRefreshCmd": "cat(var_dic_list()) "
    }
   },
   "types_to_exclude": [
    "module",
    "function",
    "builtin_function_or_method",
    "instance",
    "_Feature"
   ],
   "window_display": false
  }
 },
 "nbformat": 4,
 "nbformat_minor": 2
}
