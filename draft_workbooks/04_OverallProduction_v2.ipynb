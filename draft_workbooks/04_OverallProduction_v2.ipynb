{
 "cells": [
  {
   "cell_type": "markdown",
   "metadata": {},
   "source": [
    "# Notes\n",
    "- Either use this or the copy but create a train/test split & figur eout where are the error metrics are being created!!"
   ]
  },
  {
   "cell_type": "code",
   "execution_count": 1,
   "metadata": {},
   "outputs": [],
   "source": [
    "import numpy as np\n",
    "import pandas as pd\n",
    "\n",
    "import matplotlib.pyplot as plt\n",
    "import seaborn as sns\n",
    "sns.set_style('whitegrid')\n",
    "%matplotlib inline"
   ]
  },
  {
   "cell_type": "code",
   "execution_count": 2,
   "metadata": {},
   "outputs": [],
   "source": [
    "# Importing the datasets that will be used\n",
    "train_set = pd.read_csv(\"./archive/train.csv\")\n",
    "test_set = pd.read_csv(\"./archive/test.csv\")\n",
    "\n",
    "# Creating a column to label the train_set & test_set\n",
    "train_set['data_source'] = \"train_set\"\n",
    "test_set['data_source'] = \"test_set\""
   ]
  },
  {
   "cell_type": "code",
   "execution_count": 3,
   "metadata": {},
   "outputs": [],
   "source": [
    "# Adding the missing columns for the testing columns\n",
    "test_set['count'] = np.nan\n",
    "test_set['registered'] = np.nan\n",
    "test_set['casual'] = np.nan"
   ]
  },
  {
   "cell_type": "code",
   "execution_count": 4,
   "metadata": {},
   "outputs": [
    {
     "data": {
      "text/html": [
       "<div>\n",
       "<style scoped>\n",
       "    .dataframe tbody tr th:only-of-type {\n",
       "        vertical-align: middle;\n",
       "    }\n",
       "\n",
       "    .dataframe tbody tr th {\n",
       "        vertical-align: top;\n",
       "    }\n",
       "\n",
       "    .dataframe thead th {\n",
       "        text-align: right;\n",
       "    }\n",
       "</style>\n",
       "<table border=\"1\" class=\"dataframe\">\n",
       "  <thead>\n",
       "    <tr style=\"text-align: right;\">\n",
       "      <th></th>\n",
       "      <th>datetime</th>\n",
       "      <th>season</th>\n",
       "      <th>holiday</th>\n",
       "      <th>workingday</th>\n",
       "      <th>weather</th>\n",
       "      <th>temp</th>\n",
       "      <th>atemp</th>\n",
       "      <th>humidity</th>\n",
       "      <th>windspeed</th>\n",
       "      <th>casual</th>\n",
       "      <th>registered</th>\n",
       "      <th>count</th>\n",
       "      <th>data_source</th>\n",
       "    </tr>\n",
       "  </thead>\n",
       "  <tbody>\n",
       "    <tr>\n",
       "      <th>0</th>\n",
       "      <td>2011-01-01 00:00:00</td>\n",
       "      <td>1</td>\n",
       "      <td>0</td>\n",
       "      <td>0</td>\n",
       "      <td>1</td>\n",
       "      <td>9.84</td>\n",
       "      <td>14.395</td>\n",
       "      <td>81</td>\n",
       "      <td>0.0</td>\n",
       "      <td>3.0</td>\n",
       "      <td>13.0</td>\n",
       "      <td>16.0</td>\n",
       "      <td>train_set</td>\n",
       "    </tr>\n",
       "    <tr>\n",
       "      <th>1</th>\n",
       "      <td>2011-01-01 01:00:00</td>\n",
       "      <td>1</td>\n",
       "      <td>0</td>\n",
       "      <td>0</td>\n",
       "      <td>1</td>\n",
       "      <td>9.02</td>\n",
       "      <td>13.635</td>\n",
       "      <td>80</td>\n",
       "      <td>0.0</td>\n",
       "      <td>8.0</td>\n",
       "      <td>32.0</td>\n",
       "      <td>40.0</td>\n",
       "      <td>train_set</td>\n",
       "    </tr>\n",
       "    <tr>\n",
       "      <th>2</th>\n",
       "      <td>2011-01-01 02:00:00</td>\n",
       "      <td>1</td>\n",
       "      <td>0</td>\n",
       "      <td>0</td>\n",
       "      <td>1</td>\n",
       "      <td>9.02</td>\n",
       "      <td>13.635</td>\n",
       "      <td>80</td>\n",
       "      <td>0.0</td>\n",
       "      <td>5.0</td>\n",
       "      <td>27.0</td>\n",
       "      <td>32.0</td>\n",
       "      <td>train_set</td>\n",
       "    </tr>\n",
       "    <tr>\n",
       "      <th>3</th>\n",
       "      <td>2011-01-01 03:00:00</td>\n",
       "      <td>1</td>\n",
       "      <td>0</td>\n",
       "      <td>0</td>\n",
       "      <td>1</td>\n",
       "      <td>9.84</td>\n",
       "      <td>14.395</td>\n",
       "      <td>75</td>\n",
       "      <td>0.0</td>\n",
       "      <td>3.0</td>\n",
       "      <td>10.0</td>\n",
       "      <td>13.0</td>\n",
       "      <td>train_set</td>\n",
       "    </tr>\n",
       "    <tr>\n",
       "      <th>4</th>\n",
       "      <td>2011-01-01 04:00:00</td>\n",
       "      <td>1</td>\n",
       "      <td>0</td>\n",
       "      <td>0</td>\n",
       "      <td>1</td>\n",
       "      <td>9.84</td>\n",
       "      <td>14.395</td>\n",
       "      <td>75</td>\n",
       "      <td>0.0</td>\n",
       "      <td>0.0</td>\n",
       "      <td>1.0</td>\n",
       "      <td>1.0</td>\n",
       "      <td>train_set</td>\n",
       "    </tr>\n",
       "  </tbody>\n",
       "</table>\n",
       "</div>"
      ],
      "text/plain": [
       "              datetime  season  holiday  workingday  weather  temp   atemp  \\\n",
       "0  2011-01-01 00:00:00       1        0           0        1  9.84  14.395   \n",
       "1  2011-01-01 01:00:00       1        0           0        1  9.02  13.635   \n",
       "2  2011-01-01 02:00:00       1        0           0        1  9.02  13.635   \n",
       "3  2011-01-01 03:00:00       1        0           0        1  9.84  14.395   \n",
       "4  2011-01-01 04:00:00       1        0           0        1  9.84  14.395   \n",
       "\n",
       "   humidity  windspeed  casual  registered  count data_source  \n",
       "0        81        0.0     3.0        13.0   16.0   train_set  \n",
       "1        80        0.0     8.0        32.0   40.0   train_set  \n",
       "2        80        0.0     5.0        27.0   32.0   train_set  \n",
       "3        75        0.0     3.0        10.0   13.0   train_set  \n",
       "4        75        0.0     0.0         1.0    1.0   train_set  "
      ]
     },
     "execution_count": 4,
     "metadata": {},
     "output_type": "execute_result"
    }
   ],
   "source": [
    "# Concatenating the train_set with the test_set\n",
    "data = pd.concat([train_set, test_set], axis=0, sort=False)\n",
    "\n",
    "# Lowercase column names\n",
    "data.columns = map(str.lower, data.columns)\n",
    "\n",
    "data.head(5)"
   ]
  },
  {
   "cell_type": "code",
   "execution_count": 5,
   "metadata": {},
   "outputs": [
    {
     "name": "stdout",
     "output_type": "stream",
     "text": [
      "Train set cols. datetime, season, holiday, workingday, weather, temp, atemp, humidity, windspeed, casual, registered, count, data_source\n",
      "Test set cols. datetime, season, holiday, workingday, weather, temp, atemp, humidity, windspeed, data_source, count, registered, casual\n",
      "Difference cols. are set()\n"
     ]
    }
   ],
   "source": [
    "print(f'Train set cols. {\", \".join(train_set.columns.tolist())}')\n",
    "print(f'Test set cols. {\", \".join(test_set.columns.tolist())}')\n",
    "print(f'Difference cols. are {set(train_set.columns) - set(test_set.columns)}')"
   ]
  },
  {
   "cell_type": "markdown",
   "metadata": {},
   "source": [
    "#### Notes:\n",
    "Notice that we have three potential target variables. While the count is the exact predictor, we could calculate the casual and registerd to find the count... we'll see how we will calculate the predictor."
   ]
  },
  {
   "cell_type": "code",
   "execution_count": 6,
   "metadata": {},
   "outputs": [
    {
     "data": {
      "text/plain": [
       "season           int64\n",
       "holiday          int64\n",
       "workingday       int64\n",
       "weather          int64\n",
       "humidity         int64\n",
       "temp           float64\n",
       "atemp          float64\n",
       "windspeed      float64\n",
       "casual         float64\n",
       "registered     float64\n",
       "count          float64\n",
       "datetime        object\n",
       "data_source     object\n",
       "dtype: object"
      ]
     },
     "execution_count": 6,
     "metadata": {},
     "output_type": "execute_result"
    }
   ],
   "source": [
    "# Let's look at the datatype\n",
    "data.dtypes.sort_values()"
   ]
  },
  {
   "cell_type": "code",
   "execution_count": 7,
   "metadata": {},
   "outputs": [
    {
     "name": "stdout",
     "output_type": "stream",
     "text": [
      "Total observation (train_set): 10886\n",
      "Total observation (test_set): 6493\n"
     ]
    }
   ],
   "source": [
    "print(f\"Total observation (train_set): {train_set.shape[0]}\")\n",
    "print(f\"Total observation (test_set): {test_set.shape[0]}\")"
   ]
  },
  {
   "cell_type": "markdown",
   "metadata": {},
   "source": [
    "#### Notes:\n",
    "- The date variable is an object so you will have to change it to a datetype"
   ]
  },
  {
   "cell_type": "markdown",
   "metadata": {},
   "source": [
    "## Data Cleaning"
   ]
  },
  {
   "cell_type": "code",
   "execution_count": 8,
   "metadata": {},
   "outputs": [],
   "source": [
    "# Interpolate weather, atemp, humidity\n",
    "data[\"weather\"] = data[\"weather\"].interpolate(method='time').apply(np.round)\n",
    "data[\"temp\"] = data[\"temp\"].interpolate(method='time')\n",
    "data[\"atemp\"] = data[\"atemp\"].interpolate(method='time')\n",
    "data[\"humidity\"] = data[\"humidity\"].interpolate(method='time').apply(np.round)\n",
    "data[\"windspeed\"] = data[\"windspeed\"].interpolate(method='time')"
   ]
  },
  {
   "cell_type": "code",
   "execution_count": 9,
   "metadata": {
    "code_folding": [
     0,
     11
    ]
   },
   "outputs": [],
   "source": [
    "def get_dtypes(data, verbose=False):\n",
    "    \"\"\"Returns a list: numerical values, object-like columns\"\"\"\n",
    "    \n",
    "    numerics = ['int16', 'int32', 'int64', 'float16', 'float32', 'float64']\n",
    "    numerics_cols = data.select_dtypes(include=numerics).columns\n",
    "    object_cols = data.select_dtypes(include='object').columns\n",
    "    if verbose:\n",
    "        print('There are {0} numeric cols: {1}\\nThere are {2} object cols: {3}\\nThere are total cols: {4}'.format\n",
    "              (len(numerics_cols),numerics_cols, len(object_cols), object_cols, len(data.columns)))\n",
    "    return [numerics_cols, object_cols]\n",
    "\n",
    "def get_missing_values(data, cols):\n",
    "    \"\"\"Returns a dataframe with missing values (in absolute and percentage format)\"\"\"\n",
    "    \n",
    "    missing_percent = data[cols].apply(lambda x: sum(x.isnull())/len(x), axis=0).sort_values(ascending=False)\n",
    "    missing_abs = data[cols].apply(lambda x: sum(x.isnull()), axis=0).sort_values(ascending=False)\n",
    "    df = pd.DataFrame({'Missing': missing_abs, 'Percent': missing_percent})\n",
    "    \n",
    "    # Removing zero values\n",
    "    df = df.loc[~(df==0).all(axis=1)]\n",
    "    return df"
   ]
  },
  {
   "cell_type": "code",
   "execution_count": 10,
   "metadata": {},
   "outputs": [
    {
     "data": {
      "text/html": [
       "<div>\n",
       "<style scoped>\n",
       "    .dataframe tbody tr th:only-of-type {\n",
       "        vertical-align: middle;\n",
       "    }\n",
       "\n",
       "    .dataframe tbody tr th {\n",
       "        vertical-align: top;\n",
       "    }\n",
       "\n",
       "    .dataframe thead th {\n",
       "        text-align: right;\n",
       "    }\n",
       "</style>\n",
       "<table border=\"1\" class=\"dataframe\">\n",
       "  <thead>\n",
       "    <tr style=\"text-align: right;\">\n",
       "      <th></th>\n",
       "      <th>Missing</th>\n",
       "      <th>Percent</th>\n",
       "    </tr>\n",
       "  </thead>\n",
       "  <tbody>\n",
       "    <tr>\n",
       "      <th>count</th>\n",
       "      <td>6493</td>\n",
       "      <td>0.373612</td>\n",
       "    </tr>\n",
       "    <tr>\n",
       "      <th>registered</th>\n",
       "      <td>6493</td>\n",
       "      <td>0.373612</td>\n",
       "    </tr>\n",
       "    <tr>\n",
       "      <th>casual</th>\n",
       "      <td>6493</td>\n",
       "      <td>0.373612</td>\n",
       "    </tr>\n",
       "  </tbody>\n",
       "</table>\n",
       "</div>"
      ],
      "text/plain": [
       "            Missing   Percent\n",
       "count          6493  0.373612\n",
       "registered     6493  0.373612\n",
       "casual         6493  0.373612"
      ]
     },
     "execution_count": 10,
     "metadata": {},
     "output_type": "execute_result"
    }
   ],
   "source": [
    "# Separting the numeric and object columnac\n",
    "num_cols, obj_cols = get_dtypes(data, verbose=False)\n",
    "\n",
    "# Calculating missing values in our data\n",
    "missing = get_missing_values(data, num_cols)\n",
    "missing"
   ]
  },
  {
   "cell_type": "markdown",
   "metadata": {},
   "source": [
    "#### Notes:\n",
    "- The only missing values is from the predictors... which is reasonable!"
   ]
  },
  {
   "cell_type": "markdown",
   "metadata": {},
   "source": [
    "## Feature Enginnering"
   ]
  },
  {
   "cell_type": "markdown",
   "metadata": {},
   "source": [
    "#### Notes:\n",
    "- `extract_dateinfo` function is a fast.ai function. \n",
    "    - From a date datatype, it is able to make many calculations!\n",
    "    - It automates the feature engineering processs.\n",
    "- `custom_datainfo` function is a function I created.\n",
    "    - It focuses on renaming or creating abritrary columns (like rush_hour)"
   ]
  },
  {
   "cell_type": "code",
   "execution_count": 11,
   "metadata": {
    "code_folding": [
     2
    ]
   },
   "outputs": [],
   "source": [
    "import re\n",
    "\n",
    "def extract_dateinfo(df, date_col, drop=True, time=False, start_ref=pd.datetime(1900, 1, 1), extra_attr = True):\n",
    "    \"\"\"\n",
    "    Extract Date (and time) Information from a DataFrame\n",
    "    Adapted from: https://github.com/fastai/fastai/blob/master/fastai/structured.py\n",
    "    \"\"\"\n",
    "    df = df.copy()\n",
    "    \n",
    "    # Extract the field\n",
    "    fld = df[date_col]\n",
    "    \n",
    "    # Check the time\n",
    "    fld_dtype = fld.dtype\n",
    "    if isinstance(fld_dtype, pd.core.dtypes.dtypes.DatetimeTZDtype):\n",
    "        fld_dtype = np.datetime64\n",
    "\n",
    "    # Convert to datetime if not already\n",
    "    if not np.issubdtype(fld_dtype, np.datetime64):\n",
    "        df[date_col] = fld = pd.to_datetime(fld, infer_datetime_format=True)\n",
    "    \n",
    "    # Prefix for new columns\n",
    "    pre = re.sub('[Dd]ate', '', date_col)\n",
    "    pre = re.sub('[Tt]ime', '', pre)\n",
    "    \n",
    "    # Basic attributes\n",
    "    attr = ['Year', 'Month', 'Week', 'Day', 'Dayofweek', 'Dayofyear', 'Days_in_month', 'is_leap_year']\n",
    "    \n",
    "    # Additional attributes\n",
    "    if extra_attr:\n",
    "        attr = attr + ['Is_month_end', 'Is_month_start', 'Is_quarter_end', \n",
    "                       'Is_quarter_start', 'Is_year_end', 'Is_year_start']\n",
    "    \n",
    "    # If time is specified, extract time information\n",
    "    if time: \n",
    "        attr = attr + ['Hour', 'Minute', 'Second']\n",
    "        \n",
    "    # Iterate through each attribute\n",
    "    for n in attr: \n",
    "        df[pre + n] = getattr(fld.dt, n.lower())\n",
    "        \n",
    "    # Calculate days in year\n",
    "    df[pre + 'Days_in_year'] = df[pre + 'is_leap_year'] + 365\n",
    "        \n",
    "    if time:\n",
    "        # Add fractional time of day (0 - 1) units of day\n",
    "        df[pre + 'frac_day'] = ((df[pre + 'Hour']) + (df[pre + 'Minute'] / 60) + (df[pre + 'Second'] / 60 / 60)) / 24\n",
    "        \n",
    "        # Add fractional time of week (0 - 1) units of week\n",
    "        df[pre + 'frac_week'] = (df[pre + 'Dayofweek'] + df[pre + 'frac_day']) / 7\n",
    "    \n",
    "        # Add fractional time of month (0 - 1) units of month\n",
    "        df[pre + 'frac_month'] = (df[pre + 'Day'] + (df[pre + 'frac_day'])) / (df[pre + 'Days_in_month'] +  1)\n",
    "        \n",
    "        # Add fractional time of year (0 - 1) units of year\n",
    "        df[pre + 'frac_year'] = (df[pre + 'Dayofyear'] + df[pre + 'frac_day']) / (df[pre + 'Days_in_year'] + 1)\n",
    "        \n",
    "    # Add seconds since start of reference\n",
    "    df[pre + 'Elapsed'] = (fld - start_ref).dt.total_seconds()\n",
    "    \n",
    "    if drop: \n",
    "        df = df.drop(date_col, axis=1)\n",
    "        \n",
    "    return df"
   ]
  },
  {
   "cell_type": "code",
   "execution_count": 12,
   "metadata": {},
   "outputs": [],
   "source": [
    "# Calculating various date variables\n",
    "data = extract_dateinfo(data, 'datetime', drop=False, time=True)"
   ]
  },
  {
   "cell_type": "code",
   "execution_count": 13,
   "metadata": {
    "code_folding": [
     7
    ]
   },
   "outputs": [],
   "source": [
    "import calendar\n",
    "\n",
    "# Conditional on time of day: morning=1, afternoon=2, evening=3, night=4\n",
    "# Conditional on time of day: spring=1, summer=2, fall=3, winter=4\n",
    "# Conditional on time of day: clear/few clouds=1, light snow/light rain=2, \n",
    "#                             light snow/light rain=3, heavy rain/ice pallets=4\n",
    "\n",
    "def custom_dateinfo(data):\n",
    "    data = data.copy()\n",
    "    data['Year'] = data['Year'].astype('object')\n",
    "    data['Month'] = data['Month'].apply(lambda x: calendar.month_abbr[x])\n",
    "    \n",
    "    dayofweek_name = {0:'Monday', 1:'Tuesday', 2:'Wednesday', 3:'Thursday', 4:'Friday', 5:'Saturday', 6:'Sunday'}\n",
    "    data['Dayofweek'] = data['Dayofweek'].map(dayofweek_name)\n",
    "    data['Weekofyear'] = data['datetime'].dt.weekofyear\n",
    "    data['Weekend'] = data['Dayofweek'].map(lambda x: \"Yes\" if int(x in [5,6]) else \"No\")\n",
    "    \n",
    "    # Creatinga new column that identifies the time of the day (morning, afternoon, evening)\n",
    "    time_of_day_conds = [\n",
    "        ((data['Hour'] >=  5) & (data['Hour'] < 12)),\n",
    "        ((data['Hour'] >=  12) & (data['Hour'] < 17)),\n",
    "        ((data['Hour'] >=  17) & (data['Hour'] < 21))]\n",
    "    time_of_days = [\"morning\", \"afternoon\", \"evening\"]\n",
    "    data['Timeofday'] = np.select(time_of_day_conds, time_of_days, default=\"night\")\n",
    "    \n",
    "    # Creating a T/F boolean variable to check whether if it workday\n",
    "    data['Rush_Workday'] = data['Dayofweek'].map(lambda x: \"Yes\" if int(x in [0,1,2,3,4]) else \"No\")\n",
    "    \n",
    "    # Creating a T/F boolean variable to check whether it is rush_hour on a workday\n",
    "    rush_hours = [8, 9, 10, 16, 17, 18]\n",
    "    data['Rush_Hour'] = data.apply(lambda x: \"Yes\" if x['Rush_Workday'] == 1 \n",
    "                                   and x['hour'] in rush_hours else \"No\", axis=1)\n",
    "    \n",
    "    # Modifying the 'season' column\n",
    "    seasons_to_rename = {1: 'spring', 2: 'summer', 3: 'fall', 4: 'winter'}\n",
    "    data['season'] = data['season'].map(seasons_to_rename)\n",
    "    \n",
    "    # Modifying the 'weather' column\n",
    "    weather_to_rename = {1: 'clear/few clouds', 2: 'mist/cloudy', \n",
    "                         3: 'light snow/light rain', 4: 'heavy rain/ice pallets'}\n",
    "    data['weather'] = data['weather'].map(weather_to_rename)\n",
    "        \n",
    "    return data"
   ]
  },
  {
   "cell_type": "code",
   "execution_count": 14,
   "metadata": {},
   "outputs": [],
   "source": [
    "data = custom_dateinfo(data)"
   ]
  },
  {
   "cell_type": "code",
   "execution_count": 15,
   "metadata": {},
   "outputs": [],
   "source": [
    "# Calculating the total count for season & holiday (for count, registered, and casual)\n",
    "\n",
    "def agg_cols(data, col_to_agg, col_by, col_to_name):\n",
    "    data = data.copy()\n",
    "    count = data[data['data_source'] == \"train_set\"].groupby(col_to_agg)[[col_by]].agg(sum)\n",
    "    count.columns = [col_to_name]\n",
    "    data = data.join(count, on=col_to_agg)\n",
    "    return data\n"
   ]
  },
  {
   "cell_type": "code",
   "execution_count": 16,
   "metadata": {},
   "outputs": [],
   "source": [
    "data = agg_cols(data, 'season', 'count', 'count_by_season')\n",
    "data = agg_cols(data, 'season', 'casual', 'casual_by_season')\n",
    "data = agg_cols(data, 'season', 'registered', 'registered_by_season')\n",
    "data = agg_cols(data, 'holiday', 'count', 'count_by_holiday')\n",
    "data = agg_cols(data, 'holiday', 'casual', 'casual_by_holiday')\n",
    "data = agg_cols(data, 'holiday', 'registered', 'registered_by_holiday')"
   ]
  },
  {
   "cell_type": "markdown",
   "metadata": {},
   "source": [
    "## Data Visualization"
   ]
  },
  {
   "cell_type": "code",
   "execution_count": 17,
   "metadata": {
    "code_folding": [
     0,
     7
    ]
   },
   "outputs": [],
   "source": [
    "def plot_by_hour(x, predictor, year=None, agg='sum'):\n",
    "    dd = data.copy()\n",
    "    if year: dd = dd[dd.datetime.dt.year == year]\n",
    "    \n",
    "    by_hour = dd.groupby(['Hour', x])[predictor].agg(agg).unstack()\n",
    "    by_hour.plot(kind='bar', figsize=(15,3), width=0.9, title=\"Year = {0}\".format(year))\n",
    "\n",
    "def plot_by_year(agg_attr, predictor, title):\n",
    "    dd = data.copy()    \n",
    "    by_year = dd.groupby([agg_attr, 'year'])[predictor].agg('sum').unstack()\n",
    "    return by_year.plot(kind='bar', figsize=(15,3), width=0.9, title=title)"
   ]
  },
  {
   "cell_type": "code",
   "execution_count": 18,
   "metadata": {},
   "outputs": [
    {
     "name": "stderr",
     "output_type": "stream",
     "text": [
      "/Users/alexguanga/anaconda/lib/python3.6/site-packages/scipy/stats/stats.py:1713: FutureWarning: Using a non-tuple sequence for multidimensional indexing is deprecated; use `arr[tuple(seq)]` instead of `arr[seq]`. In the future this will be interpreted as an array index, `arr[np.array(seq)]`, which will result either in an error or a different result.\n",
      "  return np.add.reduce(sorted[indexer] * weights, axis=axis) / sumval\n"
     ]
    },
    {
     "data": {
      "image/png": "[encoded data removed]",
      "text/plain": [
       "<Figure size 1440x216 with 3 Axes>"
      ]
     },
     "metadata": {
      "needs_background": "light"
     },
     "output_type": "display_data"
    }
   ],
   "source": [
    "# Visualizing the distribution of potential target variables\n",
    "\n",
    "fig, axes = plt.subplots(1, 3, figsize = (20, 3), sharex=True, sharey=True)\n",
    "\n",
    "sns.distplot(train_set['count'], ax=axes[0])\n",
    "sns.distplot(train_set['casual'], ax=axes[1])\n",
    "sns.distplot(train_set['registered'], ax=axes[2])\n",
    "\n",
    "axes[0].set_title('Distribution: Count')\n",
    "axes[1].set_title('Distribution: Casual')\n",
    "axes[2].set_title('Distribution: Registered');"
   ]
  },
  {
   "cell_type": "code",
   "execution_count": 19,
   "metadata": {},
   "outputs": [
    {
     "name": "stderr",
     "output_type": "stream",
     "text": [
      "/Users/alexguanga/anaconda/lib/python3.6/site-packages/scipy/stats/stats.py:1713: FutureWarning: Using a non-tuple sequence for multidimensional indexing is deprecated; use `arr[tuple(seq)]` instead of `arr[seq]`. In the future this will be interpreted as an array index, `arr[np.array(seq)]`, which will result either in an error or a different result.\n",
      "  return np.add.reduce(sorted[indexer] * weights, axis=axis) / sumval\n"
     ]
    },
    {
     "data": {
      "image/png": "[encoded data removed]",
      "text/plain": [
       "<Figure size 1440x216 with 3 Axes>"
      ]
     },
     "metadata": {
      "needs_background": "light"
     },
     "output_type": "display_data"
    }
   ],
   "source": [
    "# Visualizing the distribution of our potential target variables\n",
    "\n",
    "fig, axes = plt.subplots(1, 3, figsize = (20, 3), sharex=True, sharey=True)\n",
    "\n",
    "sns.distplot(np.log1p(train_set['count']), ax=axes[0])\n",
    "sns.distplot(np.log1p(train_set['casual']), ax=axes[1])\n",
    "sns.distplot(np.log1p(train_set['registered']), ax=axes[2])\n",
    "\n",
    "axes[0].set_title('Distribution: Count (log)')\n",
    "axes[1].set_title('Distribution: Casual (log)')\n",
    "axes[2].set_title('Distribution: Registered (log)');"
   ]
  },
  {
   "cell_type": "markdown",
   "metadata": {},
   "source": [
    "#### Notes:\n",
    "- For casual, the # of bikes being used has a huge spike in the low-end\n",
    "- For registered, the distribution is more flat (indicating that registered users are more common at a daily level)\n",
    "- We are better calculating the log.1p to get a normal distribution. \n",
    "\n",
    "A logistic distribution better represents the data when the data is highly skewed. For example, if our data contained values like 0, 1, 10, and 100, well our data will be skewed by the 100. When transforming 0, 1, 10, and 100 in a logistic distrbution, we are normalizing the increases from 0, 1, 10, and 100:\n",
    "\n",
    "```python\n",
    "log_transform = [np.log1p(i) for i in [0, 1, 10, 100]]\n",
    "log_transform    \n",
    "    \n",
    "# Output: [0.0, 0.6931471805599453, 2.3978952727983707, 4.61512051684126]\n",
    "```"
   ]
  },
  {
   "cell_type": "code",
   "execution_count": 20,
   "metadata": {},
   "outputs": [
    {
     "name": "stderr",
     "output_type": "stream",
     "text": [
      "/Users/alexguanga/anaconda/lib/python3.6/site-packages/scipy/stats/stats.py:1713: FutureWarning: Using a non-tuple sequence for multidimensional indexing is deprecated; use `arr[tuple(seq)]` instead of `arr[seq]`. In the future this will be interpreted as an array index, `arr[np.array(seq)]`, which will result either in an error or a different result.\n",
      "  return np.add.reduce(sorted[indexer] * weights, axis=axis) / sumval\n"
     ]
    },
    {
     "data": {
      "image/png": "[encoded data removed]",
      "text/plain": [
       "<Figure size 1440x288 with 3 Axes>"
      ]
     },
     "metadata": {
      "needs_background": "light"
     },
     "output_type": "display_data"
    }
   ],
   "source": [
    "# Lets visualize the distribution of the windspeed, humidity, temp\n",
    "\n",
    "fig, axes = plt.subplots(1, 3, figsize=(20, 4), sharey=True)\n",
    "\n",
    "sns.distplot(data['humidity'], ax=axes[0])\n",
    "sns.distplot(data['windspeed'], ax=axes[1])\n",
    "sns.distplot(data['temp'], ax=axes[2])\n",
    "\n",
    "axes[0].set_title('Distribution: Humidity')\n",
    "axes[1].set_title('Distribution: Windspeed')\n",
    "axes[2].set_title('Distribution: Temp');"
   ]
  },
  {
   "cell_type": "code",
   "execution_count": 89,
   "metadata": {},
   "outputs": [
    {
     "data": {
      "text/plain": [
       "datetime              datetime64[ns]\n",
       "season                         int64\n",
       "holiday                        int64\n",
       "workingday                     int64\n",
       "weather                        int64\n",
       "temp                         float64\n",
       "humidity                       int64\n",
       "windspeed                    float64\n",
       "data_source                    int64\n",
       "Year                           int64\n",
       "Month                          int64\n",
       "Week                           int64\n",
       "Day                            int64\n",
       "Dayofweek                      int64\n",
       "Dayofyear                      int64\n",
       "Days_in_month                  int64\n",
       "is_leap_year                   int64\n",
       "Is_month_end                   int64\n",
       "Is_month_start                 int64\n",
       "Is_quarter_end                 int64\n",
       "Is_quarter_start               int64\n",
       "Is_year_end                    int64\n",
       "Is_year_start                  int64\n",
       "Hour                           int64\n",
       "Minute                         int64\n",
       "Second                         int64\n",
       "frac_week                    float64\n",
       "frac_month                   float64\n",
       "frac_year                    float64\n",
       "Elapsed                      float64\n",
       "Weekofyear                     int64\n",
       "Weekend                        int64\n",
       "Timeofday                      int64\n",
       "Rush_Workday                   int64\n",
       "Rush_Hour                      int64\n",
       "season_count                 float64\n",
       "season_casual                float64\n",
       "season_registered            float64\n",
       "holiday_count                float64\n",
       "holiday_casual               float64\n",
       "holiday_registered           float64\n",
       "casual_log                   float64\n",
       "registered_log               float64\n",
       "count_log                    float64\n",
       "dtype: object"
      ]
     },
     "execution_count": 89,
     "metadata": {},
     "output_type": "execute_result"
    }
   ],
   "source": [
    "data.dtypes"
   ]
  },
  {
   "cell_type": "code",
   "execution_count": 96,
   "metadata": {},
   "outputs": [
    {
     "data": {
      "image/png": "[encoded data removed]",
      "text/plain": [
       "<Figure size 864x288 with 1 Axes>"
      ]
     },
     "metadata": {
      "needs_background": "light"
     },
     "output_type": "display_data"
    }
   ],
   "source": [
    "# Visualizing boxplots\n",
    "plt.figure(figsize=(12,4))\n",
    "sns.boxplot(data=train_set[['temp', 'humidity', 'windspeed', 'casual', 'registered', 'count']])\n",
    "plt.show()"
   ]
  },
  {
   "cell_type": "code",
   "execution_count": 21,
   "metadata": {},
   "outputs": [
    {
     "data": {
      "image/png": "[encoded data removed]",
      "text/plain": [
       "<Figure size 1080x216 with 1 Axes>"
      ]
     },
     "metadata": {
      "needs_background": "light"
     },
     "output_type": "display_data"
    },
    {
     "data": {
      "image/png": "[encoded data removed]",
      "text/plain": [
       "<Figure size 1080x216 with 1 Axes>"
      ]
     },
     "metadata": {
      "needs_background": "light"
     },
     "output_type": "display_data"
    }
   ],
   "source": [
    "plot_by_hour('workingday', 'count', year=2011)\n",
    "plot_by_hour('workingday', 'count', year=2012)"
   ]
  },
  {
   "cell_type": "markdown",
   "metadata": {},
   "source": [
    "#### Notes:\n",
    "- Notice that we see there is an increase during peak hours in 2011 and 2012. "
   ]
  },
  {
   "cell_type": "code",
   "execution_count": 22,
   "metadata": {},
   "outputs": [
    {
     "data": {
      "image/png": "[encoded data removed]",
      "text/plain": [
       "<Figure size 1080x216 with 1 Axes>"
      ]
     },
     "metadata": {
      "needs_background": "light"
     },
     "output_type": "display_data"
    },
    {
     "data": {
      "image/png": "[encoded data removed]",
      "text/plain": [
       "<Figure size 1080x216 with 1 Axes>"
      ]
     },
     "metadata": {
      "needs_background": "light"
     },
     "output_type": "display_data"
    }
   ],
   "source": [
    "plot_by_hour('season', 'count', year=2011)\n",
    "plot_by_hour('season', 'count', year=2012)"
   ]
  },
  {
   "cell_type": "markdown",
   "metadata": {},
   "source": [
    "#### Notes\n",
    "- Every season has a similar trend except for the spring\n",
    "    -  1 = spring, 2 = summer, 3 = fall, 4 = winter \n"
   ]
  },
  {
   "cell_type": "code",
   "execution_count": 23,
   "metadata": {},
   "outputs": [
    {
     "data": {
      "image/png": "[encoded data removed]",
      "text/plain": [
       "<Figure size 1080x216 with 1 Axes>"
      ]
     },
     "metadata": {
      "needs_background": "light"
     },
     "output_type": "display_data"
    },
    {
     "data": {
      "image/png": "[encoded data removed]",
      "text/plain": [
       "<Figure size 1080x216 with 1 Axes>"
      ]
     },
     "metadata": {
      "needs_background": "light"
     },
     "output_type": "display_data"
    }
   ],
   "source": [
    "# - weather \n",
    "#    - 1: Clear, Few clouds, Partly cloudy, Partly cloudy \n",
    "#    - 2: Mist + Cloudy, Mist + Broken clouds, Mist + Few clouds, Mist \n",
    "#    - 3: Light Snow, Light Rain + Thunderstorm + Scattered clouds, Light Rain + Scattered clouds \n",
    "#    - 4: Heavy Rain + Ice Pallets + Thunderstorm + Mist, Snow + Fog \n",
    "\n",
    "plot_by_hour('weather', 'count', year=2011)\n",
    "plot_by_hour('weather', 'count', year=2012)"
   ]
  },
  {
   "cell_type": "markdown",
   "metadata": {},
   "source": [
    "#### Notes:\n",
    "- The season and weather visualization states that:\n",
    "    - All season follow a similar distribution along the x-axis (hours) but spring is has a signficant lesser count\n",
    "    - A clear weather attracts more people (higher count)"
   ]
  },
  {
   "cell_type": "code",
   "execution_count": 24,
   "metadata": {},
   "outputs": [
    {
     "data": {
      "image/png": "[encoded data removed]",
      "text/plain": [
       "<Figure size 1440x216 with 3 Axes>"
      ]
     },
     "metadata": {
      "needs_background": "light"
     },
     "output_type": "display_data"
    }
   ],
   "source": [
    "data['Dayofweek'] = data['Dayofweek'].map({\"Monday\": 1, \"Tuesday\": 2, \"Wednesday\": 3, \"Thursday\": 4, \n",
    "                                           \"Friday\": 5, \"Saturday\": 6,  \"Sunday\": 7})\n",
    "\n",
    "fig, axs = plt.subplots(1, 3, figsize=(20, 3))\n",
    "\n",
    "data.groupby('Dayofweek')['count'].sum().sort_index().plot.bar(color='R', ax=axs[0])\n",
    "data.groupby('Dayofweek')['casual'].sum().sort_index(ascending=True).plot.bar(color='R', ax=axs[1])\n",
    "data.groupby('Dayofweek')['registered'].sum().sort_index(ascending=True).plot.bar(color='R', ax=axs[2])\n",
    "\n",
    "axs[0].set_title('Count')\n",
    "axs[1].set_title('Casual')\n",
    "axs[2].set_title('Registered');"
   ]
  },
  {
   "cell_type": "markdown",
   "metadata": {},
   "source": [
    "#### Notes:\n",
    "- Casual users are more common in the weekend while registered users are more common in the weekdays"
   ]
  },
  {
   "cell_type": "markdown",
   "metadata": {},
   "source": [
    "## Data Cleaning"
   ]
  },
  {
   "cell_type": "code",
   "execution_count": 25,
   "metadata": {},
   "outputs": [],
   "source": [
    "np.warnings.filterwarnings('ignore')\n",
    "\n",
    "data['casual_log'] = np.log1p(data['casual'])\n",
    "data['registered_log'] = np.log1p(data['registered'])\n",
    "data['count_log'] = np.log1p(data['count'])\n",
    "\n",
    "data.drop(['casual', 'registered', 'count'], axis=1, inplace=True)"
   ]
  },
  {
   "cell_type": "markdown",
   "metadata": {},
   "source": [
    "## Model Selection: Correlation"
   ]
  },
  {
   "cell_type": "code",
   "execution_count": 26,
   "metadata": {},
   "outputs": [],
   "source": [
    "PREDICTORS = ['casual_log', 'registered_log', 'count_log']"
   ]
  },
  {
   "cell_type": "code",
   "execution_count": 27,
   "metadata": {},
   "outputs": [
    {
     "data": {
      "image/png": "[encoded data removed]",
      "text/plain": [
       "<Figure size 1440x864 with 3 Axes>"
      ]
     },
     "metadata": {
      "needs_background": "light"
     },
     "output_type": "display_data"
    }
   ],
   "source": [
    "# Correlation among the variables and the potential predictors\n",
    "corrs = data.corr()\n",
    "\n",
    "fig, axs = plt.subplots(3, 1, figsize=(20, 12), sharex=True)\n",
    "corrs['casual_log'].drop(PREDICTORS).plot.bar(color = 'b', ax=axs[0], title=\"Correlation: Casual\");\n",
    "corrs['registered_log'].drop(PREDICTORS).plot.bar(color = 'b', ax=axs[1], title=\"Correlation: Registered\");\n",
    "corrs['count_log'].drop(PREDICTORS).plot.bar(color = 'b', ax=axs[2], title=\"Correlation: Count\");"
   ]
  },
  {
   "cell_type": "markdown",
   "metadata": {},
   "source": [
    "#### Notes:\n",
    "- The top correlated variables with the predictors are Hour, Days_in_year, frac_day, Elapsed\n",
    "- The correlation values are similar throughout the three predictors with the exception of workingday"
   ]
  },
  {
   "cell_type": "code",
   "execution_count": 28,
   "metadata": {
    "code_folding": [
     0
    ]
   },
   "outputs": [],
   "source": [
    "def correlation(data, corr_by, remove_by=None, top_values=10):\n",
    "    data = data.copy()\n",
    "    corrs = data.corr()\n",
    "    if remove_by is None: remove_by = [corr_by]     \n",
    "        \n",
    "    vals = corrs[corr_by].drop(remove_by).sort_values().values\n",
    "    col = corrs[corr_by].drop(remove_by).sort_values().index\n",
    "    \n",
    "    df = pd.DataFrame({'columns': col, 'values': vals})\n",
    "    df['abs_vals'] = abs(df['values'])\n",
    "    \n",
    "    return df.sort_values(by='abs_vals', ascending=False)[:top_values]"
   ]
  },
  {
   "cell_type": "code",
   "execution_count": 29,
   "metadata": {},
   "outputs": [
    {
     "data": {
      "text/html": [
       "<div>\n",
       "<style scoped>\n",
       "    .dataframe tbody tr th:only-of-type {\n",
       "        vertical-align: middle;\n",
       "    }\n",
       "\n",
       "    .dataframe tbody tr th {\n",
       "        vertical-align: top;\n",
       "    }\n",
       "\n",
       "    .dataframe thead th {\n",
       "        text-align: right;\n",
       "    }\n",
       "</style>\n",
       "<table border=\"1\" class=\"dataframe\">\n",
       "  <thead>\n",
       "    <tr style=\"text-align: right;\">\n",
       "      <th></th>\n",
       "      <th>columns</th>\n",
       "      <th>values</th>\n",
       "      <th>abs_vals</th>\n",
       "    </tr>\n",
       "  </thead>\n",
       "  <tbody>\n",
       "    <tr>\n",
       "      <th>28</th>\n",
       "      <td>temp</td>\n",
       "      <td>0.562596</td>\n",
       "      <td>0.562596</td>\n",
       "    </tr>\n",
       "    <tr>\n",
       "      <th>27</th>\n",
       "      <td>atemp</td>\n",
       "      <td>0.559950</td>\n",
       "      <td>0.559950</td>\n",
       "    </tr>\n",
       "    <tr>\n",
       "      <th>26</th>\n",
       "      <td>frac_day</td>\n",
       "      <td>0.486784</td>\n",
       "      <td>0.486784</td>\n",
       "    </tr>\n",
       "    <tr>\n",
       "      <th>25</th>\n",
       "      <td>Hour</td>\n",
       "      <td>0.486784</td>\n",
       "      <td>0.486784</td>\n",
       "    </tr>\n",
       "    <tr>\n",
       "      <th>0</th>\n",
       "      <td>humidity</td>\n",
       "      <td>-0.366263</td>\n",
       "      <td>0.366263</td>\n",
       "    </tr>\n",
       "    <tr>\n",
       "      <th>24</th>\n",
       "      <td>season_casual</td>\n",
       "      <td>0.362035</td>\n",
       "      <td>0.362035</td>\n",
       "    </tr>\n",
       "    <tr>\n",
       "      <th>23</th>\n",
       "      <td>season_count</td>\n",
       "      <td>0.353901</td>\n",
       "      <td>0.353901</td>\n",
       "    </tr>\n",
       "    <tr>\n",
       "      <th>22</th>\n",
       "      <td>season_registered</td>\n",
       "      <td>0.332353</td>\n",
       "      <td>0.332353</td>\n",
       "    </tr>\n",
       "    <tr>\n",
       "      <th>21</th>\n",
       "      <td>frac_week</td>\n",
       "      <td>0.232573</td>\n",
       "      <td>0.232573</td>\n",
       "    </tr>\n",
       "    <tr>\n",
       "      <th>1</th>\n",
       "      <td>workingday</td>\n",
       "      <td>-0.208715</td>\n",
       "      <td>0.208715</td>\n",
       "    </tr>\n",
       "  </tbody>\n",
       "</table>\n",
       "</div>"
      ],
      "text/plain": [
       "              columns    values  abs_vals\n",
       "28               temp  0.562596  0.562596\n",
       "27              atemp  0.559950  0.559950\n",
       "26           frac_day  0.486784  0.486784\n",
       "25               Hour  0.486784  0.486784\n",
       "0            humidity -0.366263  0.366263\n",
       "24      season_casual  0.362035  0.362035\n",
       "23       season_count  0.353901  0.353901\n",
       "22  season_registered  0.332353  0.332353\n",
       "21          frac_week  0.232573  0.232573\n",
       "1          workingday -0.208715  0.208715"
      ]
     },
     "execution_count": 29,
     "metadata": {},
     "output_type": "execute_result"
    }
   ],
   "source": [
    "correlation(data, 'casual_log', remove_by=PREDICTORS)"
   ]
  },
  {
   "cell_type": "code",
   "execution_count": 30,
   "metadata": {},
   "outputs": [
    {
     "data": {
      "text/html": [
       "<div>\n",
       "<style scoped>\n",
       "    .dataframe tbody tr th:only-of-type {\n",
       "        vertical-align: middle;\n",
       "    }\n",
       "\n",
       "    .dataframe tbody tr th {\n",
       "        vertical-align: top;\n",
       "    }\n",
       "\n",
       "    .dataframe thead th {\n",
       "        text-align: right;\n",
       "    }\n",
       "</style>\n",
       "<table border=\"1\" class=\"dataframe\">\n",
       "  <thead>\n",
       "    <tr style=\"text-align: right;\">\n",
       "      <th></th>\n",
       "      <th>columns</th>\n",
       "      <th>values</th>\n",
       "      <th>abs_vals</th>\n",
       "    </tr>\n",
       "  </thead>\n",
       "  <tbody>\n",
       "    <tr>\n",
       "      <th>28</th>\n",
       "      <td>Hour</td>\n",
       "      <td>0.572704</td>\n",
       "      <td>0.572704</td>\n",
       "    </tr>\n",
       "    <tr>\n",
       "      <th>27</th>\n",
       "      <td>frac_day</td>\n",
       "      <td>0.572704</td>\n",
       "      <td>0.572704</td>\n",
       "    </tr>\n",
       "    <tr>\n",
       "      <th>26</th>\n",
       "      <td>temp</td>\n",
       "      <td>0.330701</td>\n",
       "      <td>0.330701</td>\n",
       "    </tr>\n",
       "    <tr>\n",
       "      <th>25</th>\n",
       "      <td>atemp</td>\n",
       "      <td>0.326022</td>\n",
       "      <td>0.326022</td>\n",
       "    </tr>\n",
       "    <tr>\n",
       "      <th>0</th>\n",
       "      <td>humidity</td>\n",
       "      <td>-0.317667</td>\n",
       "      <td>0.317667</td>\n",
       "    </tr>\n",
       "    <tr>\n",
       "      <th>24</th>\n",
       "      <td>Elapsed</td>\n",
       "      <td>0.246150</td>\n",
       "      <td>0.246150</td>\n",
       "    </tr>\n",
       "    <tr>\n",
       "      <th>23</th>\n",
       "      <td>season_registered</td>\n",
       "      <td>0.196908</td>\n",
       "      <td>0.196908</td>\n",
       "    </tr>\n",
       "    <tr>\n",
       "      <th>22</th>\n",
       "      <td>season_count</td>\n",
       "      <td>0.192971</td>\n",
       "      <td>0.192971</td>\n",
       "    </tr>\n",
       "    <tr>\n",
       "      <th>21</th>\n",
       "      <td>is_leap_year</td>\n",
       "      <td>0.189234</td>\n",
       "      <td>0.189234</td>\n",
       "    </tr>\n",
       "    <tr>\n",
       "      <th>20</th>\n",
       "      <td>Days_in_year</td>\n",
       "      <td>0.189234</td>\n",
       "      <td>0.189234</td>\n",
       "    </tr>\n",
       "  </tbody>\n",
       "</table>\n",
       "</div>"
      ],
      "text/plain": [
       "              columns    values  abs_vals\n",
       "28               Hour  0.572704  0.572704\n",
       "27           frac_day  0.572704  0.572704\n",
       "26               temp  0.330701  0.330701\n",
       "25              atemp  0.326022  0.326022\n",
       "0            humidity -0.317667  0.317667\n",
       "24            Elapsed  0.246150  0.246150\n",
       "23  season_registered  0.196908  0.196908\n",
       "22       season_count  0.192971  0.192971\n",
       "21       is_leap_year  0.189234  0.189234\n",
       "20       Days_in_year  0.189234  0.189234"
      ]
     },
     "execution_count": 30,
     "metadata": {},
     "output_type": "execute_result"
    }
   ],
   "source": [
    "correlation(data, 'registered_log', remove_by=PREDICTORS)"
   ]
  },
  {
   "cell_type": "code",
   "execution_count": 31,
   "metadata": {},
   "outputs": [
    {
     "data": {
      "text/html": [
       "<div>\n",
       "<style scoped>\n",
       "    .dataframe tbody tr th:only-of-type {\n",
       "        vertical-align: middle;\n",
       "    }\n",
       "\n",
       "    .dataframe tbody tr th {\n",
       "        vertical-align: top;\n",
       "    }\n",
       "\n",
       "    .dataframe thead th {\n",
       "        text-align: right;\n",
       "    }\n",
       "</style>\n",
       "<table border=\"1\" class=\"dataframe\">\n",
       "  <thead>\n",
       "    <tr style=\"text-align: right;\">\n",
       "      <th></th>\n",
       "      <th>columns</th>\n",
       "      <th>values</th>\n",
       "      <th>abs_vals</th>\n",
       "    </tr>\n",
       "  </thead>\n",
       "  <tbody>\n",
       "    <tr>\n",
       "      <th>28</th>\n",
       "      <td>Hour</td>\n",
       "      <td>0.570638</td>\n",
       "      <td>0.570638</td>\n",
       "    </tr>\n",
       "    <tr>\n",
       "      <th>27</th>\n",
       "      <td>frac_day</td>\n",
       "      <td>0.570638</td>\n",
       "      <td>0.570638</td>\n",
       "    </tr>\n",
       "    <tr>\n",
       "      <th>26</th>\n",
       "      <td>temp</td>\n",
       "      <td>0.376587</td>\n",
       "      <td>0.376587</td>\n",
       "    </tr>\n",
       "    <tr>\n",
       "      <th>25</th>\n",
       "      <td>atemp</td>\n",
       "      <td>0.372167</td>\n",
       "      <td>0.372167</td>\n",
       "    </tr>\n",
       "    <tr>\n",
       "      <th>0</th>\n",
       "      <td>humidity</td>\n",
       "      <td>-0.333158</td>\n",
       "      <td>0.333158</td>\n",
       "    </tr>\n",
       "    <tr>\n",
       "      <th>24</th>\n",
       "      <td>Elapsed</td>\n",
       "      <td>0.237444</td>\n",
       "      <td>0.237444</td>\n",
       "    </tr>\n",
       "    <tr>\n",
       "      <th>23</th>\n",
       "      <td>season_count</td>\n",
       "      <td>0.223818</td>\n",
       "      <td>0.223818</td>\n",
       "    </tr>\n",
       "    <tr>\n",
       "      <th>22</th>\n",
       "      <td>season_registered</td>\n",
       "      <td>0.223127</td>\n",
       "      <td>0.223127</td>\n",
       "    </tr>\n",
       "    <tr>\n",
       "      <th>21</th>\n",
       "      <td>season_casual</td>\n",
       "      <td>0.200552</td>\n",
       "      <td>0.200552</td>\n",
       "    </tr>\n",
       "    <tr>\n",
       "      <th>20</th>\n",
       "      <td>is_leap_year</td>\n",
       "      <td>0.178236</td>\n",
       "      <td>0.178236</td>\n",
       "    </tr>\n",
       "  </tbody>\n",
       "</table>\n",
       "</div>"
      ],
      "text/plain": [
       "              columns    values  abs_vals\n",
       "28               Hour  0.570638  0.570638\n",
       "27           frac_day  0.570638  0.570638\n",
       "26               temp  0.376587  0.376587\n",
       "25              atemp  0.372167  0.372167\n",
       "0            humidity -0.333158  0.333158\n",
       "24            Elapsed  0.237444  0.237444\n",
       "23       season_count  0.223818  0.223818\n",
       "22  season_registered  0.223127  0.223127\n",
       "21      season_casual  0.200552  0.200552\n",
       "20       is_leap_year  0.178236  0.178236"
      ]
     },
     "execution_count": 31,
     "metadata": {},
     "output_type": "execute_result"
    }
   ],
   "source": [
    "correlation(data, 'count_log', remove_by=PREDICTORS)"
   ]
  },
  {
   "cell_type": "markdown",
   "metadata": {},
   "source": [
    "## Data Cleaning: Removing Columns"
   ]
  },
  {
   "cell_type": "markdown",
   "metadata": {},
   "source": [
    "#### Notes:\n",
    "- After checking the correlations values, there are a couple of columns that represent the same information. Some of the redudant columns are:\n",
    "    - Hour and frac_day\n",
    "    - temp and atemp\n",
    "    - Days_in_year and is_leap_year"
   ]
  },
  {
   "cell_type": "code",
   "execution_count": 32,
   "metadata": {},
   "outputs": [],
   "source": [
    "data.drop(['frac_day', 'atemp', 'Days_in_year'], axis=1, inplace=True)"
   ]
  },
  {
   "cell_type": "markdown",
   "metadata": {},
   "source": [
    "## Data Cleaning: Encoding Columns\n",
    "\n",
    "To labelencode categorical variables, we will be using `LabelEncoder()`"
   ]
  },
  {
   "cell_type": "code",
   "execution_count": 33,
   "metadata": {},
   "outputs": [],
   "source": [
    "from sklearn import preprocessing\n",
    "\n",
    "# Extracting the columns that will be encoded\n",
    "object_cols = data.select_dtypes('object').columns.tolist()\n",
    "bool_cols = data.select_dtypes('bool').columns.tolist()\n",
    "encoded_cols = object_cols+bool_cols\n",
    "\n",
    "from collections import defaultdict\n",
    "\n",
    "d = defaultdict(preprocessing.LabelEncoder)\n",
    "data[encoded_cols] = data[encoded_cols].apply(lambda x: d[x.name].fit_transform(x))"
   ]
  },
  {
   "cell_type": "markdown",
   "metadata": {},
   "source": [
    "## Feature Enginnering"
   ]
  },
  {
   "cell_type": "code",
   "execution_count": null,
   "metadata": {},
   "outputs": [],
   "source": [
    "data['hr_sin'] = np.sin(data['Hour']*(2.*np.pi/24))\n",
    "data['hr_cos'] = np.cos(data['Hour']*(2.*np.pi/24))\n",
    "data['mnth_sin'] = np.sin((data['Month']-1)*(2.*np.pi/12))\n",
    "data['mnth_cos'] = np.cos((data['Month']-1)*(2.*np.pi/12))"
   ]
  },
  {
   "cell_type": "code",
   "execution_count": 103,
   "metadata": {},
   "outputs": [],
   "source": [
    "'''train_on['hr_sin'] = np.sin(train_on['Hour']*(2.*np.pi/24))\n",
    "train_on['hr_cos'] = np.cos(train_on['Hour']*(2.*np.pi/24))\n",
    "train_on['mnth_sin'] = np.sin((train_on['Month']-1)*(2.*np.pi/12))\n",
    "train_on['mnth_cos'] = np.cos((train_on['Month']-1)*(2.*np.pi/12))\n",
    "\n",
    "test_on['hr_sin'] = np.sin(test_on['Hour']*(2.*np.pi/24))\n",
    "test_on['hr_cos'] = np.cos(test_on['Hour']*(2.*np.pi/24))\n",
    "test_on['mnth_sin'] = np.sin((test_on['Month']-1)*(2.*np.pi/12))\n",
    "test_on['mnth_cos'] = np.cos((test_on['Month']-1)*(2.*np.pi/12))'''"
   ]
  },
  {
   "cell_type": "markdown",
   "metadata": {},
   "source": [
    "## Data Modeling"
   ]
  },
  {
   "cell_type": "code",
   "execution_count": 34,
   "metadata": {},
   "outputs": [
    {
     "name": "stderr",
     "output_type": "stream",
     "text": [
      "/Users/alexguanga/anaconda/lib/python3.6/site-packages/sklearn/ensemble/weight_boosting.py:29: DeprecationWarning: numpy.core.umath_tests is an internal NumPy module and should not be imported. It will be removed in a future NumPy release.\n",
      "  from numpy.core.umath_tests import inner1d\n"
     ]
    }
   ],
   "source": [
    "from sklearn.ensemble import RandomForestRegressor, GradientBoostingRegressor\n",
    "from sklearn.model_selection import cross_val_score\n",
    "from sklearn.metrics import make_scorer\n",
    "import xgboost as xgb\n",
    "\n",
    "from sklearn.model_selection import GridSearchCV, RandomizedSearchCV, cross_val_score\n",
    "\n",
    "# There are some internal error with Xgboost, this is the way around it\n",
    "import os\n",
    "os.environ['KMP_DUPLICATE_LIB_OK']='True'"
   ]
  },
  {
   "cell_type": "code",
   "execution_count": 35,
   "metadata": {},
   "outputs": [],
   "source": [
    "sum_count = train_set['count'].sum()\n",
    "sum_casual = train_set['casual'].sum()\n",
    "sum_registered = train_set['registered'].sum()"
   ]
  },
  {
   "cell_type": "code",
   "execution_count": 36,
   "metadata": {},
   "outputs": [
    {
     "name": "stdout",
     "output_type": "stream",
     "text": [
      "Casual to Count Ratio: 0.19\n",
      "Registered to Count Ratio: 0.81\n"
     ]
    }
   ],
   "source": [
    "# A rough estimate of our weights to casual & registered\n",
    "print(f\"Casual to Count Ratio: {sum_casual/sum_count:.2f}\")\n",
    "print(f\"Registered to Count Ratio: {sum_registered/sum_count:.2f}\")"
   ]
  },
  {
   "cell_type": "code",
   "execution_count": 37,
   "metadata": {},
   "outputs": [],
   "source": [
    "# Will need the test_datetime when we are submitting the predictions\n",
    "test_datetime = data.loc[data['count_log'].isnull(), \"datetime\"]\n",
    "\n",
    "# Returns the target variable for the training set\n",
    "def get_train_labels(data, predictors):\n",
    "    labels = [np.array(list(data.loc[data[p].notnull(), p])) for p in predictors]\n",
    "    return labels"
   ]
  },
  {
   "cell_type": "code",
   "execution_count": 38,
   "metadata": {},
   "outputs": [],
   "source": [
    "# Extracting the target variable without encoding(we will have 3 for this dataset)\n",
    "train_label_cnt, train_label_reg, train_label_cas = get_train_labels(\n",
    "    data, ['count_log', 'registered_log', 'casual_log'])"
   ]
  },
  {
   "cell_type": "code",
   "execution_count": 39,
   "metadata": {},
   "outputs": [],
   "source": [
    "# Columns that will be dropped from the dataset (predictors & time)\n",
    "cols_to_drop = ['count_log', 'registered_log', 'casual_log', 'datetime',]\n",
    "\n",
    "# Calculating the training set for the two dataframes \n",
    "train_on = data.loc[data['count_log'].notnull()]\n",
    "train_on.drop(cols_to_drop, axis=1, inplace=True)\n",
    "\n",
    "# Calculating the testing set for the two dataframes\n",
    "test_on = data.loc[data['count_log'].isnull()]\n",
    "test_on.drop(cols_to_drop, axis=1, inplace=True)"
   ]
  },
  {
   "cell_type": "code",
   "execution_count": 40,
   "metadata": {},
   "outputs": [
    {
     "name": "stdout",
     "output_type": "stream",
     "text": [
      "The shape of the training set (without encoders) is (10886, 40)\n"
     ]
    }
   ],
   "source": [
    "print(f\"The shape of the training set (without encoders) is {train_on.shape}\")"
   ]
  },
  {
   "cell_type": "code",
   "execution_count": 41,
   "metadata": {
    "code_folding": []
   },
   "outputs": [],
   "source": [
    "# Custom scorer that will be used to measure performance\n",
    "def rmse(actual, predicted):        \n",
    "    assert len(actual) == len(predicted)\n",
    "    return np.sqrt(np.mean(np.power((actual)-(predicted), 2)))\n",
    "\n",
    "def rmse_log(actual, predicted):\n",
    "    assert len(actual) == len(predicted)\n",
    "    sle = (np.power(np.log(np.array((actual))+1) - np.log(np.array(np.abs(predicted))+1), 2))\n",
    "    msle = np.mean(sle)\n",
    "    return np.sqrt(msle)"
   ]
  },
  {
   "cell_type": "code",
   "execution_count": 42,
   "metadata": {},
   "outputs": [],
   "source": [
    "scorer = make_scorer(rmse_log, greater_is_better=False)"
   ]
  },
  {
   "cell_type": "code",
   "execution_count": 43,
   "metadata": {},
   "outputs": [],
   "source": [
    "MODELS = {\"Random Forest\": RandomForestRegressor(n_jobs=-1),\n",
    "          \"XGBoost\": xgb.XGBRegressor(n_jobs=-1), \n",
    "          \"Gradient Boosting\": GradientBoostingRegressor()}"
   ]
  },
  {
   "cell_type": "code",
   "execution_count": 44,
   "metadata": {},
   "outputs": [],
   "source": [
    "def run_models_cv(data, labels, model, cv=10):\n",
    "    cv_score = cross_val_score(model, data, labels, cv=cv, scoring=scorer)\n",
    "    print(f\"10-Fold CV RMSE = {round(np.abs(cv_score.mean()), 4)} & Std. deviation = {round(cv_score.std(), 4)}\")"
   ]
  },
  {
   "cell_type": "code",
   "execution_count": 100,
   "metadata": {},
   "outputs": [
    {
     "name": "stdout",
     "output_type": "stream",
     "text": [
      "Random Forest\n",
      "10-Fold CV RMSE = 0.0986 & Std. deviation = 0.0266\n",
      "----------\n",
      "XGBoost\n",
      "10-Fold CV RMSE = 0.0954 & Std. deviation = 0.0221\n",
      "----------\n",
      "Gradient Boosting\n",
      "10-Fold CV RMSE = 0.0965 & Std. deviation = 0.0248\n",
      "----------\n"
     ]
    }
   ],
   "source": [
    "for model_name, model in MODELS.items():\n",
    "    print(f\"{model_name}\")\n",
    "    run_models_cv(train_on, train_label_cnt, model)\n",
    "    print(\"----------\")\n",
    "    "
   ]
  },
  {
   "cell_type": "markdown",
   "metadata": {},
   "source": [
    "#### Notes\n",
    "- I would like to use all theree target variables to make predictions.\n",
    "- However, finding the appropriate weight to each of the target variables is more complicated than it seems.\n",
    "- I am going to make two prediction (to gain a better understanding of their performance)\n",
    "    1. Add the Casual + Registered predictions\n",
    "    2. Use the Count predictions"
   ]
  },
  {
   "cell_type": "code",
   "execution_count": 46,
   "metadata": {
    "code_folding": []
   },
   "outputs": [],
   "source": [
    "def feat_df(feats, cols):\n",
    "    return pd.DataFrame(feats, index=cols, columns=['importance']).sort_values('importance', ascending=False)\n",
    "\n",
    "def get_predict(model, train_on, train_labels, test_on, test_ids):\n",
    "    model.fit(train_on, train_labels)\n",
    "    \n",
    "    predict = model.predict(test_on)\n",
    "    predict = np.exp(predict) - 1\n",
    "    \n",
    "    sub = pd.DataFrame({'datetime': test_ids, 'count': predict.astype(int)})\n",
    "    return sub\n",
    "\n",
    "def random_search(model, params, train_on, train_labels, cv=5):\n",
    "    train_on = train_on.values\n",
    "    rs = RandomizedSearchCV(model, param_distributions=params, scoring=scorer, cv=cv)\n",
    "    \n",
    "    # Train the model\n",
    "    rs.fit(train_on, train_labels)\n",
    "    return rs"
   ]
  },
  {
   "cell_type": "code",
   "execution_count": 54,
   "metadata": {},
   "outputs": [],
   "source": [
    "def run_model(model_1, model_2, params, train_on):\n",
    "    train_on = train_on.copy()\n",
    "    train_labels = {'Train (Count)': train_label_cnt, \n",
    "                    'Train (Reg)': train_label_reg,\n",
    "                    'Train (Casual)': train_label_cas}\n",
    "    \n",
    "    columns = train_on.columns\n",
    "    \n",
    "    params_feat, params_all = {}, {}\n",
    "    predict_feat, predict_all = {}, {}\n",
    "    \n",
    "    for label_name, train_label in train_labels.items():\n",
    "        \n",
    "        model_search = random_search(model_1, params, train_on, train_label, cv=5)\n",
    "        best_params, best_score = model_search.best_params_, model_search.best_score_\n",
    "        \n",
    "        print(f\"Best Params. for {str(label_name)} (all-in columns): {best_params}\")\n",
    "        print(f\"Best Score for {str(label_name)} (all-in columns): {np.abs(best_score):.2f}\")\n",
    "        params_feat[str(label_name)] = best_params\n",
    "        \n",
    "        model = model_2(**best_params)\n",
    "        model.fit(train_on, train_label)\n",
    "        \n",
    "        # Creating predictions with all variables\n",
    "        predict = get_predict(model, train_on, train_label, test_on, test_datetime)\n",
    "        predict_all[str(label_name)] = predict\n",
    "        \n",
    "        imp_cols = feat_df(model.feature_importances_, columns)\n",
    "        imp_cols = imp_cols[imp_cols['importance'] > 0].index\n",
    "        \n",
    "        model_search = random_search(model_1, params, train_on[imp_cols], train_label, cv=5)\n",
    "        best_params, best_score = model_search.best_params_, model_search.best_score_\n",
    "              \n",
    "        print(f\"Best Params. for {str(label_name)} (feat. selection): {best_params}\")\n",
    "        print(f\"Best Score for {str(label_name)} (feat. selection): {np.abs(best_score):.2f}\\n\")\n",
    "        params_all[str(label_name)] = best_params\n",
    "        \n",
    "        model = model_2(**best_params)\n",
    "        model.fit(train_on, train_label)\n",
    "        \n",
    "        # Creating predicition with the feature selections\n",
    "        predict = get_predict(model, train_on[imp_cols], train_label, test_on[imp_cols], test_datetime)\n",
    "        predict_feat[str(label_name)] = predict\n",
    "    \n",
    "    return [params_feat, params_all, predict_feat, predict_all] "
   ]
  },
  {
   "cell_type": "code",
   "execution_count": 55,
   "metadata": {},
   "outputs": [],
   "source": [
    "xgb_model_1 = xgb.XGBRegressor(n_jobs=-1)\n",
    "xgb_model_2 = xgb.XGBRegressor\n",
    "xgb_params = {\"learning_rate\": [0.05, 0.10, 0.15, 0.20, 0.25, 0.30],\n",
    "              \"max_depth\": [3, 4, 5, 6, 8, 10, 12, 15],\n",
    "              \"min_child_weight\": [1, 3, 5, 7],\n",
    "              \"gamma\": [0.0, 0.1, 0.2 , 0.3, 0.4],\n",
    "              \"colsample_bytree\": [0.3, 0.4, 0.5 , 0.7]}"
   ]
  },
  {
   "cell_type": "code",
   "execution_count": 107,
   "metadata": {},
   "outputs": [
    {
     "name": "stdout",
     "output_type": "stream",
     "text": [
      "Best Params. for Train (Count) (all-in columns): {'min_child_weight': 7, 'max_depth': 8, 'learning_rate': 0.1, 'gamma': 0.4, 'colsample_bytree': 0.7}\n",
      "Best Score for Train (Count) (all-in columns): 0.10\n",
      "Best Params. for Train (Count) (feat. selection): {'min_child_weight': 5, 'max_depth': 5, 'learning_rate': 0.2, 'gamma': 0.2, 'colsample_bytree': 0.4}\n",
      "Best Score for Train (Count) (feat. selection): 0.09\n",
      "\n",
      "Best Params. for Train (Reg) (all-in columns): {'min_child_weight': 5, 'max_depth': 5, 'learning_rate': 0.1, 'gamma': 0.0, 'colsample_bytree': 0.7}\n",
      "Best Score for Train (Reg) (all-in columns): 0.10\n",
      "Best Params. for Train (Reg) (feat. selection): {'min_child_weight': 5, 'max_depth': 5, 'learning_rate': 0.15, 'gamma': 0.4, 'colsample_bytree': 0.7}\n",
      "Best Score for Train (Reg) (feat. selection): 0.10\n",
      "\n",
      "Best Params. for Train (Casual) (all-in columns): {'min_child_weight': 1, 'max_depth': 5, 'learning_rate': 0.15, 'gamma': 0.2, 'colsample_bytree': 0.5}\n",
      "Best Score for Train (Casual) (all-in columns): 0.24\n",
      "Best Params. for Train (Casual) (feat. selection): {'min_child_weight': 7, 'max_depth': 8, 'learning_rate': 0.1, 'gamma': 0.2, 'colsample_bytree': 0.7}\n",
      "Best Score for Train (Casual) (feat. selection): 0.24\n",
      "\n"
     ]
    }
   ],
   "source": [
    "xgb_feat_param, xgb_all_param, xgb_feat_predict, xgb_all_predict = run_model(xgb_model_1, xgb_model_2, \n",
    "                                                                             xgb_params, train_on)"
   ]
  },
  {
   "cell_type": "code",
   "execution_count": 108,
   "metadata": {},
   "outputs": [],
   "source": [
    "xgb_all_predict['Train (Count)'].to_csv(\"./saved_submissions/xgb-all_12-26-18.csv\", index=False)\n",
    "xgb_feat_predict['Train (Count)'].to_csv(\"./saved_submissions/xgb-feat_12-26-18.csv\", index=False)"
   ]
  },
  {
   "cell_type": "code",
   "execution_count": 109,
   "metadata": {},
   "outputs": [],
   "source": [
    "# Registered+Casual submission\n",
    "xgb_predict = (xgb_all_predict['Train (Casual)']['count'] + xgb_all_predict['Train (Reg)']['count']).astype(int)\n",
    "xgb_sum_submit = pd.DataFrame({'datetime': test_datetime, 'count': xgb_predict.astype(int)})\n",
    "xgb_sum_submit.to_csv(\"./saved_submissions/xgb-all-sum_12-26-18.csv\", index=False)\n",
    "\n",
    "# Registered+Casual submission\n",
    "xgb_predict = (xgb_feat_predict['Train (Casual)']['count'] + xgb_feat_predict['Train (Reg)']['count']).astype(int)\n",
    "xgb_sum_submit = pd.DataFrame({'datetime': test_datetime, 'count': xgb_predict.astype(int)})\n",
    "xgb_sum_submit.to_csv(\"./saved_submissions/xgb-feat-sum_12-26-18.csv\", index=False)"
   ]
  },
  {
   "cell_type": "markdown",
   "metadata": {},
   "source": [
    "#### Notes:\n",
    "- One thing to keep in ind is that I am creating the logistic transformation on the predictor variables. However, I am also calculating the error on the predictors."
   ]
  },
  {
   "cell_type": "markdown",
   "metadata": {},
   "source": [
    "#### Scoring: (remove cyclical datetimes for the first result)\n",
    "- `xgb_all_predict['Train (Count)']` = 0.44661 (0.42405)\n",
    "- `xgb_feat_predict['Train (Count)']` = 0.42318 (0.43072)\n",
    "- `xgb_sum` (all-in) = 0.41750 (0.42528)\n",
    "- `xgb_sum` (feat) = 0.43735 (0.42444)"
   ]
  },
  {
   "cell_type": "code",
   "execution_count": 59,
   "metadata": {},
   "outputs": [],
   "source": [
    "gb_model_1 = GradientBoostingRegressor()\n",
    "gb_model_2 = GradientBoostingRegressor\n",
    "gb_params = {\"learning_rate\": [0.05, 0.10, 0.15, 0.20, 0.25, 0.30],\n",
    "             \"n_estimators\": [32, 64, 100, 150, 200],\n",
    "             \"max_depth\": np.linspace(1, 32, 32, endpoint=True),\n",
    "             \"min_samples_split\": np.linspace(0.1, 1.0, 10, endpoint=True),\n",
    "             \"min_samples_leaf\": [2, 4, 6, 8, 10, 12, 14]}"
   ]
  },
  {
   "cell_type": "code",
   "execution_count": 60,
   "metadata": {},
   "outputs": [
    {
     "name": "stdout",
     "output_type": "stream",
     "text": [
      "Best Params. for Train (Count) (all-in columns): {'n_estimators': 100, 'min_samples_split': 0.1, 'min_samples_leaf': 4, 'max_depth': 4.0, 'learning_rate': 0.3}\n",
      "Best Score for Train (Count) (all-in columns): 0.10\n",
      "Best Params. for Train (Count) (feat. selection): {'n_estimators': 32, 'min_samples_split': 0.1, 'min_samples_leaf': 2, 'max_depth': 20.0, 'learning_rate': 0.3}\n",
      "Best Score for Train (Count) (feat. selection): 0.10\n",
      "\n",
      "Best Params. for Train (Reg) (all-in columns): {'n_estimators': 150, 'min_samples_split': 0.2, 'min_samples_leaf': 8, 'max_depth': 14.0, 'learning_rate': 0.25}\n",
      "Best Score for Train (Reg) (all-in columns): 0.10\n",
      "Best Params. for Train (Reg) (feat. selection): {'n_estimators': 150, 'min_samples_split': 0.1, 'min_samples_leaf': 4, 'max_depth': 19.0, 'learning_rate': 0.3}\n",
      "Best Score for Train (Reg) (feat. selection): 0.10\n",
      "\n",
      "Best Params. for Train (Casual) (all-in columns): {'n_estimators': 64, 'min_samples_split': 0.2, 'min_samples_leaf': 14, 'max_depth': 18.0, 'learning_rate': 0.15}\n",
      "Best Score for Train (Casual) (all-in columns): 0.24\n",
      "Best Params. for Train (Casual) (feat. selection): {'n_estimators': 150, 'min_samples_split': 0.30000000000000004, 'min_samples_leaf': 6, 'max_depth': 20.0, 'learning_rate': 0.15}\n",
      "Best Score for Train (Casual) (feat. selection): 0.24\n",
      "\n"
     ]
    }
   ],
   "source": [
    "gb_feat_param, gb_all_param, gb_feat_predict, gb_all_predict = run_model(gb_model_1, gb_model_2, \n",
    "                                                                         gb_params, train_on)"
   ]
  },
  {
   "cell_type": "code",
   "execution_count": 61,
   "metadata": {},
   "outputs": [],
   "source": [
    "gb_all_predict['Train (Count)'].to_csv(\"./saved_submissions/gb-all_12-26-18.csv\", index=False)\n",
    "gb_feat_predict['Train (Count)'].to_csv(\"./saved_submissions/gb-feat_12-26-18.csv\", index=False)"
   ]
  },
  {
   "cell_type": "code",
   "execution_count": 62,
   "metadata": {},
   "outputs": [],
   "source": [
    "# Registered+Casual submission\n",
    "gb_predict = (gb_all_predict['Train (Casual)']['count'] + gb_all_predict['Train (Reg)']['count']).astype(int)\n",
    "gb_sum_submit = pd.DataFrame({'datetime': test_datetime, 'count': gb_predict.astype(int)})\n",
    "gb_sum_submit.to_csv(\"./saved_submissions/gb-all-sum_12-26-18.csv\", index=False)\n",
    "\n",
    "# Registered+Casual submission\n",
    "gb_predict = (gb_feat_predict['Train (Casual)']['count'] + gb_feat_predict['Train (Reg)']['count']).astype(int)\n",
    "gb_sum_submit = pd.DataFrame({'datetime': test_datetime, 'count': gb_predict.astype(int)})\n",
    "gb_sum_submit.to_csv(\"./saved_submissions/gb-feat-sum_12-26-18.csv\", index=False)\n"
   ]
  },
  {
   "cell_type": "markdown",
   "metadata": {},
   "source": [
    "#### Scoring:\n",
    "- `gb_all_predict['Train (Count)']` = 0.43955\n",
    "- `gb_feat_predict['Train (Count)']` = 0.45066\n",
    "- `gb_sum` (all-in) = 0.45338\n",
    "- `gb_sum` (feat) = 0.44531"
   ]
  },
  {
   "cell_type": "code",
   "execution_count": 85,
   "metadata": {},
   "outputs": [],
   "source": [
    "rf_model_1 = RandomForestRegressor(n_jobs=-1)\n",
    "rf_model_2 = RandomForestRegressor\n",
    "rf_params = {\"n_estimators\": [int (x) for x in np.linspace(start=200, stop=1000, num=9, endpoint=True)],\n",
    "             \"max_features\": ['auto', 'sqrt'],\n",
    "             \"max_depth\": np.linspace(5, 32, 28, endpoint=True),\n",
    "             \"min_samples_split\": np.linspace(0.1, 1.0, 10, endpoint=True),\n",
    "             \"min_samples_leaf\": [4, 6, 8, 10, 12, 20]}"
   ]
  },
  {
   "cell_type": "code",
   "execution_count": 86,
   "metadata": {},
   "outputs": [
    {
     "name": "stdout",
     "output_type": "stream",
     "text": [
      "Best Params. for Train (Count) (all-in columns): {'n_estimators': 900, 'min_samples_split': 0.1, 'min_samples_leaf': 12, 'max_features': 'auto', 'max_depth': 25.0}\n",
      "Best Score for Train (Count) (all-in columns): 0.17\n",
      "Best Params. for Train (Count) (feat. selection): {'n_estimators': 300, 'min_samples_split': 0.6, 'min_samples_leaf': 12, 'max_features': 'auto', 'max_depth': 22.0}\n",
      "Best Score for Train (Count) (feat. selection): 0.21\n",
      "\n",
      "Best Params. for Train (Reg) (all-in columns): {'n_estimators': 400, 'min_samples_split': 0.2, 'min_samples_leaf': 10, 'max_features': 'auto', 'max_depth': 18.0}\n",
      "Best Score for Train (Reg) (all-in columns): 0.20\n",
      "Best Params. for Train (Reg) (feat. selection): {'n_estimators': 600, 'min_samples_split': 0.6, 'min_samples_leaf': 4, 'max_features': 'auto', 'max_depth': 6.0}\n",
      "Best Score for Train (Reg) (feat. selection): 0.21\n",
      "\n",
      "Best Params. for Train (Casual) (all-in columns): {'n_estimators': 1000, 'min_samples_split': 0.1, 'min_samples_leaf': 12, 'max_features': 'sqrt', 'max_depth': 18.0}\n",
      "Best Score for Train (Casual) (all-in columns): 0.36\n",
      "Best Params. for Train (Casual) (feat. selection): {'n_estimators': 200, 'min_samples_split': 0.1, 'min_samples_leaf': 8, 'max_features': 'auto', 'max_depth': 24.0}\n",
      "Best Score for Train (Casual) (feat. selection): 0.33\n",
      "\n"
     ]
    }
   ],
   "source": [
    "rf_feat_param, rf_all_param, rf_feat_predict, rf_all_predict = run_model(rf_model_1, rf_model_2, \n",
    "                                                                         rf_params, train_on)"
   ]
  },
  {
   "cell_type": "code",
   "execution_count": 87,
   "metadata": {},
   "outputs": [],
   "source": [
    "rf_all_predict['Train (Count)'].to_csv(\"./saved_submissions/rf-all_12-26-18.csv\", index=False)\n",
    "rf_feat_predict['Train (Count)'].to_csv(\"./saved_submissions/rf-feat_12-26-18.csv\", index=False)"
   ]
  },
  {
   "cell_type": "code",
   "execution_count": 88,
   "metadata": {},
   "outputs": [],
   "source": [
    "# Registered+Casual submission\n",
    "rf_predict = (rf_all_predict['Train (Casual)']['count'] + rf_all_predict['Train (Reg)']['count']).astype(int)\n",
    "rf_sum_submit = pd.DataFrame({'datetime': test_datetime, 'count': rf_predict.astype(int)})\n",
    "rf_sum_submit.to_csv(\"./saved_submissions/rf-all-sum_12-26-18.csv\", index=False)\n",
    "\n",
    "# Registered+Casual submission\n",
    "rf_predict = (rf_feat_predict['Train (Casual)']['count'] + rf_feat_predict['Train (Reg)']['count']).astype(int)\n",
    "rf_sum_submit = pd.DataFrame({'datetime': test_datetime, 'count': rf_predict.astype(int)})\n",
    "rf_sum_submit.to_csv(\"./saved_submissions/rf-feat-sum_12-26-18.csv\", index=False)"
   ]
  },
  {
   "cell_type": "markdown",
   "metadata": {},
   "source": [
    "#### Scoring:\n",
    "- `rf_all_predict['Train (Count)']` = \n",
    "- `rf_feat_predict['Train (Count)']` = 0.76408\n",
    "- `rf_sum` (all-in) = 0.79640\n",
    "- `rf_sum` (feat) = 0.85858"
   ]
  },
  {
   "cell_type": "code",
   "execution_count": null,
   "metadata": {},
   "outputs": [],
   "source": []
  },
  {
   "cell_type": "code",
   "execution_count": null,
   "metadata": {},
   "outputs": [],
   "source": []
  },
  {
   "cell_type": "code",
   "execution_count": 150,
   "metadata": {},
   "outputs": [
    {
     "data": {
      "text/plain": [
       "<matplotlib.axes._subplots.AxesSubplot at 0x1a1d546518>"
      ]
     },
     "execution_count": 150,
     "metadata": {},
     "output_type": "execute_result"
    },
    {
     "data": {
      "image/png": "[encoded data removed]",
      "text/plain": [
       "<Figure size 432x288 with 1 Axes>"
      ]
     },
     "metadata": {
      "needs_background": "light"
     },
     "output_type": "display_data"
    }
   ],
   "source": [
    "sns.distplot(xgb_predict['Train (Count)']['count'])"
   ]
  },
  {
   "cell_type": "code",
   "execution_count": 149,
   "metadata": {},
   "outputs": [
    {
     "data": {
      "text/plain": [
       "<matplotlib.axes._subplots.AxesSubplot at 0x1a1d480748>"
      ]
     },
     "execution_count": 149,
     "metadata": {},
     "output_type": "execute_result"
    },
    {
     "data": {
      "image/png": "[encoded data removed]",
      "text/plain": [
       "<Figure size 432x288 with 1 Axes>"
      ]
     },
     "metadata": {
      "needs_background": "light"
     },
     "output_type": "display_data"
    }
   ],
   "source": [
    "sns.distplot(xgb_sum_predict.astype(int))"
   ]
  },
  {
   "cell_type": "code",
   "execution_count": 141,
   "metadata": {},
   "outputs": [
    {
     "data": {
      "text/plain": [
       "0      538\n",
       "1      460\n",
       "2      292\n",
       "3      266\n",
       "4      195\n",
       "5      164\n",
       "6      163\n",
       "7      157\n",
       "9      133\n",
       "8      128\n",
       "11     117\n",
       "10     115\n",
       "12     114\n",
       "16     107\n",
       "18     101\n",
       "13      93\n",
       "14      87\n",
       "17      85\n",
       "19      84\n",
       "15      84\n",
       "22      74\n",
       "23      72\n",
       "21      68\n",
       "25      68\n",
       "24      65\n",
       "38      60\n",
       "29      58\n",
       "28      58\n",
       "31      57\n",
       "32      56\n",
       "      ... \n",
       "214      1\n",
       "226      1\n",
       "238      1\n",
       "278      1\n",
       "314      1\n",
       "192      1\n",
       "239      1\n",
       "139      1\n",
       "171      1\n",
       "175      1\n",
       "179      1\n",
       "219      1\n",
       "170      1\n",
       "138      1\n",
       "275      1\n",
       "269      1\n",
       "245      1\n",
       "241      1\n",
       "229      1\n",
       "221      1\n",
       "209      1\n",
       "169      1\n",
       "161      1\n",
       "255      1\n",
       "324      1\n",
       "304      1\n",
       "300      1\n",
       "236      1\n",
       "232      1\n",
       "279      1\n",
       "Name: count, Length: 244, dtype: int64"
      ]
     },
     "execution_count": 141,
     "metadata": {},
     "output_type": "execute_result"
    }
   ],
   "source": [
    "gb_predict['Train (Casual)']['count'].value_counts()"
   ]
  },
  {
   "cell_type": "code",
   "execution_count": null,
   "metadata": {},
   "outputs": [],
   "source": []
  },
  {
   "cell_type": "code",
   "execution_count": null,
   "metadata": {},
   "outputs": [],
   "source": []
  },
  {
   "cell_type": "code",
   "execution_count": null,
   "metadata": {},
   "outputs": [],
   "source": []
  },
  {
   "cell_type": "code",
   "execution_count": null,
   "metadata": {},
   "outputs": [],
   "source": []
  },
  {
   "cell_type": "markdown",
   "metadata": {},
   "source": [
    "## Data Submission"
   ]
  },
  {
   "cell_type": "markdown",
   "metadata": {},
   "source": [
    "# TODO: run the funciton above and claulcate new predciton with weights"
   ]
  },
  {
   "cell_type": "code",
   "execution_count": null,
   "metadata": {},
   "outputs": [],
   "source": []
  },
  {
   "cell_type": "markdown",
   "metadata": {},
   "source": [
    "https://github.com/logicalguess/kaggle-bike-sharing-demand/blob/master/code/main.ipynb"
   ]
  },
  {
   "cell_type": "code",
   "execution_count": null,
   "metadata": {},
   "outputs": [],
   "source": []
  }
 ],
 "metadata": {
  "kernelspec": {
   "display_name": "Python 3",
   "language": "python",
   "name": "python3"
  },
  "language_info": {
   "codemirror_mode": {
    "name": "ipython",
    "version": 3
   },
   "file_extension": ".py",
   "mimetype": "text/x-python",
   "name": "python",
   "nbconvert_exporter": "python",
   "pygments_lexer": "ipython3",
   "version": "3.6.6"
  },
  "toc": {
   "base_numbering": 1,
   "nav_menu": {},
   "number_sections": true,
   "sideBar": true,
   "skip_h1_title": true,
   "title_cell": "Table of Contents",
   "title_sidebar": "Contents",
   "toc_cell": false,
   "toc_position": {},
   "toc_section_display": true,
   "toc_window_display": false
  },
  "varInspector": {
   "cols": {
    "lenName": 16,
    "lenType": 16,
    "lenVar": 40
   },
   "kernels_config": {
    "python": {
     "delete_cmd_postfix": "",
     "delete_cmd_prefix": "del ",
     "library": "var_list.py",
     "varRefreshCmd": "print(var_dic_list())"
    },
    "r": {
     "delete_cmd_postfix": ") ",
     "delete_cmd_prefix": "rm(",
     "library": "var_list.r",
     "varRefreshCmd": "cat(var_dic_list()) "
    }
   },
   "types_to_exclude": [
    "module",
    "function",
    "builtin_function_or_method",
    "instance",
    "_Feature"
   ],
   "window_display": false
  }
 },
 "nbformat": 4,
 "nbformat_minor": 2
}
