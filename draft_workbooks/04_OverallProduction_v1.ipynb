{
 "cells": [
  {
   "cell_type": "markdown",
   "metadata": {},
   "source": [
    "## Data Understanding\n",
    "\n",
    "The bike sharing dataset asks us to predict the bike sharing demand from the 20th days to the end of the month. We are required to predict the total count of bikes rented during each hour covered by the test set."
   ]
  },
  {
   "cell_type": "code",
   "execution_count": 1,
   "metadata": {},
   "outputs": [],
   "source": [
    "import numpy as np\n",
    "import pandas as pd\n",
    "\n",
    "import matplotlib.pyplot as plt\n",
    "import seaborn as sns\n",
    "sns.set_style('whitegrid')\n",
    "%matplotlib inline"
   ]
  },
  {
   "cell_type": "code",
   "execution_count": 2,
   "metadata": {},
   "outputs": [],
   "source": [
    "# Importing the datasets that will be used\n",
    "\n",
    "train_set = pd.read_csv(\"./archive/train.csv\")\n",
    "test_set = pd.read_csv(\"./archive/test.csv\")"
   ]
  },
  {
   "cell_type": "code",
   "execution_count": 3,
   "metadata": {},
   "outputs": [
    {
     "name": "stdout",
     "output_type": "stream",
     "text": [
      "Train set columns datetime, season, holiday, workingday, weather, temp, atemp, humidity, windspeed, casual, registered, count\n",
      "\n",
      "Test set columns datetime, season, holiday, workingday, weather, temp, atemp, humidity, windspeed\n",
      "\n",
      "Difference colummns are {'registered', 'casual', 'count'}\n"
     ]
    }
   ],
   "source": [
    "print(f'Train set columns {\", \".join(train_set.columns.tolist())}\\n')\n",
    "print(f'Test set columns {\", \".join(test_set.columns.tolist())}\\n')\n",
    "print(f'Difference colummns are {set(train_set.columns) - set(test_set.columns)}')"
   ]
  },
  {
   "cell_type": "markdown",
   "metadata": {},
   "source": [
    "#### Notes:\n",
    "Notice that we have three potential target variables. While the count is the exact predictor, we could calculate the casual and registerd to find the count... we'll see how we will calculate the predictor."
   ]
  },
  {
   "cell_type": "code",
   "execution_count": 4,
   "metadata": {},
   "outputs": [
    {
     "data": {
      "text/plain": [
       "datetime       object\n",
       "season          int64\n",
       "holiday         int64\n",
       "workingday      int64\n",
       "weather         int64\n",
       "temp          float64\n",
       "atemp         float64\n",
       "humidity        int64\n",
       "windspeed     float64\n",
       "casual          int64\n",
       "registered      int64\n",
       "count           int64\n",
       "dtype: object"
      ]
     },
     "execution_count": 4,
     "metadata": {},
     "output_type": "execute_result"
    }
   ],
   "source": [
    "train_set.dtypes"
   ]
  },
  {
   "cell_type": "code",
   "execution_count": 5,
   "metadata": {},
   "outputs": [
    {
     "data": {
      "text/plain": [
       "datetime       object\n",
       "season          int64\n",
       "holiday         int64\n",
       "workingday      int64\n",
       "weather         int64\n",
       "temp          float64\n",
       "atemp         float64\n",
       "humidity        int64\n",
       "windspeed     float64\n",
       "dtype: object"
      ]
     },
     "execution_count": 5,
     "metadata": {},
     "output_type": "execute_result"
    }
   ],
   "source": [
    "test_set.dtypes"
   ]
  },
  {
   "cell_type": "code",
   "execution_count": 6,
   "metadata": {},
   "outputs": [
    {
     "name": "stdout",
     "output_type": "stream",
     "text": [
      "<class 'pandas.core.frame.DataFrame'>\n",
      "RangeIndex: 10886 entries, 0 to 10885\n",
      "Data columns (total 12 columns):\n",
      "datetime      10886 non-null object\n",
      "season        10886 non-null int64\n",
      "holiday       10886 non-null int64\n",
      "workingday    10886 non-null int64\n",
      "weather       10886 non-null int64\n",
      "temp          10886 non-null float64\n",
      "atemp         10886 non-null float64\n",
      "humidity      10886 non-null int64\n",
      "windspeed     10886 non-null float64\n",
      "casual        10886 non-null int64\n",
      "registered    10886 non-null int64\n",
      "count         10886 non-null int64\n",
      "dtypes: float64(3), int64(8), object(1)\n",
      "memory usage: 1020.6+ KB\n"
     ]
    }
   ],
   "source": [
    "train_set.info()"
   ]
  },
  {
   "cell_type": "code",
   "execution_count": 7,
   "metadata": {},
   "outputs": [
    {
     "name": "stdout",
     "output_type": "stream",
     "text": [
      "<class 'pandas.core.frame.DataFrame'>\n",
      "RangeIndex: 6493 entries, 0 to 6492\n",
      "Data columns (total 9 columns):\n",
      "datetime      6493 non-null object\n",
      "season        6493 non-null int64\n",
      "holiday       6493 non-null int64\n",
      "workingday    6493 non-null int64\n",
      "weather       6493 non-null int64\n",
      "temp          6493 non-null float64\n",
      "atemp         6493 non-null float64\n",
      "humidity      6493 non-null int64\n",
      "windspeed     6493 non-null float64\n",
      "dtypes: float64(3), int64(5), object(1)\n",
      "memory usage: 456.6+ KB\n"
     ]
    }
   ],
   "source": [
    "test_set.info()"
   ]
  },
  {
   "cell_type": "markdown",
   "metadata": {},
   "source": [
    "#### Notes:\n",
    "- For the training and testing sets, the columns that are avaiable have the same dtype\n",
    "- The date variable is an object so you will have to change it to a datetype\n",
    "- The training set has ~10k observations while the test has ~6.5k observations"
   ]
  },
  {
   "cell_type": "code",
   "execution_count": 8,
   "metadata": {},
   "outputs": [],
   "source": [
    "# Adding the missing columns for the testing columns\n",
    "test_set['count'] = np.nan\n",
    "test_set['registered'] = np.nan\n",
    "test_set['casual'] = np.nan"
   ]
  },
  {
   "cell_type": "code",
   "execution_count": 9,
   "metadata": {},
   "outputs": [
    {
     "data": {
      "text/html": [
       "<div>\n",
       "<style scoped>\n",
       "    .dataframe tbody tr th:only-of-type {\n",
       "        vertical-align: middle;\n",
       "    }\n",
       "\n",
       "    .dataframe tbody tr th {\n",
       "        vertical-align: top;\n",
       "    }\n",
       "\n",
       "    .dataframe thead th {\n",
       "        text-align: right;\n",
       "    }\n",
       "</style>\n",
       "<table border=\"1\" class=\"dataframe\">\n",
       "  <thead>\n",
       "    <tr style=\"text-align: right;\">\n",
       "      <th></th>\n",
       "      <th>datetime</th>\n",
       "      <th>season</th>\n",
       "      <th>holiday</th>\n",
       "      <th>workingday</th>\n",
       "      <th>weather</th>\n",
       "      <th>temp</th>\n",
       "      <th>atemp</th>\n",
       "      <th>humidity</th>\n",
       "      <th>windspeed</th>\n",
       "      <th>casual</th>\n",
       "      <th>registered</th>\n",
       "      <th>count</th>\n",
       "    </tr>\n",
       "  </thead>\n",
       "  <tbody>\n",
       "    <tr>\n",
       "      <th>0</th>\n",
       "      <td>2011-01-01 00:00:00</td>\n",
       "      <td>1</td>\n",
       "      <td>0</td>\n",
       "      <td>0</td>\n",
       "      <td>1</td>\n",
       "      <td>9.84</td>\n",
       "      <td>14.395</td>\n",
       "      <td>81</td>\n",
       "      <td>0.0</td>\n",
       "      <td>3.0</td>\n",
       "      <td>13.0</td>\n",
       "      <td>16.0</td>\n",
       "    </tr>\n",
       "    <tr>\n",
       "      <th>1</th>\n",
       "      <td>2011-01-01 01:00:00</td>\n",
       "      <td>1</td>\n",
       "      <td>0</td>\n",
       "      <td>0</td>\n",
       "      <td>1</td>\n",
       "      <td>9.02</td>\n",
       "      <td>13.635</td>\n",
       "      <td>80</td>\n",
       "      <td>0.0</td>\n",
       "      <td>8.0</td>\n",
       "      <td>32.0</td>\n",
       "      <td>40.0</td>\n",
       "    </tr>\n",
       "    <tr>\n",
       "      <th>2</th>\n",
       "      <td>2011-01-01 02:00:00</td>\n",
       "      <td>1</td>\n",
       "      <td>0</td>\n",
       "      <td>0</td>\n",
       "      <td>1</td>\n",
       "      <td>9.02</td>\n",
       "      <td>13.635</td>\n",
       "      <td>80</td>\n",
       "      <td>0.0</td>\n",
       "      <td>5.0</td>\n",
       "      <td>27.0</td>\n",
       "      <td>32.0</td>\n",
       "    </tr>\n",
       "    <tr>\n",
       "      <th>3</th>\n",
       "      <td>2011-01-01 03:00:00</td>\n",
       "      <td>1</td>\n",
       "      <td>0</td>\n",
       "      <td>0</td>\n",
       "      <td>1</td>\n",
       "      <td>9.84</td>\n",
       "      <td>14.395</td>\n",
       "      <td>75</td>\n",
       "      <td>0.0</td>\n",
       "      <td>3.0</td>\n",
       "      <td>10.0</td>\n",
       "      <td>13.0</td>\n",
       "    </tr>\n",
       "    <tr>\n",
       "      <th>4</th>\n",
       "      <td>2011-01-01 04:00:00</td>\n",
       "      <td>1</td>\n",
       "      <td>0</td>\n",
       "      <td>0</td>\n",
       "      <td>1</td>\n",
       "      <td>9.84</td>\n",
       "      <td>14.395</td>\n",
       "      <td>75</td>\n",
       "      <td>0.0</td>\n",
       "      <td>0.0</td>\n",
       "      <td>1.0</td>\n",
       "      <td>1.0</td>\n",
       "    </tr>\n",
       "  </tbody>\n",
       "</table>\n",
       "</div>"
      ],
      "text/plain": [
       "              datetime  season  holiday  workingday  weather  temp   atemp  \\\n",
       "0  2011-01-01 00:00:00       1        0           0        1  9.84  14.395   \n",
       "1  2011-01-01 01:00:00       1        0           0        1  9.02  13.635   \n",
       "2  2011-01-01 02:00:00       1        0           0        1  9.02  13.635   \n",
       "3  2011-01-01 03:00:00       1        0           0        1  9.84  14.395   \n",
       "4  2011-01-01 04:00:00       1        0           0        1  9.84  14.395   \n",
       "\n",
       "   humidity  windspeed  casual  registered  count  \n",
       "0        81        0.0     3.0        13.0   16.0  \n",
       "1        80        0.0     8.0        32.0   40.0  \n",
       "2        80        0.0     5.0        27.0   32.0  \n",
       "3        75        0.0     3.0        10.0   13.0  \n",
       "4        75        0.0     0.0         1.0    1.0  "
      ]
     },
     "execution_count": 9,
     "metadata": {},
     "output_type": "execute_result"
    }
   ],
   "source": [
    "data = pd.concat([train_set, test_set], axis=0, sort=False)\n",
    "data.head(5)"
   ]
  },
  {
   "cell_type": "markdown",
   "metadata": {},
   "source": [
    "#### Notes:\n",
    "- To analyze the better coherently and apply the data cleaning on both the training and testing set, we will concat the datasets."
   ]
  },
  {
   "cell_type": "markdown",
   "metadata": {},
   "source": [
    "## Data Analysis: Feature Enginnering "
   ]
  },
  {
   "cell_type": "markdown",
   "metadata": {},
   "source": [
    "#### Notes:\n",
    "- The following function is a fast.ai function. It will helps automate feature enginnering for datetype\n",
    "- We will continue to analyze the data to further develop features... for now, we'll deal with the datetype"
   ]
  },
  {
   "cell_type": "code",
   "execution_count": 10,
   "metadata": {
    "code_folding": [
     2
    ]
   },
   "outputs": [],
   "source": [
    "import re\n",
    "\n",
    "def extract_dateinfo(df, date_col, drop=True, time=False, start_ref=pd.datetime(1900, 1, 1), extra_attr = True):\n",
    "    \"\"\"\n",
    "    Extract Date (and time) Information from a DataFrame\n",
    "    Adapted from: https://github.com/fastai/fastai/blob/master/fastai/structured.py\n",
    "    \"\"\"\n",
    "    df = df.copy()\n",
    "    \n",
    "    # Extract the field\n",
    "    fld = df[date_col]\n",
    "    \n",
    "    # Check the time\n",
    "    fld_dtype = fld.dtype\n",
    "    if isinstance(fld_dtype, pd.core.dtypes.dtypes.DatetimeTZDtype):\n",
    "        fld_dtype = np.datetime64\n",
    "\n",
    "    # Convert to datetime if not already\n",
    "    if not np.issubdtype(fld_dtype, np.datetime64):\n",
    "        df[date_col] = fld = pd.to_datetime(fld, infer_datetime_format=True)\n",
    "    \n",
    "    # Prefix for new columns\n",
    "    pre = re.sub('[Dd]ate', '', date_col)\n",
    "    pre = re.sub('[Tt]ime', '', pre)\n",
    "    \n",
    "    # Basic attributes\n",
    "    attr = ['Year', 'Month', 'Week', 'Day', 'Dayofweek', 'Dayofyear', 'Days_in_month', 'is_leap_year']\n",
    "    \n",
    "    # Additional attributes\n",
    "    if extra_attr:\n",
    "        attr = attr + ['Is_month_end', 'Is_month_start', 'Is_quarter_end', \n",
    "                       'Is_quarter_start', 'Is_year_end', 'Is_year_start']\n",
    "    \n",
    "    # If time is specified, extract time information\n",
    "    if time: \n",
    "        attr = attr + ['Hour', 'Minute', 'Second']\n",
    "        \n",
    "    # Iterate through each attribute\n",
    "    for n in attr: \n",
    "        df[pre + n] = getattr(fld.dt, n.lower())\n",
    "        \n",
    "    # Calculate days in year\n",
    "    df[pre + 'Days_in_year'] = df[pre + 'is_leap_year'] + 365\n",
    "        \n",
    "    if time:\n",
    "        # Add fractional time of day (0 - 1) units of day\n",
    "        df[pre + 'frac_day'] = ((df[pre + 'Hour']) + (df[pre + 'Minute'] / 60) + (df[pre + 'Second'] / 60 / 60)) / 24\n",
    "        \n",
    "        # Add fractional time of week (0 - 1) units of week\n",
    "        df[pre + 'frac_week'] = (df[pre + 'Dayofweek'] + df[pre + 'frac_day']) / 7\n",
    "    \n",
    "        # Add fractional time of month (0 - 1) units of month\n",
    "        df[pre + 'frac_month'] = (df[pre + 'Day'] + (df[pre + 'frac_day'])) / (df[pre + 'Days_in_month'] +  1)\n",
    "        \n",
    "        # Add fractional time of year (0 - 1) units of year\n",
    "        df[pre + 'frac_year'] = (df[pre + 'Dayofyear'] + df[pre + 'frac_day']) / (df[pre + 'Days_in_year'] + 1)\n",
    "        \n",
    "    # Add seconds since start of reference\n",
    "    df[pre + 'Elapsed'] = (fld - start_ref).dt.total_seconds()\n",
    "    \n",
    "    if drop: \n",
    "        df = df.drop(date_col, axis=1)\n",
    "        \n",
    "    return df"
   ]
  },
  {
   "cell_type": "code",
   "execution_count": 11,
   "metadata": {},
   "outputs": [],
   "source": [
    "# Using the function \"extract_dateinfo\" from fast.ai\n",
    "data = extract_dateinfo(data, 'datetime', drop=False, time=True)"
   ]
  },
  {
   "cell_type": "markdown",
   "metadata": {},
   "source": [
    "## Data Visualization"
   ]
  },
  {
   "cell_type": "code",
   "execution_count": 12,
   "metadata": {
    "code_folding": [
     0,
     7
    ]
   },
   "outputs": [],
   "source": [
    "def plot_by_hour(x, predictor, year=None, agg='sum'):\n",
    "    dd = data.copy()\n",
    "    if year: dd = dd[dd.datetime.dt.year == year]\n",
    "    \n",
    "    by_hour = dd.groupby(['Hour', x])[predictor].agg(agg).unstack()\n",
    "    by_hour.plot(kind='bar', figsize=(15,4), width=0.9, title=\"Year = {0}\".format(year))\n",
    "\n",
    "def plot_by_year(agg_attr, predictor, title):\n",
    "    dd = data.copy()    \n",
    "    by_year = dd.groupby([agg_attr, 'year'])[predictor].agg('sum').unstack()\n",
    "    return by_year.plot(kind='bar', figsize=(15,5), width=0.9, title=title)"
   ]
  },
  {
   "cell_type": "code",
   "execution_count": 13,
   "metadata": {},
   "outputs": [
    {
     "name": "stderr",
     "output_type": "stream",
     "text": [
      "/Users/alexguanga/anaconda/lib/python3.6/site-packages/scipy/stats/stats.py:1713: FutureWarning: Using a non-tuple sequence for multidimensional indexing is deprecated; use `arr[tuple(seq)]` instead of `arr[seq]`. In the future this will be interpreted as an array index, `arr[np.array(seq)]`, which will result either in an error or a different result.\n",
      "  return np.add.reduce(sorted[indexer] * weights, axis=axis) / sumval\n"
     ]
    },
    {
     "data": {
      "image/png": "[encoded data removed]",
      "text/plain": [
       "<Figure size 1440x288 with 3 Axes>"
      ]
     },
     "metadata": {
      "needs_background": "light"
     },
     "output_type": "display_data"
    }
   ],
   "source": [
    "# Visualizing the distribution of our potential target variables\n",
    "\n",
    "fig, axes = plt.subplots(1, 3, figsize = (20, 4), sharex=True, sharey=True)\n",
    "axes = axes.flatten()\n",
    "\n",
    "sns.distplot(train_set['count'], ax=axes[0])\n",
    "sns.distplot(train_set['casual'], ax=axes[1])\n",
    "sns.distplot(train_set['registered'], ax=axes[2])\n",
    "\n",
    "axes[0].set_title('Distribution: Count')\n",
    "axes[1].set_title('Distribution: Casual')\n",
    "axes[2].set_title('Distribution: Registered');"
   ]
  },
  {
   "cell_type": "code",
   "execution_count": 14,
   "metadata": {},
   "outputs": [
    {
     "name": "stderr",
     "output_type": "stream",
     "text": [
      "/Users/alexguanga/anaconda/lib/python3.6/site-packages/scipy/stats/stats.py:1713: FutureWarning: Using a non-tuple sequence for multidimensional indexing is deprecated; use `arr[tuple(seq)]` instead of `arr[seq]`. In the future this will be interpreted as an array index, `arr[np.array(seq)]`, which will result either in an error or a different result.\n",
      "  return np.add.reduce(sorted[indexer] * weights, axis=axis) / sumval\n"
     ]
    },
    {
     "data": {
      "image/png": "[encoded data removed]",
      "text/plain": [
       "<Figure size 1440x288 with 3 Axes>"
      ]
     },
     "metadata": {
      "needs_background": "light"
     },
     "output_type": "display_data"
    }
   ],
   "source": [
    "# Visualizing the distribution of our potential target variables\n",
    "\n",
    "fig, axes = plt.subplots(1, 3, figsize = (20, 4), sharex=True, sharey=True)\n",
    "axes = axes.flatten()\n",
    "\n",
    "sns.distplot(np.log1p(train_set['count']), ax=axes[0])\n",
    "sns.distplot(np.log1p(train_set['casual']), ax=axes[1])\n",
    "sns.distplot(np.log1p(train_set['registered']), ax=axes[2])\n",
    "\n",
    "axes[0].set_title('Distribution: Count')\n",
    "axes[1].set_title('Distribution: Casual')\n",
    "axes[2].set_title('Distribution: Registered');"
   ]
  },
  {
   "cell_type": "markdown",
   "metadata": {},
   "source": [
    "#### Notes:\n",
    "- For casual, the # of bikes being used has a huge spike in the low-end\n",
    "- For registered, the distribution is more flat (indicating that registered users are more common at a daily level)\n",
    "- We are better calculating the log.1p to get a normal distribution. \n",
    "\n",
    "A logistic distribution better represents the data when the data is highly skewed. For example, if our data contained values like 0, 1, 10, and 100, well our data will be skewed by the 100. When transforming 0, 1, 10, and 100 in a logistic distrbution, we are normalizing the increases from 0, 1, 10, and 100:\n",
    "\n",
    "```python\n",
    "log_transform = [np.log1p(i) for i in [0, 1, 10, 100]]\n",
    "log_transform    \n",
    "    \n",
    "# Output: [0.0, 0.6931471805599453, 2.3978952727983707, 4.61512051684126]\n",
    "```"
   ]
  },
  {
   "cell_type": "code",
   "execution_count": 15,
   "metadata": {},
   "outputs": [
    {
     "name": "stderr",
     "output_type": "stream",
     "text": [
      "/Users/alexguanga/anaconda/lib/python3.6/site-packages/scipy/stats/stats.py:1713: FutureWarning: Using a non-tuple sequence for multidimensional indexing is deprecated; use `arr[tuple(seq)]` instead of `arr[seq]`. In the future this will be interpreted as an array index, `arr[np.array(seq)]`, which will result either in an error or a different result.\n",
      "  return np.add.reduce(sorted[indexer] * weights, axis=axis) / sumval\n"
     ]
    },
    {
     "data": {
      "image/png": "[encoded data removed]",
      "text/plain": [
       "<Figure size 1440x288 with 3 Axes>"
      ]
     },
     "metadata": {
      "needs_background": "light"
     },
     "output_type": "display_data"
    }
   ],
   "source": [
    "# Lets visualize the distribution of the windspeed, humidity, temp\n",
    "\n",
    "fig, axes = plt.subplots(1, 3, figsize=(20, 4), sharey=True)\n",
    "axes = axes.flatten()\n",
    "\n",
    "sns.distplot(data['humidity'], ax=axes[0])\n",
    "sns.distplot(data['windspeed'], ax=axes[1])\n",
    "sns.distplot(data['temp'], ax=axes[2])\n",
    "\n",
    "axes[0].set_title('Distribution: Humidity')\n",
    "axes[1].set_title('Distribution: Windspeed')\n",
    "axes[2].set_title('Distribution: Temp');"
   ]
  },
  {
   "cell_type": "code",
   "execution_count": 16,
   "metadata": {},
   "outputs": [
    {
     "data": {
      "image/png": "[encoded data removed]",
      "text/plain": [
       "<Figure size 1080x288 with 1 Axes>"
      ]
     },
     "metadata": {
      "needs_background": "light"
     },
     "output_type": "display_data"
    },
    {
     "data": {
      "image/png": "[encoded data removed]",
      "text/plain": [
       "<Figure size 1080x288 with 1 Axes>"
      ]
     },
     "metadata": {
      "needs_background": "light"
     },
     "output_type": "display_data"
    }
   ],
   "source": [
    "plot_by_hour('workingday', 'count', year=2011)\n",
    "plot_by_hour('workingday', 'count', year=2012)"
   ]
  },
  {
   "cell_type": "markdown",
   "metadata": {},
   "source": [
    "#### Notes:\n",
    "- Notice that we see there is an increase during peak hours in 2011 and 2012. "
   ]
  },
  {
   "cell_type": "code",
   "execution_count": 17,
   "metadata": {},
   "outputs": [
    {
     "data": {
      "image/png": "[encoded data removed]",
      "text/plain": [
       "<Figure size 1080x288 with 1 Axes>"
      ]
     },
     "metadata": {
      "needs_background": "light"
     },
     "output_type": "display_data"
    },
    {
     "data": {
      "image/png": "[encoded data removed]",
      "text/plain": [
       "<Figure size 1080x288 with 1 Axes>"
      ]
     },
     "metadata": {
      "needs_background": "light"
     },
     "output_type": "display_data"
    }
   ],
   "source": [
    "plot_by_hour('season', 'count', year=2011)\n",
    "plot_by_hour('season', 'count', year=2012)"
   ]
  },
  {
   "cell_type": "markdown",
   "metadata": {},
   "source": [
    "#### Notes\n",
    "- Every season has a similar trend except for the spring\n",
    "-  1 = spring, 2 = summer, 3 = fall, 4 = winter \n"
   ]
  },
  {
   "cell_type": "code",
   "execution_count": 18,
   "metadata": {},
   "outputs": [
    {
     "data": {
      "image/png": "[encoded data removed]",
      "text/plain": [
       "<Figure size 1080x288 with 1 Axes>"
      ]
     },
     "metadata": {
      "needs_background": "light"
     },
     "output_type": "display_data"
    },
    {
     "data": {
      "image/png": "[encoded data removed]",
      "text/plain": [
       "<Figure size 1080x288 with 1 Axes>"
      ]
     },
     "metadata": {
      "needs_background": "light"
     },
     "output_type": "display_data"
    }
   ],
   "source": [
    "# - weather \n",
    "#    - 1: Clear, Few clouds, Partly cloudy, Partly cloudy \n",
    "#    - 2: Mist + Cloudy, Mist + Broken clouds, Mist + Few clouds, Mist \n",
    "#    - 3: Light Snow, Light Rain + Thunderstorm + Scattered clouds, Light Rain + Scattered clouds \n",
    "#    - 4: Heavy Rain + Ice Pallets + Thunderstorm + Mist, Snow + Fog \n",
    "\n",
    "plot_by_hour('weather', 'count', year=2011)\n",
    "plot_by_hour('weather', 'count', year=2012)"
   ]
  },
  {
   "cell_type": "markdown",
   "metadata": {},
   "source": [
    "#### Notes:\n",
    "- The season and weather visualization states that:\n",
    "    - All season follow a similar distribution along the x-axis (hours) but spring is has a signficant lesser count\n",
    "    - A clear weather attracts more people (higher count)"
   ]
  },
  {
   "cell_type": "code",
   "execution_count": 19,
   "metadata": {},
   "outputs": [
    {
     "data": {
      "text/plain": [
       "Index(['datetime', 'season', 'holiday', 'workingday', 'weather', 'temp',\n",
       "       'atemp', 'humidity', 'windspeed', 'casual', 'registered', 'count',\n",
       "       'Year', 'Month', 'Week', 'Day', 'Dayofweek', 'Dayofyear',\n",
       "       'Days_in_month', 'is_leap_year', 'Is_month_end', 'Is_month_start',\n",
       "       'Is_quarter_end', 'Is_quarter_start', 'Is_year_end', 'Is_year_start',\n",
       "       'Hour', 'Minute', 'Second', 'Days_in_year', 'frac_day', 'frac_week',\n",
       "       'frac_month', 'frac_year', 'Elapsed'],\n",
       "      dtype='object')"
      ]
     },
     "execution_count": 19,
     "metadata": {},
     "output_type": "execute_result"
    }
   ],
   "source": [
    "data.columns"
   ]
  },
  {
   "cell_type": "code",
   "execution_count": 20,
   "metadata": {},
   "outputs": [
    {
     "data": {
      "image/png": "[encoded data removed]",
      "text/plain": [
       "<Figure size 1440x288 with 3 Axes>"
      ]
     },
     "metadata": {
      "needs_background": "light"
     },
     "output_type": "display_data"
    }
   ],
   "source": [
    "fig, axs = plt.subplots(1, 3, figsize=(20, 4))\n",
    "\n",
    "data.groupby('Dayofweek')['count'].sum().sort_index(ascending=True).plot.bar(color='R', ax=axs[0])\n",
    "data.groupby('Dayofweek')['casual'].sum().sort_index(ascending=True).plot.bar(color='R', ax=axs[1])\n",
    "data.groupby('Dayofweek')['registered'].sum().sort_index(ascending=True).plot.bar(color='R', ax=axs[2])\n",
    "\n",
    "axs[0].set_title('Count')\n",
    "axs[1].set_title('Casual')\n",
    "axs[2].set_title('Registered');"
   ]
  },
  {
   "cell_type": "markdown",
   "metadata": {},
   "source": [
    "#### Notes:\n",
    "- Casual users are more common in the weekend while registered users are more common in the weekdays"
   ]
  },
  {
   "cell_type": "markdown",
   "metadata": {},
   "source": [
    "## Data Cleaning: Data types"
   ]
  },
  {
   "cell_type": "markdown",
   "metadata": {},
   "source": [
    "#### Notes\n",
    "Segmenting the data by their data type can provide further insight how similar data variables are affecting the predictor (y-value) "
   ]
  },
  {
   "cell_type": "code",
   "execution_count": 21,
   "metadata": {},
   "outputs": [
    {
     "data": {
      "text/plain": [
       "datetime            datetime64[ns]\n",
       "Is_year_start                 bool\n",
       "Is_year_end                   bool\n",
       "Is_quarter_start              bool\n",
       "Is_quarter_end                bool\n",
       "Is_month_start                bool\n",
       "Is_month_end                  bool\n",
       "is_leap_year                  bool\n",
       "Days_in_year                 int64\n",
       "Second                       int64\n",
       "Minute                       int64\n",
       "Hour                         int64\n",
       "Days_in_month                int64\n",
       "Dayofweek                    int64\n",
       "Day                          int64\n",
       "Dayofyear                    int64\n",
       "Month                        int64\n",
       "Year                         int64\n",
       "season                       int64\n",
       "holiday                      int64\n",
       "humidity                     int64\n",
       "workingday                   int64\n",
       "Week                         int64\n",
       "weather                      int64\n",
       "frac_month                 float64\n",
       "frac_week                  float64\n",
       "frac_day                   float64\n",
       "temp                       float64\n",
       "windspeed                  float64\n",
       "casual                     float64\n",
       "registered                 float64\n",
       "count                      float64\n",
       "frac_year                  float64\n",
       "atemp                      float64\n",
       "Elapsed                    float64\n",
       "dtype: object"
      ]
     },
     "execution_count": 21,
     "metadata": {},
     "output_type": "execute_result"
    }
   ],
   "source": [
    "data.dtypes.sort_values()"
   ]
  },
  {
   "cell_type": "markdown",
   "metadata": {},
   "source": [
    "### Bool Datatype"
   ]
  },
  {
   "cell_type": "code",
   "execution_count": 22,
   "metadata": {},
   "outputs": [
    {
     "data": {
      "image/png": "[encoded data removed]",
      "text/plain": [
       "<Figure size 1440x432 with 7 Axes>"
      ]
     },
     "metadata": {
      "needs_background": "light"
     },
     "output_type": "display_data"
    }
   ],
   "source": [
    "plt.figure(figsize=(20,6))\n",
    "\n",
    "bool_dtype = data.select_dtypes('bool')\n",
    "\n",
    "for i, col in enumerate(bool_dtype):\n",
    "    ax = plt.subplot(3, 4, i + 1)\n",
    "    data.groupby(col)['casual'].sum().sort_index(ascending=True).plot.bar(color='R', ax=ax)\n",
    "    plt.title(f'Boolean: {col}')\n",
    "    plt.xticks(rotation=0)\n",
    "\n",
    "\n",
    "plt.subplots_adjust(top = 2)   "
   ]
  },
  {
   "cell_type": "markdown",
   "metadata": {},
   "source": [
    "#### Notes:\n",
    "- A lot of the boolean variables don't seem to have any value."
   ]
  },
  {
   "cell_type": "code",
   "execution_count": 23,
   "metadata": {},
   "outputs": [
    {
     "data": {
      "text/plain": [
       "count         6493\n",
       "registered    6493\n",
       "casual        6493\n",
       "Elapsed          0\n",
       "windspeed        0\n",
       "dtype: int64"
      ]
     },
     "execution_count": 23,
     "metadata": {},
     "output_type": "execute_result"
    }
   ],
   "source": [
    "# Null/na values for each column\n",
    "data.apply(lambda x: sum(x.isnull())).sort_values(ascending=False).head(5)"
   ]
  },
  {
   "cell_type": "markdown",
   "metadata": {},
   "source": [
    "#### Notes:\n",
    "- The only missing values are derived from the testing set (count, registered, casual)"
   ]
  },
  {
   "cell_type": "markdown",
   "metadata": {},
   "source": [
    "## Data Analysis: Feature Enginnering"
   ]
  },
  {
   "cell_type": "code",
   "execution_count": 24,
   "metadata": {
    "scrolled": true
   },
   "outputs": [
    {
     "data": {
      "text/plain": [
       "Index(['Day', 'Dayofweek', 'Dayofyear', 'Days_in_month', 'Days_in_year',\n",
       "       'Elapsed', 'Hour', 'Is_month_end', 'Is_month_start', 'Is_quarter_end',\n",
       "       'Is_quarter_start', 'Is_year_end', 'Is_year_start', 'Minute', 'Month',\n",
       "       'Second', 'Week', 'Year', 'atemp', 'casual', 'count', 'datetime',\n",
       "       'frac_day', 'frac_month', 'frac_week', 'frac_year', 'holiday',\n",
       "       'humidity', 'is_leap_year', 'registered', 'season', 'temp', 'weather',\n",
       "       'windspeed', 'workingday'],\n",
       "      dtype='object')"
      ]
     },
     "execution_count": 24,
     "metadata": {},
     "output_type": "execute_result"
    }
   ],
   "source": [
    "data.columns.sort_values()"
   ]
  },
  {
   "cell_type": "markdown",
   "metadata": {},
   "source": [
    "#### Notes:\n",
    "- The `custom_extra_dateinfo` is a function that creates variables based on the date."
   ]
  },
  {
   "cell_type": "code",
   "execution_count": 1,
   "metadata": {
    "code_folding": []
   },
   "outputs": [],
   "source": [
    "import calendar\n",
    "\n",
    "# Conditional on time of day: morning=1, afternoon=2, evening=3, night=4\n",
    "# Conditional on time of day: spring=1, summer=2, fall=3, winter=4\n",
    "# Conditional on time of day: clear/few clouds=1, light snow/light rain=2, \n",
    "#                             light snow/light rain=3, heavy rain/ice pallets=4\n",
    "\n",
    "def custom_extra_dateinfo(data):\n",
    "    data = data.copy()\n",
    "    data['Year'] = data['Year'].astype('object')\n",
    "    data['Month'] = data['Month'].apply(lambda x: calendar.month_abbr[x])\n",
    "    \n",
    "    dayofweek_name = {0:'Monday', 1:'Tuesday', 2:'Wednesday', 3:'Thursday', 4:'Friday', 5:'Saturday', 6:'Sunday'}\n",
    "    data['Dayofweek'] = data['Dayofweek'].map(dayofweek_name)\n",
    "    data['Weekofyear'] = data['datetime'].dt.weekofyear\n",
    "    data['Weekend'] = data['Dayofweek'].map(lambda x: \"Yes\" if int(x in [5,6]) else \"No\")\n",
    "    \n",
    "    # Creatinga new column that identifies the time of the day (morning, afternoon, evening)\n",
    "    time_of_day_conds = [\n",
    "        ((data['Hour'] >=  5) & (data['Hour'] < 12)),\n",
    "        ((data['Hour'] >=  12) & (data['Hour'] < 17)),\n",
    "        ((data['Hour'] >=  17) & (data['Hour'] < 21))]\n",
    "    time_of_days = [\"morning\", \"afternoon\", \"evening\"]\n",
    "    data['Timeofday'] = np.select(time_of_day_conds, time_of_days, default=\"night\")\n",
    "    \n",
    "    # Creating a T/F boolean variable to check whether if it workday\n",
    "    data['Rush_Workday'] = data['Dayofweek'].map(lambda x: \"Yes\" if int(x in [0,1,2,3,4]) else \"No\")\n",
    "    \n",
    "    # Creating a T/F boolean variable to check whether it is rush_hour on a workday\n",
    "    rush_hours = [8, 9, 10, 16, 17, 18]\n",
    "    data['Rush_Hour'] = data.apply(lambda x: \"Yes\" if x['Rush_Workday'] == 1 \n",
    "                                   and x['hour'] in rush_hours else \"No\", axis=1)\n",
    "    \n",
    "    # Modifying the 'season' column\n",
    "    seasons_to_rename = {1: 'spring', 2: 'summer', 3: 'fall', 4: 'winter'}\n",
    "    data['season'] = data['season'].map(seasons_to_rename)\n",
    "    \n",
    "    # Modifying the 'weather' column\n",
    "    weather_to_rename = {1: 'clear/few clouds', 2: 'mist/cloudy', \n",
    "                         3: 'light snow/light rain', 4: 'heavy rain/ice pallets'}\n",
    "    data['weather'] = data['weather'].map(weather_to_rename)\n",
    "        \n",
    "    return data"
   ]
  },
  {
   "cell_type": "code",
   "execution_count": 26,
   "metadata": {},
   "outputs": [],
   "source": [
    "data = custom_extra_dateinfo(data)"
   ]
  },
  {
   "cell_type": "markdown",
   "metadata": {},
   "source": [
    "## Data Correlation"
   ]
  },
  {
   "cell_type": "code",
   "execution_count": 27,
   "metadata": {},
   "outputs": [],
   "source": [
    "PREDICTORS = ['casual', 'registered', 'count']"
   ]
  },
  {
   "cell_type": "code",
   "execution_count": 28,
   "metadata": {},
   "outputs": [
    {
     "data": {
      "image/png": "[encoded data removed]",
      "text/plain": [
       "<Figure size 1440x864 with 3 Axes>"
      ]
     },
     "metadata": {
      "needs_background": "light"
     },
     "output_type": "display_data"
    }
   ],
   "source": [
    "# Correlation among the variables and the potential predictors\n",
    "corrs = data.corr()\n",
    "\n",
    "fig, axs = plt.subplots(3, 1, figsize=(20, 12), sharex=True)\n",
    "corrs['casual'].drop(PREDICTORS).plot.bar(color = 'b', ax=axs[0], title=\"Correlation: Casual\");\n",
    "corrs['registered'].drop(PREDICTORS).plot.bar(color = 'b', ax=axs[1], title=\"Correlation: Registered\");\n",
    "corrs['count'].drop(PREDICTORS).plot.bar(color = 'b', ax=axs[2], title=\"Correlation: Count\");"
   ]
  },
  {
   "cell_type": "markdown",
   "metadata": {},
   "source": [
    "#### Notes:\n",
    "- The top correlated variables with the predictors are Hour, Days_in_year, frac_day, Elapsed\n",
    "- The correlation values are similar throughout the three predictors with the exception of workingday"
   ]
  },
  {
   "cell_type": "code",
   "execution_count": 29,
   "metadata": {
    "code_folding": []
   },
   "outputs": [],
   "source": [
    "PREDICTORS = ['count', 'registered', 'casual']\n",
    "#PREDICTORS = ['count_log', 'registered_log', 'casual_log']\n",
    "\n",
    "def correlation(data, corr_by, remove_by=None, top_values=10):\n",
    "    data = data.copy()\n",
    "    corrs = data.corr()\n",
    "    if remove_by is None: remove_by = [corr_by]     \n",
    "        \n",
    "    vals = corrs[corr_by].drop(remove_by).sort_values().values\n",
    "    col = corrs[corr_by].drop(remove_by).sort_values().index\n",
    "    \n",
    "    df = pd.DataFrame({'columns': col, 'values': vals})\n",
    "    df['abs_vals'] = abs(df['values'])\n",
    "    \n",
    "    return df.sort_values(by='abs_vals', ascending=False)[:top_values]"
   ]
  },
  {
   "cell_type": "code",
   "execution_count": 30,
   "metadata": {},
   "outputs": [
    {
     "data": {
      "text/html": [
       "<div>\n",
       "<style scoped>\n",
       "    .dataframe tbody tr th:only-of-type {\n",
       "        vertical-align: middle;\n",
       "    }\n",
       "\n",
       "    .dataframe tbody tr th {\n",
       "        vertical-align: top;\n",
       "    }\n",
       "\n",
       "    .dataframe thead th {\n",
       "        text-align: right;\n",
       "    }\n",
       "</style>\n",
       "<table border=\"1\" class=\"dataframe\">\n",
       "  <thead>\n",
       "    <tr style=\"text-align: right;\">\n",
       "      <th></th>\n",
       "      <th>columns</th>\n",
       "      <th>values</th>\n",
       "      <th>abs_vals</th>\n",
       "    </tr>\n",
       "  </thead>\n",
       "  <tbody>\n",
       "    <tr>\n",
       "      <th>21</th>\n",
       "      <td>temp</td>\n",
       "      <td>0.467097</td>\n",
       "      <td>0.467097</td>\n",
       "    </tr>\n",
       "    <tr>\n",
       "      <th>20</th>\n",
       "      <td>atemp</td>\n",
       "      <td>0.462067</td>\n",
       "      <td>0.462067</td>\n",
       "    </tr>\n",
       "    <tr>\n",
       "      <th>0</th>\n",
       "      <td>humidity</td>\n",
       "      <td>-0.348187</td>\n",
       "      <td>0.348187</td>\n",
       "    </tr>\n",
       "    <tr>\n",
       "      <th>1</th>\n",
       "      <td>workingday</td>\n",
       "      <td>-0.319111</td>\n",
       "      <td>0.319111</td>\n",
       "    </tr>\n",
       "    <tr>\n",
       "      <th>19</th>\n",
       "      <td>Hour</td>\n",
       "      <td>0.302045</td>\n",
       "      <td>0.302045</td>\n",
       "    </tr>\n",
       "    <tr>\n",
       "      <th>18</th>\n",
       "      <td>frac_day</td>\n",
       "      <td>0.302045</td>\n",
       "      <td>0.302045</td>\n",
       "    </tr>\n",
       "    <tr>\n",
       "      <th>17</th>\n",
       "      <td>frac_week</td>\n",
       "      <td>0.287542</td>\n",
       "      <td>0.287542</td>\n",
       "    </tr>\n",
       "    <tr>\n",
       "      <th>16</th>\n",
       "      <td>Elapsed</td>\n",
       "      <td>0.172728</td>\n",
       "      <td>0.172728</td>\n",
       "    </tr>\n",
       "    <tr>\n",
       "      <th>15</th>\n",
       "      <td>is_leap_year</td>\n",
       "      <td>0.145241</td>\n",
       "      <td>0.145241</td>\n",
       "    </tr>\n",
       "    <tr>\n",
       "      <th>14</th>\n",
       "      <td>Days_in_year</td>\n",
       "      <td>0.145241</td>\n",
       "      <td>0.145241</td>\n",
       "    </tr>\n",
       "  </tbody>\n",
       "</table>\n",
       "</div>"
      ],
      "text/plain": [
       "         columns    values  abs_vals\n",
       "21          temp  0.467097  0.467097\n",
       "20         atemp  0.462067  0.462067\n",
       "0       humidity -0.348187  0.348187\n",
       "1     workingday -0.319111  0.319111\n",
       "19          Hour  0.302045  0.302045\n",
       "18      frac_day  0.302045  0.302045\n",
       "17     frac_week  0.287542  0.287542\n",
       "16       Elapsed  0.172728  0.172728\n",
       "15  is_leap_year  0.145241  0.145241\n",
       "14  Days_in_year  0.145241  0.145241"
      ]
     },
     "execution_count": 30,
     "metadata": {},
     "output_type": "execute_result"
    }
   ],
   "source": [
    "correlation(data, 'casual', remove_by=PREDICTORS)"
   ]
  },
  {
   "cell_type": "code",
   "execution_count": 31,
   "metadata": {},
   "outputs": [
    {
     "data": {
      "text/html": [
       "<div>\n",
       "<style scoped>\n",
       "    .dataframe tbody tr th:only-of-type {\n",
       "        vertical-align: middle;\n",
       "    }\n",
       "\n",
       "    .dataframe tbody tr th {\n",
       "        vertical-align: top;\n",
       "    }\n",
       "\n",
       "    .dataframe thead th {\n",
       "        text-align: right;\n",
       "    }\n",
       "</style>\n",
       "<table border=\"1\" class=\"dataframe\">\n",
       "  <thead>\n",
       "    <tr style=\"text-align: right;\">\n",
       "      <th></th>\n",
       "      <th>columns</th>\n",
       "      <th>values</th>\n",
       "      <th>abs_vals</th>\n",
       "    </tr>\n",
       "  </thead>\n",
       "  <tbody>\n",
       "    <tr>\n",
       "      <th>21</th>\n",
       "      <td>Hour</td>\n",
       "      <td>0.380540</td>\n",
       "      <td>0.380540</td>\n",
       "    </tr>\n",
       "    <tr>\n",
       "      <th>20</th>\n",
       "      <td>frac_day</td>\n",
       "      <td>0.380540</td>\n",
       "      <td>0.380540</td>\n",
       "    </tr>\n",
       "    <tr>\n",
       "      <th>19</th>\n",
       "      <td>temp</td>\n",
       "      <td>0.318571</td>\n",
       "      <td>0.318571</td>\n",
       "    </tr>\n",
       "    <tr>\n",
       "      <th>18</th>\n",
       "      <td>Elapsed</td>\n",
       "      <td>0.314879</td>\n",
       "      <td>0.314879</td>\n",
       "    </tr>\n",
       "    <tr>\n",
       "      <th>17</th>\n",
       "      <td>atemp</td>\n",
       "      <td>0.314635</td>\n",
       "      <td>0.314635</td>\n",
       "    </tr>\n",
       "    <tr>\n",
       "      <th>0</th>\n",
       "      <td>humidity</td>\n",
       "      <td>-0.265458</td>\n",
       "      <td>0.265458</td>\n",
       "    </tr>\n",
       "    <tr>\n",
       "      <th>16</th>\n",
       "      <td>is_leap_year</td>\n",
       "      <td>0.264265</td>\n",
       "      <td>0.264265</td>\n",
       "    </tr>\n",
       "    <tr>\n",
       "      <th>15</th>\n",
       "      <td>Days_in_year</td>\n",
       "      <td>0.264265</td>\n",
       "      <td>0.264265</td>\n",
       "    </tr>\n",
       "    <tr>\n",
       "      <th>14</th>\n",
       "      <td>frac_year</td>\n",
       "      <td>0.171237</td>\n",
       "      <td>0.171237</td>\n",
       "    </tr>\n",
       "    <tr>\n",
       "      <th>13</th>\n",
       "      <td>Dayofyear</td>\n",
       "      <td>0.170805</td>\n",
       "      <td>0.170805</td>\n",
       "    </tr>\n",
       "  </tbody>\n",
       "</table>\n",
       "</div>"
      ],
      "text/plain": [
       "         columns    values  abs_vals\n",
       "21          Hour  0.380540  0.380540\n",
       "20      frac_day  0.380540  0.380540\n",
       "19          temp  0.318571  0.318571\n",
       "18       Elapsed  0.314879  0.314879\n",
       "17         atemp  0.314635  0.314635\n",
       "0       humidity -0.265458  0.265458\n",
       "16  is_leap_year  0.264265  0.264265\n",
       "15  Days_in_year  0.264265  0.264265\n",
       "14     frac_year  0.171237  0.171237\n",
       "13     Dayofyear  0.170805  0.170805"
      ]
     },
     "execution_count": 31,
     "metadata": {},
     "output_type": "execute_result"
    }
   ],
   "source": [
    "correlation(data, 'registered', remove_by=PREDICTORS)"
   ]
  },
  {
   "cell_type": "code",
   "execution_count": 32,
   "metadata": {},
   "outputs": [
    {
     "data": {
      "text/html": [
       "<div>\n",
       "<style scoped>\n",
       "    .dataframe tbody tr th:only-of-type {\n",
       "        vertical-align: middle;\n",
       "    }\n",
       "\n",
       "    .dataframe tbody tr th {\n",
       "        vertical-align: top;\n",
       "    }\n",
       "\n",
       "    .dataframe thead th {\n",
       "        text-align: right;\n",
       "    }\n",
       "</style>\n",
       "<table border=\"1\" class=\"dataframe\">\n",
       "  <thead>\n",
       "    <tr style=\"text-align: right;\">\n",
       "      <th></th>\n",
       "      <th>columns</th>\n",
       "      <th>values</th>\n",
       "      <th>abs_vals</th>\n",
       "    </tr>\n",
       "  </thead>\n",
       "  <tbody>\n",
       "    <tr>\n",
       "      <th>21</th>\n",
       "      <td>temp</td>\n",
       "      <td>0.467097</td>\n",
       "      <td>0.467097</td>\n",
       "    </tr>\n",
       "    <tr>\n",
       "      <th>20</th>\n",
       "      <td>atemp</td>\n",
       "      <td>0.462067</td>\n",
       "      <td>0.462067</td>\n",
       "    </tr>\n",
       "    <tr>\n",
       "      <th>0</th>\n",
       "      <td>humidity</td>\n",
       "      <td>-0.348187</td>\n",
       "      <td>0.348187</td>\n",
       "    </tr>\n",
       "    <tr>\n",
       "      <th>1</th>\n",
       "      <td>workingday</td>\n",
       "      <td>-0.319111</td>\n",
       "      <td>0.319111</td>\n",
       "    </tr>\n",
       "    <tr>\n",
       "      <th>19</th>\n",
       "      <td>Hour</td>\n",
       "      <td>0.302045</td>\n",
       "      <td>0.302045</td>\n",
       "    </tr>\n",
       "    <tr>\n",
       "      <th>18</th>\n",
       "      <td>frac_day</td>\n",
       "      <td>0.302045</td>\n",
       "      <td>0.302045</td>\n",
       "    </tr>\n",
       "    <tr>\n",
       "      <th>17</th>\n",
       "      <td>frac_week</td>\n",
       "      <td>0.287542</td>\n",
       "      <td>0.287542</td>\n",
       "    </tr>\n",
       "    <tr>\n",
       "      <th>16</th>\n",
       "      <td>Elapsed</td>\n",
       "      <td>0.172728</td>\n",
       "      <td>0.172728</td>\n",
       "    </tr>\n",
       "    <tr>\n",
       "      <th>15</th>\n",
       "      <td>is_leap_year</td>\n",
       "      <td>0.145241</td>\n",
       "      <td>0.145241</td>\n",
       "    </tr>\n",
       "    <tr>\n",
       "      <th>14</th>\n",
       "      <td>Days_in_year</td>\n",
       "      <td>0.145241</td>\n",
       "      <td>0.145241</td>\n",
       "    </tr>\n",
       "  </tbody>\n",
       "</table>\n",
       "</div>"
      ],
      "text/plain": [
       "         columns    values  abs_vals\n",
       "21          temp  0.467097  0.467097\n",
       "20         atemp  0.462067  0.462067\n",
       "0       humidity -0.348187  0.348187\n",
       "1     workingday -0.319111  0.319111\n",
       "19          Hour  0.302045  0.302045\n",
       "18      frac_day  0.302045  0.302045\n",
       "17     frac_week  0.287542  0.287542\n",
       "16       Elapsed  0.172728  0.172728\n",
       "15  is_leap_year  0.145241  0.145241\n",
       "14  Days_in_year  0.145241  0.145241"
      ]
     },
     "execution_count": 32,
     "metadata": {},
     "output_type": "execute_result"
    }
   ],
   "source": [
    "correlation(data, 'casual', remove_by=PREDICTORS)"
   ]
  },
  {
   "cell_type": "markdown",
   "metadata": {},
   "source": [
    "## Data Cleaning: Skewness"
   ]
  },
  {
   "cell_type": "markdown",
   "metadata": {},
   "source": [
    "#### Notes:\n",
    "- We saw that there are not any missing values other the predictors in the data dataset.\n",
    "- We need to address boolean values and other categorical values that should be represented with encoders\n",
    "- Data skewness is an issue in our dataset for the predictors variables.\n",
    "- We must Q/A all the values to be reassured that the columns in our dataset is not skewed"
   ]
  },
  {
   "cell_type": "code",
   "execution_count": 33,
   "metadata": {},
   "outputs": [],
   "source": [
    "np.warnings.filterwarnings('ignore')\n",
    "\n",
    "data['casual_log'] = np.log1p(data['casual'])\n",
    "data['registered_log'] = np.log1p(data['registered'])\n",
    "data['count_log'] = np.log1p(data['count'])\n",
    "\n",
    "data.drop(['casual', 'registered', 'count'], axis=1, inplace=True)"
   ]
  },
  {
   "cell_type": "markdown",
   "metadata": {},
   "source": [
    "## Data Cleaning: Removing Columns"
   ]
  },
  {
   "cell_type": "markdown",
   "metadata": {},
   "source": [
    "#### Notes:\n",
    "- After checking the correlations values, there are a couple of columns that represent the same information. Some of the redudant columns are:\n",
    "    - Hour and frac_day\n",
    "    - temp and atemp\n",
    "    - Days_in_year and is_leap_year"
   ]
  },
  {
   "cell_type": "code",
   "execution_count": 34,
   "metadata": {},
   "outputs": [],
   "source": [
    "data.drop(['frac_day', 'atemp', 'Days_in_year'], axis=1, inplace=True)"
   ]
  },
  {
   "cell_type": "markdown",
   "metadata": {},
   "source": [
    "## Data Cleaning: Encoding Columns\n",
    "\n",
    "To encode the categorical variables, we will be using the `pd.get_dummies()`\n",
    "\n",
    "To labelencode categorical variables, we will be using `LabelEncoder()`"
   ]
  },
  {
   "cell_type": "code",
   "execution_count": 35,
   "metadata": {},
   "outputs": [],
   "source": [
    "# Extracting the columns that will be encoded\n",
    "object_cols = data.select_dtypes('object').columns.tolist()\n",
    "bool_cols = data.select_dtypes('bool').columns.tolist()\n",
    "encoded_cols = object_cols+bool_cols"
   ]
  },
  {
   "cell_type": "code",
   "execution_count": 36,
   "metadata": {},
   "outputs": [],
   "source": [
    "# Copying the dataframe to create encoders\n",
    "data_dummies = data.copy()\n",
    "\n",
    "# Encoding the object/bool columns\n",
    "data_dummies = pd.get_dummies(data_dummies, columns=encoded_cols, drop_first=True)"
   ]
  },
  {
   "cell_type": "code",
   "execution_count": 37,
   "metadata": {},
   "outputs": [
    {
     "data": {
      "text/plain": [
       "(17379, 55)"
      ]
     },
     "execution_count": 37,
     "metadata": {},
     "output_type": "execute_result"
    }
   ],
   "source": [
    "data_dummies.shape"
   ]
  },
  {
   "cell_type": "code",
   "execution_count": 38,
   "metadata": {},
   "outputs": [],
   "source": [
    "from sklearn import preprocessing\n",
    "from collections import defaultdict\n",
    "\n",
    "d = defaultdict(preprocessing.LabelEncoder)\n",
    "data[encoded_cols] = data[encoded_cols].apply(lambda x: d[x.name].fit_transform(x))"
   ]
  },
  {
   "cell_type": "code",
   "execution_count": 39,
   "metadata": {},
   "outputs": [
    {
     "data": {
      "text/plain": [
       "(17379, 37)"
      ]
     },
     "execution_count": 39,
     "metadata": {},
     "output_type": "execute_result"
    }
   ],
   "source": [
    "data.shape"
   ]
  },
  {
   "cell_type": "markdown",
   "metadata": {},
   "source": [
    "## Data Modeling"
   ]
  },
  {
   "cell_type": "markdown",
   "metadata": {},
   "source": [
    "### Data Modeling: Baselines\n",
    "\n",
    "Note: The model is judge on the RMSLE basis. However, since we transformed our predictors with log1p, we do not can use the RMSE instead!"
   ]
  },
  {
   "cell_type": "code",
   "execution_count": 40,
   "metadata": {},
   "outputs": [],
   "source": [
    "# Will need the test_datetime when we are submitting the predictions\n",
    "test_datetime = data.loc[data['count_log'].isnull(), \"datetime\"]"
   ]
  },
  {
   "cell_type": "code",
   "execution_count": 41,
   "metadata": {},
   "outputs": [],
   "source": [
    "# Returns the target variable for the training set\n",
    "def get_train_labels(data, predictors):\n",
    "    labels = [np.array(list(data.loc[data[p].notnull(), p])) for p in predictors]\n",
    "    return labels"
   ]
  },
  {
   "cell_type": "markdown",
   "metadata": {},
   "source": [
    "#### Notes:\n",
    "- For personal use, I'd would like compare the dataset with and without encoding"
   ]
  },
  {
   "cell_type": "code",
   "execution_count": 42,
   "metadata": {},
   "outputs": [],
   "source": [
    "# Extracting the target variable without encoding(we will have 3 for this dataset)\n",
    "train_label_cnt, train_label_reg, train_label_cas = get_train_labels(\n",
    "    data, ['count_log', 'registered_log', 'casual_log'])\n",
    "\n",
    "# Extracting the targetww variable with encoding(we will have 3 for this dataset)\n",
    "train_label_cnt_dum, train_label_reg_dum, train_label_cas_dum = get_train_labels(\n",
    "    data_dummies, ['count_log', 'registered_log', 'casual_log'])"
   ]
  },
  {
   "cell_type": "code",
   "execution_count": 43,
   "metadata": {},
   "outputs": [],
   "source": [
    "# Columns that will be dropped from the dataset (predictors & time)\n",
    "cols_to_drop = ['count_log', 'registered_log', 'casual_log', 'datetime',]"
   ]
  },
  {
   "cell_type": "code",
   "execution_count": 44,
   "metadata": {},
   "outputs": [],
   "source": [
    "# Calculating the training set for the two dataframes \n",
    "train_on = data.loc[data['count_log'].notnull()]\n",
    "train_on.drop(cols_to_drop, axis=1, inplace=True)\n",
    "train_on_dum = data_dummies.loc[data_dummies['count_log'].notnull()]\n",
    "train_on_dum.drop(cols_to_drop, axis=1, inplace=True)\n",
    "\n",
    "# Calculating the testing set for the two dataframes\n",
    "test_on = data.loc[data['count_log'].isnull()]\n",
    "test_on.drop(cols_to_drop, axis=1, inplace=True)\n",
    "test_on_dum = data_dummies.loc[data_dummies['count_log'].isnull()]\n",
    "test_on_dum.drop(cols_to_drop, axis=1, inplace=True)"
   ]
  },
  {
   "cell_type": "code",
   "execution_count": 45,
   "metadata": {},
   "outputs": [
    {
     "name": "stdout",
     "output_type": "stream",
     "text": [
      "The shape of the training set (without encoders) is (10886, 33)\n",
      "The shape of the training set (with encoders) is (10886, 51)\n"
     ]
    }
   ],
   "source": [
    "print(f\"The shape of the training set (without encoders) is {train_on.shape}\")\n",
    "print(f\"The shape of the training set (with encoders) is {train_on_dum.shape}\")"
   ]
  },
  {
   "cell_type": "code",
   "execution_count": 46,
   "metadata": {},
   "outputs": [
    {
     "name": "stderr",
     "output_type": "stream",
     "text": [
      "/Users/alexguanga/anaconda/lib/python3.6/site-packages/sklearn/ensemble/weight_boosting.py:29: DeprecationWarning: numpy.core.umath_tests is an internal NumPy module and should not be imported. It will be removed in a future NumPy release.\n",
      "  from numpy.core.umath_tests import inner1d\n"
     ]
    }
   ],
   "source": [
    "from sklearn.ensemble import RandomForestRegressor\n",
    "from sklearn.model_selection import cross_val_score\n",
    "from sklearn.metrics import make_scorer\n",
    "from sklearn.linear_model import Ridge, Lasso\n",
    "from sklearn.tree import DecisionTreeRegressor\n",
    "import xgboost as xgb\n",
    "\n",
    "from sklearn.model_selection import GridSearchCV, RandomizedSearchCV, cross_val_score\n",
    "\n",
    "# There are some internal error with Xgboost, this is the way around it\n",
    "import os\n",
    "os.environ['KMP_DUPLICATE_LIB_OK']='True'"
   ]
  },
  {
   "cell_type": "code",
   "execution_count": 47,
   "metadata": {},
   "outputs": [],
   "source": [
    "# Custom scorer that will be used to measure performance\n",
    "def rmse(actual, predicted):        \n",
    "    assert len(actual) == len(predicted)\n",
    "    return np.sqrt(np.mean(np.power((actual)-(predicted), 2)))"
   ]
  },
  {
   "cell_type": "code",
   "execution_count": 48,
   "metadata": {},
   "outputs": [],
   "source": [
    "def rmse_log(actual, predicted):\n",
    "    sle = (np.power(np.log(np.array((actual))+1) - \n",
    "            np.log(np.array(np.abs(predicted))+1), 2))\n",
    "    msle = np.mean(sle)\n",
    "    return (np.sqrt(msle))"
   ]
  },
  {
   "cell_type": "code",
   "execution_count": 49,
   "metadata": {},
   "outputs": [],
   "source": [
    "scorer = make_scorer(rmse, greater_is_better=False)"
   ]
  },
  {
   "cell_type": "markdown",
   "metadata": {},
   "source": [
    "#### Notes:\n",
    "- Training important regression models without hyperparameters manipulation to detect at its core, the best performing models"
   ]
  },
  {
   "cell_type": "code",
   "execution_count": 50,
   "metadata": {},
   "outputs": [],
   "source": [
    "MODELS = {\"Random Forest\": RandomForestRegressor(n_jobs=-1),\n",
    "          \"Ridge\": Ridge(),\n",
    "          \"Lasso\": Lasso(),\n",
    "          \"XGBoost\": xgb.XGBRegressor(n_jobs=-1)}"
   ]
  },
  {
   "cell_type": "code",
   "execution_count": 51,
   "metadata": {},
   "outputs": [],
   "source": [
    "def run_models_cv(data, labels, model, cv=10):\n",
    "    cv_score = cross_val_score(model, data, labels, cv=cv, scoring=scorer)\n",
    "    print(f\"10-Fold CV RMSE = {round(np.abs(cv_score.mean()), 4)} & Std. deviation = {round(cv_score.std(), 4)}\")"
   ]
  },
  {
   "cell_type": "code",
   "execution_count": 52,
   "metadata": {},
   "outputs": [
    {
     "name": "stdout",
     "output_type": "stream",
     "text": [
      "Random Forest\n",
      "10-Fold CV RMSE = 0.3813 & Std. deviation = 0.0775\n",
      "----------\n",
      "Ridge\n",
      "10-Fold CV RMSE = 0.829 & Std. deviation = 0.0389\n",
      "----------\n",
      "Lasso\n",
      "10-Fold CV RMSE = 1.0443 & Std. deviation = 0.0687\n",
      "----------\n",
      "XGBoost\n",
      "10-Fold CV RMSE = 0.3871 & Std. deviation = 0.0546\n",
      "----------\n"
     ]
    }
   ],
   "source": [
    "for model_name, model in MODELS.items():\n",
    "    print(f\"{model_name}\")\n",
    "    run_models_cv(train_on_dum, train_label_cnt_dum, model)\n",
    "    print(\"----------\")\n",
    "    "
   ]
  },
  {
   "cell_type": "code",
   "execution_count": 53,
   "metadata": {},
   "outputs": [
    {
     "name": "stdout",
     "output_type": "stream",
     "text": [
      "Random Forest\n",
      "10-Fold CV RMSE = 0.3729 & Std. deviation = 0.0737\n",
      "----------\n",
      "Ridge\n",
      "10-Fold CV RMSE = 0.832 & Std. deviation = 0.0355\n",
      "----------\n",
      "Lasso\n",
      "10-Fold CV RMSE = 1.0486 & Std. deviation = 0.0611\n",
      "----------\n",
      "XGBoost\n",
      "10-Fold CV RMSE = 0.3812 & Std. deviation = 0.0501\n",
      "----------\n"
     ]
    }
   ],
   "source": [
    "for model_name, model in MODELS.items():\n",
    "    print(f\"{model_name}\")\n",
    "    run_models_cv(train_on_dum, train_label_reg_dum, model)\n",
    "    print(\"----------\")\n",
    "    "
   ]
  },
  {
   "cell_type": "code",
   "execution_count": 54,
   "metadata": {},
   "outputs": [
    {
     "name": "stdout",
     "output_type": "stream",
     "text": [
      "Random Forest\n",
      "10-Fold CV RMSE = 0.601 & Std. deviation = 0.1\n",
      "----------\n",
      "Ridge\n",
      "10-Fold CV RMSE = 0.8224 & Std. deviation = 0.0285\n",
      "----------\n",
      "Lasso\n",
      "10-Fold CV RMSE = 1.0511 & Std. deviation = 0.0759\n",
      "----------\n",
      "XGBoost\n",
      "10-Fold CV RMSE = 0.554 & Std. deviation = 0.0638\n",
      "----------\n"
     ]
    }
   ],
   "source": [
    "for model_name, model in MODELS.items():\n",
    "    print(f\"{model_name}\")\n",
    "    run_models_cv(train_on_dum, train_label_cas_dum, model)\n",
    "    print(\"----------\")\n",
    "    "
   ]
  },
  {
   "cell_type": "code",
   "execution_count": 55,
   "metadata": {},
   "outputs": [
    {
     "name": "stdout",
     "output_type": "stream",
     "text": [
      "Random Forest\n",
      "10-Fold CV RMSE = 0.4189 & Std. deviation = 0.1364\n",
      "----------\n",
      "Ridge\n",
      "10-Fold CV RMSE = 0.9239 & Std. deviation = 0.0427\n",
      "----------\n",
      "Lasso\n",
      "10-Fold CV RMSE = 1.0443 & Std. deviation = 0.0687\n",
      "----------\n",
      "XGBoost\n",
      "10-Fold CV RMSE = 0.3956 & Std. deviation = 0.0651\n",
      "----------\n"
     ]
    }
   ],
   "source": [
    "# For comparison purposes, lets see how the labelencoders performs against the get_dummies\n",
    "for model_name, model in MODELS.items():\n",
    "    print(f\"{model_name}\")\n",
    "    run_models_cv(train_on, train_label_cnt, model)\n",
    "    print(\"----------\")\n",
    "    "
   ]
  },
  {
   "cell_type": "code",
   "execution_count": 56,
   "metadata": {},
   "outputs": [],
   "source": [
    "#rf_model.fit(train_on_dum, train_cnt_labels_dum)\n",
    "#rf_submission = make_submission(rf_model, train_on_dum, train_cnt_labels_dum, test_on_dum, test_datetime)\n",
    "#rf_submission.to_csv(\"./saved_submissions/rf_12-11-18.csv\", index=False)"
   ]
  },
  {
   "cell_type": "markdown",
   "metadata": {},
   "source": [
    "#### Score for `rf_model` above:\n",
    "- 0.46163\n"
   ]
  },
  {
   "cell_type": "markdown",
   "metadata": {},
   "source": [
    "#### Notes:\n",
    "- `Random Forest` & `XGboost` are the two models that we could continue refining to get a better score. \n",
    "- Since they are the strongest performing models.\n",
    "- For the visualization, I'll be using the labelencoders dataset"
   ]
  },
  {
   "cell_type": "code",
   "execution_count": 51,
   "metadata": {
    "code_folding": []
   },
   "outputs": [],
   "source": [
    "def model_feat_imp(train_on, train_labels, test_on, features, model, top_feats):\n",
    "    \"\"\"Train and evaluate the models using the given set of features.\"\"\"        \n",
    "            \n",
    "    # Training the model\n",
    "    model.fit(train_on[features], train_labels)\n",
    "    \n",
    "    # Extract feature importances\n",
    "    feature_importances = pd.DataFrame({'feature': features, \n",
    "                                        'importance': model.feature_importances_}).\\\n",
    "    sort_values('importance', ascending=False).set_index('feature')[:top_feats]\n",
    "    \n",
    "    return feature_importances"
   ]
  },
  {
   "cell_type": "code",
   "execution_count": 52,
   "metadata": {},
   "outputs": [],
   "source": [
    "ALL_IN_FEATS = train_on.columns"
   ]
  },
  {
   "cell_type": "code",
   "execution_count": 54,
   "metadata": {},
   "outputs": [
    {
     "data": {
      "image/png": "[encoded data removed]",
      "text/plain": [
       "<Figure size 1152x288 with 1 Axes>"
      ]
     },
     "metadata": {
      "needs_background": "light"
     },
     "output_type": "display_data"
    },
    {
     "data": {
      "image/png": "[encoded data removed]",
      "text/plain": [
       "<Figure size 1152x288 with 1 Axes>"
      ]
     },
     "metadata": {
      "needs_background": "light"
     },
     "output_type": "display_data"
    },
    {
     "data": {
      "image/png": "[encoded data removed]",
      "text/plain": [
       "<Figure size 1152x288 with 1 Axes>"
      ]
     },
     "metadata": {
      "needs_background": "light"
     },
     "output_type": "display_data"
    }
   ],
   "source": [
    "# Visualizing the top features for Random Forest (segm. by count, casual, registered)\n",
    "rf_model = RandomForestRegressor(n_jobs=-1)\n",
    "\n",
    "# Calculating the top features for count, casual, registered\n",
    "rf_feats_count = model_feat_imp(train_on, train_label_cnt, test_on, ALL_IN_FEATS, rf_model, len(ALL_IN_FEATS))\n",
    "rf_feats_cas = model_feat_imp(train_on, train_label_cas, test_on, ALL_IN_FEATS, rf_model, 15)\n",
    "rf_feats_reg = model_feat_imp(train_on, train_label_reg, test_on, ALL_IN_FEATS, rf_model, 15)\n",
    "\n",
    "# Plotting the top feature performerrs\n",
    "rf_feats_count.plot.bar(color='b', figsize=(16, 4))\n",
    "plt.title(\"Random Forest - Feature Imp: Count (Dummy Variables)\")\n",
    "rf_feats_cas.plot.bar(color='b', figsize=(16, 4))\n",
    "plt.title(\"Random Forest - Feature Imp: Casual (Dummy Variables)\")\n",
    "rf_feats_reg.plot.bar(color='b', figsize=(16, 4))\n",
    "plt.title(\"Random Forest - Feature Imp: Registered (Dummy Variables)\")\n",
    "\n",
    "plt.show()"
   ]
  },
  {
   "cell_type": "code",
   "execution_count": 55,
   "metadata": {},
   "outputs": [
    {
     "data": {
      "image/png": "[encoded data removed]",
      "text/plain": [
       "<Figure size 1152x288 with 1 Axes>"
      ]
     },
     "metadata": {
      "needs_background": "light"
     },
     "output_type": "display_data"
    },
    {
     "data": {
      "image/png": "[encoded data removed]",
      "text/plain": [
       "<Figure size 1152x288 with 1 Axes>"
      ]
     },
     "metadata": {
      "needs_background": "light"
     },
     "output_type": "display_data"
    },
    {
     "data": {
      "image/png": "[encoded data removed]",
      "text/plain": [
       "<Figure size 1152x288 with 1 Axes>"
      ]
     },
     "metadata": {
      "needs_background": "light"
     },
     "output_type": "display_data"
    }
   ],
   "source": [
    "# Visualizing the top features for Xgboost (segm. by count, casual, registered)\n",
    "xgb_model = xgb.XGBRegressor(n_jobs=-1)\n",
    "\n",
    "# Calculating the top features for count, casual, registered\n",
    "xgb_feats_count = model_feat_imp(train_on, train_label_cnt, test_on, ALL_IN_FEATS, xgb_model, len(ALL_IN_FEATS))\n",
    "xgb_feats_cas = model_feat_imp(train_on, train_label_cas, test_on, ALL_IN_FEATS, xgb_model, 15)\n",
    "xgb_feats_reg = model_feat_imp(train_on, train_label_reg, test_on, ALL_IN_FEATS, xgb_model, 15)\n",
    "\n",
    "# Plotting the top feature performerrs\n",
    "xgb_feats_count.plot.bar(color='r', figsize=(16, 4))\n",
    "plt.title(\"XGBoost - Feature Imp: Count (Dummy Variables)\")\n",
    "xgb_feats_cas.plot.bar(color='r', figsize=(16, 4))\n",
    "plt.title(\"XGBoost - Feature Imp: Casual (Dummy Variables)\")\n",
    "xgb_feats_reg.plot.bar(color='r', figsize=(16, 4))\n",
    "plt.title(\"XGBoost - Feature Imp: Registered (Dummy Variables)\")\n",
    "\n",
    "plt.show()"
   ]
  },
  {
   "cell_type": "markdown",
   "metadata": {},
   "source": [
    "### Data Modeling: Randomized Grid Search CV"
   ]
  },
  {
   "cell_type": "code",
   "execution_count": 53,
   "metadata": {},
   "outputs": [],
   "source": [
    "def get_predict(model, train_on, train_labels, test_on, test_ids):\n",
    "    model.fit(train_on, train_labels)\n",
    "    \n",
    "    predict = model.predict(test_on)\n",
    "    predict = np.exp(predict) - 1\n",
    "    \n",
    "    sub = pd.DataFrame({'datetime': test_ids, 'count': predict.astype(int)})\n",
    "    return sub"
   ]
  },
  {
   "cell_type": "code",
   "execution_count": 54,
   "metadata": {},
   "outputs": [],
   "source": [
    "def random_search(model, params, train_on, train_labels, cv=5):\n",
    "    train_on = train_on.values\n",
    "    rs = RandomizedSearchCV(model, param_distributions=params, scoring=scorer, cv=cv)\n",
    "    \n",
    "    # Train the model\n",
    "    rs.fit(train_on, train_labels)\n",
    "    return rs"
   ]
  },
  {
   "cell_type": "code",
   "execution_count": null,
   "metadata": {},
   "outputs": [],
   "source": [
    "xgb_model = xgb.XGBRegressor(n_jobs=-1)\n",
    "xgb_params = {\"learning_rate\": [0.05, 0.10, 0.15, 0.20, 0.25, 0.30],\n",
    "              \"max_depth\": [3, 4, 5, 6, 8, 10, 12, 15],\n",
    "              \"min_child_weight\": [1, 3, 5, 7],\n",
    "              \"gamma\": [0.0, 0.1, 0.2 , 0.3, 0.4],\n",
    "              \"colsample_bytree\": [0.3, 0.4, 0.5 , 0.7]}"
   ]
  },
  {
   "cell_type": "code",
   "execution_count": null,
   "metadata": {},
   "outputs": [],
   "source": [
    "# Training with label encoder dataset\n",
    "xgb_rs = random_search(xgb_model, xgb_params, train_on, train_label_cnt, cv=5)\n",
    "print(f\"Best Params: {xgb_rs.best_params_}\")\n",
    "\n",
    "xgb_model = xgb.XGBRegressor(**xgb_rs.best_params_)\n",
    "xgb_predicts = get_predict(xgb_model, train_on_dum, train_label_cnt_dum, test_on_dum, test_datetime)#\n",
    "#xgb_predicts.to_csv(\"./saved_submissions/xgb_12-18-18.csv\", index=False)\n",
    "\n",
    "# Dataset: train_on, Score: 0.44104"
   ]
  },
  {
   "cell_type": "code",
   "execution_count": 70,
   "metadata": {},
   "outputs": [
    {
     "name": "stdout",
     "output_type": "stream",
     "text": [
      "Best Hyperparamters: {'min_child_weight': 3, 'max_depth': 4, 'learning_rate': 0.3500000000000001, 'gamma': 0.6000000000000001, 'colsample_bytree': 0.7}\n",
      "Best Score: 0.39\n"
     ]
    }
   ],
   "source": [
    "# Training with label encoder dataset\n",
    "xgb_rs = random_search(xgb_model, xgb_params, train_on_dum, train_label_cnt_dum, cv=5)\n",
    "print(f\"Best Hyperparamters: {xgb_rs.best_params_}\")\n",
    "print(f\"Best Score: {np.abs(xgb_rs.best_score_):.2f}\")\n",
    "\n",
    "xgb_model = xgb.XGBRegressor(**xgb_rs.best_params_)\n",
    "xgb_predicts = get_predict(xgb_model, train_on_dum, train_label_cnt_dum, test_on_dum, test_datetime)\n",
    "#xgb_predicts.to_csv(\"./saved_submissions/xgb-dummy_12-18-18.csv\", index=False)\n",
    "\n",
    "# Dataset: train_on_dum, CV=5, Score: 0.43447\n",
    "# Dataset: train_on_dum, CV=10, Score: 0.43488"
   ]
  },
  {
   "cell_type": "markdown",
   "metadata": {},
   "source": [
    "#### Scores:\n",
    "1. Dataset: `train_on`, Scorer: `rmse_log`, cv=5, Score=0.44104\n",
    "2. Dataset: `train_on_dum`, Scorer: `rmse_log`, cv=5, .43447\n",
    "3. Dataset: `train_on_dum`, Scorer: `rmse_log`, cv=10, .43488\n",
    "4. Dataset: `train_on_dum`, Scorer: `rmse`, cv=5, .43355\n"
   ]
  },
  {
   "cell_type": "markdown",
   "metadata": {},
   "source": [
    "## Data Techniques: Improving the Score"
   ]
  },
  {
   "cell_type": "markdown",
   "metadata": {},
   "source": [
    "The goal is to improve the score. There are a couple of methods that I am thinking might work. We can first select the best variables since the model is probably overfitting. We can also split the registered, counts, and casual to create some weighted total.\n",
    "1. Let's use the `model_feat_imp` a function to calculate the best features for casual, registered, and count! "
   ]
  },
  {
   "cell_type": "code",
   "execution_count": 56,
   "metadata": {},
   "outputs": [],
   "source": [
    "def feat_df(feats, cols):\n",
    "    return pd.DataFrame(feats, index=cols, columns=['importance']).sort_values('importance', ascending=False)"
   ]
  },
  {
   "cell_type": "code",
   "execution_count": null,
   "metadata": {},
   "outputs": [],
   "source": []
  },
  {
   "cell_type": "code",
   "execution_count": 70,
   "metadata": {},
   "outputs": [],
   "source": [
    "cols = train_on_dum.columns\n",
    "\n",
    "# Extracting the features for count \n",
    "xgb_rs_count = random_search(xgb_model, xgb_params, train_on_dum, train_label_cnt_dum, cv=5)\n",
    "xgb_model_count = xgb.XGBRegressor(**xgb_rs_count.best_params_)\n",
    "xgb_model_count.fit(train_on_dum, train_label_cnt_dum)\n",
    "count_feats = feat_df(xgb_model_count.feature_importances_, cols)\n",
    "\n",
    "# Extracting the features for registerd \n",
    "xgb_rs_cas = random_search(xgb_model, xgb_params, train_on_dum, train_label_cas_dum, cv=5)\n",
    "xgb_model_cas = xgb.XGBRegressor(**xgb_rs_cas.best_params_)\n",
    "xgb_model_cas.fit(train_on_dum, train_label_cas_dum)\n",
    "cas_feats = feat_df(xgb_model_cas.feature_importances_, cols)\n",
    "\n",
    "# Extracting the features for registered \n",
    "xgb_rs_reg = random_search(xgb_model, xgb_params, train_on_dum, train_label_reg_dum, cv=5)\n",
    "xgb_model_reg = xgb.XGBRegressor(**xgb_rs_reg.best_params_)\n",
    "xgb_model_reg.fit(train_on_dum, train_label_cas_dum)\n",
    "reg_feats = feat_df(xgb_model_reg.feature_importances_, cols)\n"
   ]
  },
  {
   "cell_type": "code",
   "execution_count": 71,
   "metadata": {},
   "outputs": [
    {
     "name": "stdout",
     "output_type": "stream",
     "text": [
      "Best Score (count): 0.41\n",
      "Best Score (casual): 0.58\n",
      "Best Score (registered): 0.39\n"
     ]
    }
   ],
   "source": [
    "print(f\"Best Score (count): {np.abs(xgb_rs_count.best_score_):.2f}\")\n",
    "print(f\"Best Score (casual): {np.abs(xgb_rs_cas.best_score_):.2f}\")\n",
    "print(f\"Best Score (registered): {np.abs(xgb_rs_reg.best_score_):.2f}\")"
   ]
  },
  {
   "cell_type": "code",
   "execution_count": 72,
   "metadata": {},
   "outputs": [
    {
     "data": {
      "text/html": [
       "<div>\n",
       "<style scoped>\n",
       "    .dataframe tbody tr th:only-of-type {\n",
       "        vertical-align: middle;\n",
       "    }\n",
       "\n",
       "    .dataframe tbody tr th {\n",
       "        vertical-align: top;\n",
       "    }\n",
       "\n",
       "    .dataframe thead th {\n",
       "        text-align: right;\n",
       "    }\n",
       "</style>\n",
       "<table border=\"1\" class=\"dataframe\">\n",
       "  <thead>\n",
       "    <tr style=\"text-align: right;\">\n",
       "      <th></th>\n",
       "      <th>imp_count</th>\n",
       "      <th>imp_cas</th>\n",
       "      <th>imp_reg</th>\n",
       "    </tr>\n",
       "  </thead>\n",
       "  <tbody>\n",
       "    <tr>\n",
       "      <th>frac_week</th>\n",
       "      <td>0.148092</td>\n",
       "      <td>0.144290</td>\n",
       "      <td>0.160015</td>\n",
       "    </tr>\n",
       "    <tr>\n",
       "      <th>frac_year</th>\n",
       "      <td>0.119478</td>\n",
       "      <td>0.131944</td>\n",
       "      <td>0.120883</td>\n",
       "    </tr>\n",
       "    <tr>\n",
       "      <th>Elapsed</th>\n",
       "      <td>0.115713</td>\n",
       "      <td>0.123843</td>\n",
       "      <td>0.103448</td>\n",
       "    </tr>\n",
       "    <tr>\n",
       "      <th>Hour</th>\n",
       "      <td>0.089357</td>\n",
       "      <td>0.100309</td>\n",
       "      <td>0.103836</td>\n",
       "    </tr>\n",
       "    <tr>\n",
       "      <th>frac_month</th>\n",
       "      <td>0.083584</td>\n",
       "      <td>0.079090</td>\n",
       "      <td>0.082914</td>\n",
       "    </tr>\n",
       "  </tbody>\n",
       "</table>\n",
       "</div>"
      ],
      "text/plain": [
       "            imp_count   imp_cas   imp_reg\n",
       "frac_week    0.148092  0.144290  0.160015\n",
       "frac_year    0.119478  0.131944  0.120883\n",
       "Elapsed      0.115713  0.123843  0.103448\n",
       "Hour         0.089357  0.100309  0.103836\n",
       "frac_month   0.083584  0.079090  0.082914"
      ]
     },
     "execution_count": 72,
     "metadata": {},
     "output_type": "execute_result"
    }
   ],
   "source": [
    "imp_cols_df = pd.concat([count_feats, cas_feats, reg_feats], axis=1)\n",
    "imp_cols_df.columns = ['imp_count', 'imp_cas', 'imp_reg']\n",
    "imp_cols_df.sort_index(by='imp_count', ascending=False).head(5)"
   ]
  },
  {
   "cell_type": "code",
   "execution_count": 77,
   "metadata": {},
   "outputs": [
    {
     "data": {
      "text/html": [
       "<div>\n",
       "<style scoped>\n",
       "    .dataframe tbody tr th:only-of-type {\n",
       "        vertical-align: middle;\n",
       "    }\n",
       "\n",
       "    .dataframe tbody tr th {\n",
       "        vertical-align: top;\n",
       "    }\n",
       "\n",
       "    .dataframe thead th {\n",
       "        text-align: right;\n",
       "    }\n",
       "</style>\n",
       "<table border=\"1\" class=\"dataframe\">\n",
       "  <thead>\n",
       "    <tr style=\"text-align: right;\">\n",
       "      <th></th>\n",
       "      <th>imp_count</th>\n",
       "      <th>imp_cas</th>\n",
       "      <th>imp_reg</th>\n",
       "    </tr>\n",
       "  </thead>\n",
       "  <tbody>\n",
       "    <tr>\n",
       "      <th>frac_week</th>\n",
       "      <td>0.148092</td>\n",
       "      <td>0.144290</td>\n",
       "      <td>0.160015</td>\n",
       "    </tr>\n",
       "    <tr>\n",
       "      <th>frac_year</th>\n",
       "      <td>0.119478</td>\n",
       "      <td>0.131944</td>\n",
       "      <td>0.120883</td>\n",
       "    </tr>\n",
       "    <tr>\n",
       "      <th>Elapsed</th>\n",
       "      <td>0.115713</td>\n",
       "      <td>0.123843</td>\n",
       "      <td>0.103448</td>\n",
       "    </tr>\n",
       "    <tr>\n",
       "      <th>Hour</th>\n",
       "      <td>0.089357</td>\n",
       "      <td>0.100309</td>\n",
       "      <td>0.103836</td>\n",
       "    </tr>\n",
       "    <tr>\n",
       "      <th>frac_month</th>\n",
       "      <td>0.083584</td>\n",
       "      <td>0.079090</td>\n",
       "      <td>0.082914</td>\n",
       "    </tr>\n",
       "    <tr>\n",
       "      <th>temp</th>\n",
       "      <td>0.073795</td>\n",
       "      <td>0.086806</td>\n",
       "      <td>0.088338</td>\n",
       "    </tr>\n",
       "    <tr>\n",
       "      <th>humidity</th>\n",
       "      <td>0.067269</td>\n",
       "      <td>0.063272</td>\n",
       "      <td>0.060054</td>\n",
       "    </tr>\n",
       "    <tr>\n",
       "      <th>windspeed</th>\n",
       "      <td>0.042420</td>\n",
       "      <td>0.049769</td>\n",
       "      <td>0.037582</td>\n",
       "    </tr>\n",
       "    <tr>\n",
       "      <th>Dayofyear</th>\n",
       "      <td>0.034639</td>\n",
       "      <td>0.031636</td>\n",
       "      <td>0.033320</td>\n",
       "    </tr>\n",
       "    <tr>\n",
       "      <th>Week</th>\n",
       "      <td>0.028112</td>\n",
       "      <td>0.027778</td>\n",
       "      <td>0.022859</td>\n",
       "    </tr>\n",
       "    <tr>\n",
       "      <th>Day</th>\n",
       "      <td>0.022841</td>\n",
       "      <td>0.025077</td>\n",
       "      <td>0.022472</td>\n",
       "    </tr>\n",
       "    <tr>\n",
       "      <th>workingday</th>\n",
       "      <td>0.016064</td>\n",
       "      <td>0.010802</td>\n",
       "      <td>0.013561</td>\n",
       "    </tr>\n",
       "    <tr>\n",
       "      <th>weather_light snow/light rain</th>\n",
       "      <td>0.014809</td>\n",
       "      <td>0.011960</td>\n",
       "      <td>0.018210</td>\n",
       "    </tr>\n",
       "    <tr>\n",
       "      <th>Days_in_month</th>\n",
       "      <td>0.011546</td>\n",
       "      <td>0.007716</td>\n",
       "      <td>0.007749</td>\n",
       "    </tr>\n",
       "    <tr>\n",
       "      <th>holiday</th>\n",
       "      <td>0.011295</td>\n",
       "      <td>0.008102</td>\n",
       "      <td>0.008911</td>\n",
       "    </tr>\n",
       "    <tr>\n",
       "      <th>Weekofyear</th>\n",
       "      <td>0.009538</td>\n",
       "      <td>0.007330</td>\n",
       "      <td>0.006587</td>\n",
       "    </tr>\n",
       "    <tr>\n",
       "      <th>Timeofday_night</th>\n",
       "      <td>0.009538</td>\n",
       "      <td>0.006173</td>\n",
       "      <td>0.008911</td>\n",
       "    </tr>\n",
       "    <tr>\n",
       "      <th>Dayofweek_Sunday</th>\n",
       "      <td>0.008283</td>\n",
       "      <td>0.005787</td>\n",
       "      <td>0.005812</td>\n",
       "    </tr>\n",
       "    <tr>\n",
       "      <th>Dayofweek_Monday</th>\n",
       "      <td>0.007781</td>\n",
       "      <td>0.001929</td>\n",
       "      <td>0.003874</td>\n",
       "    </tr>\n",
       "    <tr>\n",
       "      <th>Dayofweek_Wednesday</th>\n",
       "      <td>0.007530</td>\n",
       "      <td>0.005015</td>\n",
       "      <td>0.007749</td>\n",
       "    </tr>\n",
       "    <tr>\n",
       "      <th>Year_2012</th>\n",
       "      <td>0.006777</td>\n",
       "      <td>0.005401</td>\n",
       "      <td>0.005424</td>\n",
       "    </tr>\n",
       "    <tr>\n",
       "      <th>weather_mist/cloudy</th>\n",
       "      <td>0.006275</td>\n",
       "      <td>0.008102</td>\n",
       "      <td>0.007361</td>\n",
       "    </tr>\n",
       "    <tr>\n",
       "      <th>Timeofday_morning</th>\n",
       "      <td>0.005522</td>\n",
       "      <td>0.005401</td>\n",
       "      <td>0.008136</td>\n",
       "    </tr>\n",
       "    <tr>\n",
       "      <th>Timeofday_evening</th>\n",
       "      <td>0.005020</td>\n",
       "      <td>0.009259</td>\n",
       "      <td>0.008911</td>\n",
       "    </tr>\n",
       "    <tr>\n",
       "      <th>Dayofweek_Saturday</th>\n",
       "      <td>0.004769</td>\n",
       "      <td>0.008873</td>\n",
       "      <td>0.006974</td>\n",
       "    </tr>\n",
       "    <tr>\n",
       "      <th>Dayofweek_Thursday</th>\n",
       "      <td>0.004518</td>\n",
       "      <td>0.002701</td>\n",
       "      <td>0.003487</td>\n",
       "    </tr>\n",
       "    <tr>\n",
       "      <th>Dayofweek_Tuesday</th>\n",
       "      <td>0.004518</td>\n",
       "      <td>0.001929</td>\n",
       "      <td>0.003100</td>\n",
       "    </tr>\n",
       "    <tr>\n",
       "      <th>Month_Jul</th>\n",
       "      <td>0.004518</td>\n",
       "      <td>0.005015</td>\n",
       "      <td>0.006199</td>\n",
       "    </tr>\n",
       "    <tr>\n",
       "      <th>season_summer</th>\n",
       "      <td>0.004267</td>\n",
       "      <td>0.000386</td>\n",
       "      <td>0.003100</td>\n",
       "    </tr>\n",
       "    <tr>\n",
       "      <th>Month_May</th>\n",
       "      <td>0.004267</td>\n",
       "      <td>0.005015</td>\n",
       "      <td>0.006199</td>\n",
       "    </tr>\n",
       "    <tr>\n",
       "      <th>is_leap_year_True</th>\n",
       "      <td>0.004016</td>\n",
       "      <td>0.003086</td>\n",
       "      <td>0.004262</td>\n",
       "    </tr>\n",
       "    <tr>\n",
       "      <th>Month_Mar</th>\n",
       "      <td>0.003263</td>\n",
       "      <td>0.002701</td>\n",
       "      <td>0.005037</td>\n",
       "    </tr>\n",
       "    <tr>\n",
       "      <th>Month_Nov</th>\n",
       "      <td>0.003012</td>\n",
       "      <td>0.000386</td>\n",
       "      <td>0.001162</td>\n",
       "    </tr>\n",
       "    <tr>\n",
       "      <th>Month_Sep</th>\n",
       "      <td>0.002761</td>\n",
       "      <td>0.002701</td>\n",
       "      <td>0.002325</td>\n",
       "    </tr>\n",
       "    <tr>\n",
       "      <th>Month_Jan</th>\n",
       "      <td>0.002510</td>\n",
       "      <td>0.000386</td>\n",
       "      <td>0.000000</td>\n",
       "    </tr>\n",
       "    <tr>\n",
       "      <th>Is_month_start_True</th>\n",
       "      <td>0.001757</td>\n",
       "      <td>0.001929</td>\n",
       "      <td>0.001550</td>\n",
       "    </tr>\n",
       "    <tr>\n",
       "      <th>Is_quarter_start_True</th>\n",
       "      <td>0.001757</td>\n",
       "      <td>0.001543</td>\n",
       "      <td>0.001162</td>\n",
       "    </tr>\n",
       "    <tr>\n",
       "      <th>Month_Aug</th>\n",
       "      <td>0.001757</td>\n",
       "      <td>0.001929</td>\n",
       "      <td>0.002712</td>\n",
       "    </tr>\n",
       "    <tr>\n",
       "      <th>Month_Dec</th>\n",
       "      <td>0.001506</td>\n",
       "      <td>0.000386</td>\n",
       "      <td>0.000775</td>\n",
       "    </tr>\n",
       "    <tr>\n",
       "      <th>Month_Oct</th>\n",
       "      <td>0.001506</td>\n",
       "      <td>0.001929</td>\n",
       "      <td>0.001162</td>\n",
       "    </tr>\n",
       "    <tr>\n",
       "      <th>season_spring</th>\n",
       "      <td>0.001255</td>\n",
       "      <td>0.000386</td>\n",
       "      <td>0.000387</td>\n",
       "    </tr>\n",
       "    <tr>\n",
       "      <th>Month_Feb</th>\n",
       "      <td>0.001004</td>\n",
       "      <td>0.000000</td>\n",
       "      <td>0.001162</td>\n",
       "    </tr>\n",
       "    <tr>\n",
       "      <th>Month_Jun</th>\n",
       "      <td>0.000753</td>\n",
       "      <td>0.001929</td>\n",
       "      <td>0.001937</td>\n",
       "    </tr>\n",
       "    <tr>\n",
       "      <th>season_winter</th>\n",
       "      <td>0.000753</td>\n",
       "      <td>0.000000</td>\n",
       "      <td>0.000000</td>\n",
       "    </tr>\n",
       "    <tr>\n",
       "      <th>Is_year_start_True</th>\n",
       "      <td>0.000251</td>\n",
       "      <td>0.000000</td>\n",
       "      <td>0.000387</td>\n",
       "    </tr>\n",
       "    <tr>\n",
       "      <th>Is_quarter_end_True</th>\n",
       "      <td>0.000000</td>\n",
       "      <td>0.000000</td>\n",
       "      <td>0.000000</td>\n",
       "    </tr>\n",
       "    <tr>\n",
       "      <th>Minute</th>\n",
       "      <td>0.000000</td>\n",
       "      <td>0.000000</td>\n",
       "      <td>0.000000</td>\n",
       "    </tr>\n",
       "    <tr>\n",
       "      <th>weather_heavy rain/ice pallets</th>\n",
       "      <td>0.000000</td>\n",
       "      <td>0.000000</td>\n",
       "      <td>0.000000</td>\n",
       "    </tr>\n",
       "    <tr>\n",
       "      <th>Is_year_end_True</th>\n",
       "      <td>0.000000</td>\n",
       "      <td>0.000000</td>\n",
       "      <td>0.000000</td>\n",
       "    </tr>\n",
       "    <tr>\n",
       "      <th>Is_month_end_True</th>\n",
       "      <td>0.000000</td>\n",
       "      <td>0.000000</td>\n",
       "      <td>0.000000</td>\n",
       "    </tr>\n",
       "    <tr>\n",
       "      <th>Second</th>\n",
       "      <td>0.000000</td>\n",
       "      <td>0.000000</td>\n",
       "      <td>0.000000</td>\n",
       "    </tr>\n",
       "  </tbody>\n",
       "</table>\n",
       "</div>"
      ],
      "text/plain": [
       "                                imp_count   imp_cas   imp_reg\n",
       "frac_week                        0.148092  0.144290  0.160015\n",
       "frac_year                        0.119478  0.131944  0.120883\n",
       "Elapsed                          0.115713  0.123843  0.103448\n",
       "Hour                             0.089357  0.100309  0.103836\n",
       "frac_month                       0.083584  0.079090  0.082914\n",
       "temp                             0.073795  0.086806  0.088338\n",
       "humidity                         0.067269  0.063272  0.060054\n",
       "windspeed                        0.042420  0.049769  0.037582\n",
       "Dayofyear                        0.034639  0.031636  0.033320\n",
       "Week                             0.028112  0.027778  0.022859\n",
       "Day                              0.022841  0.025077  0.022472\n",
       "workingday                       0.016064  0.010802  0.013561\n",
       "weather_light snow/light rain    0.014809  0.011960  0.018210\n",
       "Days_in_month                    0.011546  0.007716  0.007749\n",
       "holiday                          0.011295  0.008102  0.008911\n",
       "Weekofyear                       0.009538  0.007330  0.006587\n",
       "Timeofday_night                  0.009538  0.006173  0.008911\n",
       "Dayofweek_Sunday                 0.008283  0.005787  0.005812\n",
       "Dayofweek_Monday                 0.007781  0.001929  0.003874\n",
       "Dayofweek_Wednesday              0.007530  0.005015  0.007749\n",
       "Year_2012                        0.006777  0.005401  0.005424\n",
       "weather_mist/cloudy              0.006275  0.008102  0.007361\n",
       "Timeofday_morning                0.005522  0.005401  0.008136\n",
       "Timeofday_evening                0.005020  0.009259  0.008911\n",
       "Dayofweek_Saturday               0.004769  0.008873  0.006974\n",
       "Dayofweek_Thursday               0.004518  0.002701  0.003487\n",
       "Dayofweek_Tuesday                0.004518  0.001929  0.003100\n",
       "Month_Jul                        0.004518  0.005015  0.006199\n",
       "season_summer                    0.004267  0.000386  0.003100\n",
       "Month_May                        0.004267  0.005015  0.006199\n",
       "is_leap_year_True                0.004016  0.003086  0.004262\n",
       "Month_Mar                        0.003263  0.002701  0.005037\n",
       "Month_Nov                        0.003012  0.000386  0.001162\n",
       "Month_Sep                        0.002761  0.002701  0.002325\n",
       "Month_Jan                        0.002510  0.000386  0.000000\n",
       "Is_month_start_True              0.001757  0.001929  0.001550\n",
       "Is_quarter_start_True            0.001757  0.001543  0.001162\n",
       "Month_Aug                        0.001757  0.001929  0.002712\n",
       "Month_Dec                        0.001506  0.000386  0.000775\n",
       "Month_Oct                        0.001506  0.001929  0.001162\n",
       "season_spring                    0.001255  0.000386  0.000387\n",
       "Month_Feb                        0.001004  0.000000  0.001162\n",
       "Month_Jun                        0.000753  0.001929  0.001937\n",
       "season_winter                    0.000753  0.000000  0.000000\n",
       "Is_year_start_True               0.000251  0.000000  0.000387\n",
       "Is_quarter_end_True              0.000000  0.000000  0.000000\n",
       "Minute                           0.000000  0.000000  0.000000\n",
       "weather_heavy rain/ice pallets   0.000000  0.000000  0.000000\n",
       "Is_year_end_True                 0.000000  0.000000  0.000000\n",
       "Is_month_end_True                0.000000  0.000000  0.000000\n",
       "Second                           0.000000  0.000000  0.000000"
      ]
     },
     "execution_count": 77,
     "metadata": {},
     "output_type": "execute_result"
    }
   ],
   "source": [
    "imp_cols_df.sort_index(by='imp_count', ascending=False)"
   ]
  },
  {
   "cell_type": "markdown",
   "metadata": {},
   "source": [
    "### Data Modeling: Using `best_features` to improve RMSLE"
   ]
  },
  {
   "cell_type": "code",
   "execution_count": 73,
   "metadata": {},
   "outputs": [
    {
     "name": "stdout",
     "output_type": "stream",
     "text": [
      "Best Params: {'min_child_weight': 1, 'max_depth': 10, 'learning_rate': 0.15, 'gamma': 0.4, 'colsample_bytree': 0.5}\n"
     ]
    }
   ],
   "source": [
    "# Extracting the top columns for the target (count)\n",
    "imp_cols = imp_cols_df[imp_cols_df['imp_count']>0].index\n",
    "xgb_rs = random_search(xgb_model, xgb_params, train_on_dum[imp_cols], train_label_cnt_dum, cv=5)\n",
    "\n",
    "print(f\"Best Params: {xgb_rs.best_params_}\")\n",
    "\n",
    "xgb_model = xgb.XGBRegressor(**xgb_rs.best_params_)\n",
    "xgb_predicts = get_predict(xgb_model, train_on_dum[imp_cols], train_label_cnt_dum, \n",
    "                           test_on_dum[imp_cols], test_datetime)\n",
    "xgb_predicts.to_csv(\"./saved_submissions/xgb-dummy-featimp_12-21-18.csv\", index=False)\n",
    "\n",
    "# Score -> 0.42954"
   ]
  },
  {
   "cell_type": "markdown",
   "metadata": {},
   "source": [
    "#### Notes:\n",
    "- The dataframe above us tell us that we do not need many of the variables that were created.\n",
    "- We will delete it as they could be causing our model to overfit Kaggle's dataset\n",
    "- Including columns that have important reduced the RMSLE!"
   ]
  },
  {
   "cell_type": "markdown",
   "metadata": {},
   "source": [
    "#### Scores:\n",
    "1. Dataset: `train_on_dum`, Scorer: `rmse`, cv=5, Score=0.42954, features=`imp_cols` (extracted them from previous xgb models (feature importances)\n",
    "    "
   ]
  },
  {
   "cell_type": "code",
   "execution_count": 62,
   "metadata": {},
   "outputs": [],
   "source": [
    "from sklearn.model_selection import train_test_split\n",
    "\n",
    "# Split into training and testing data\n",
    "train, test, train_labels, test_labels = train_test_split(train_on_dum, train_label_cnt_dum, \n",
    "                                                          train_size=.7, random_state=50)\n",
    "\n"
   ]
  },
  {
   "cell_type": "code",
   "execution_count": 75,
   "metadata": {},
   "outputs": [
    {
     "data": {
      "text/html": [
       "<div>\n",
       "<style scoped>\n",
       "    .dataframe tbody tr th:only-of-type {\n",
       "        vertical-align: middle;\n",
       "    }\n",
       "\n",
       "    .dataframe tbody tr th {\n",
       "        vertical-align: top;\n",
       "    }\n",
       "\n",
       "    .dataframe thead th {\n",
       "        text-align: right;\n",
       "    }\n",
       "</style>\n",
       "<table border=\"1\" class=\"dataframe\">\n",
       "  <thead>\n",
       "    <tr style=\"text-align: right;\">\n",
       "      <th></th>\n",
       "      <th>Day</th>\n",
       "      <th>Dayofweek_Monday</th>\n",
       "      <th>Dayofweek_Saturday</th>\n",
       "      <th>Dayofweek_Sunday</th>\n",
       "      <th>Dayofweek_Thursday</th>\n",
       "      <th>Dayofweek_Tuesday</th>\n",
       "      <th>Dayofweek_Wednesday</th>\n",
       "      <th>Dayofyear</th>\n",
       "      <th>Days_in_month</th>\n",
       "      <th>Elapsed</th>\n",
       "      <th>...</th>\n",
       "      <th>humidity</th>\n",
       "      <th>is_leap_year_True</th>\n",
       "      <th>season_spring</th>\n",
       "      <th>season_summer</th>\n",
       "      <th>season_winter</th>\n",
       "      <th>temp</th>\n",
       "      <th>weather_light snow/light rain</th>\n",
       "      <th>weather_mist/cloudy</th>\n",
       "      <th>windspeed</th>\n",
       "      <th>workingday</th>\n",
       "    </tr>\n",
       "  </thead>\n",
       "  <tbody>\n",
       "    <tr>\n",
       "      <th>0</th>\n",
       "      <td>1</td>\n",
       "      <td>0</td>\n",
       "      <td>1</td>\n",
       "      <td>0</td>\n",
       "      <td>0</td>\n",
       "      <td>0</td>\n",
       "      <td>0</td>\n",
       "      <td>1</td>\n",
       "      <td>31</td>\n",
       "      <td>3.502829e+09</td>\n",
       "      <td>...</td>\n",
       "      <td>81</td>\n",
       "      <td>0</td>\n",
       "      <td>1</td>\n",
       "      <td>0</td>\n",
       "      <td>0</td>\n",
       "      <td>9.84</td>\n",
       "      <td>0</td>\n",
       "      <td>0</td>\n",
       "      <td>0.0</td>\n",
       "      <td>0</td>\n",
       "    </tr>\n",
       "    <tr>\n",
       "      <th>1</th>\n",
       "      <td>1</td>\n",
       "      <td>0</td>\n",
       "      <td>1</td>\n",
       "      <td>0</td>\n",
       "      <td>0</td>\n",
       "      <td>0</td>\n",
       "      <td>0</td>\n",
       "      <td>1</td>\n",
       "      <td>31</td>\n",
       "      <td>3.502832e+09</td>\n",
       "      <td>...</td>\n",
       "      <td>80</td>\n",
       "      <td>0</td>\n",
       "      <td>1</td>\n",
       "      <td>0</td>\n",
       "      <td>0</td>\n",
       "      <td>9.02</td>\n",
       "      <td>0</td>\n",
       "      <td>0</td>\n",
       "      <td>0.0</td>\n",
       "      <td>0</td>\n",
       "    </tr>\n",
       "    <tr>\n",
       "      <th>2</th>\n",
       "      <td>1</td>\n",
       "      <td>0</td>\n",
       "      <td>1</td>\n",
       "      <td>0</td>\n",
       "      <td>0</td>\n",
       "      <td>0</td>\n",
       "      <td>0</td>\n",
       "      <td>1</td>\n",
       "      <td>31</td>\n",
       "      <td>3.502836e+09</td>\n",
       "      <td>...</td>\n",
       "      <td>80</td>\n",
       "      <td>0</td>\n",
       "      <td>1</td>\n",
       "      <td>0</td>\n",
       "      <td>0</td>\n",
       "      <td>9.02</td>\n",
       "      <td>0</td>\n",
       "      <td>0</td>\n",
       "      <td>0.0</td>\n",
       "      <td>0</td>\n",
       "    </tr>\n",
       "    <tr>\n",
       "      <th>3</th>\n",
       "      <td>1</td>\n",
       "      <td>0</td>\n",
       "      <td>1</td>\n",
       "      <td>0</td>\n",
       "      <td>0</td>\n",
       "      <td>0</td>\n",
       "      <td>0</td>\n",
       "      <td>1</td>\n",
       "      <td>31</td>\n",
       "      <td>3.502840e+09</td>\n",
       "      <td>...</td>\n",
       "      <td>75</td>\n",
       "      <td>0</td>\n",
       "      <td>1</td>\n",
       "      <td>0</td>\n",
       "      <td>0</td>\n",
       "      <td>9.84</td>\n",
       "      <td>0</td>\n",
       "      <td>0</td>\n",
       "      <td>0.0</td>\n",
       "      <td>0</td>\n",
       "    </tr>\n",
       "    <tr>\n",
       "      <th>4</th>\n",
       "      <td>1</td>\n",
       "      <td>0</td>\n",
       "      <td>1</td>\n",
       "      <td>0</td>\n",
       "      <td>0</td>\n",
       "      <td>0</td>\n",
       "      <td>0</td>\n",
       "      <td>1</td>\n",
       "      <td>31</td>\n",
       "      <td>3.502843e+09</td>\n",
       "      <td>...</td>\n",
       "      <td>75</td>\n",
       "      <td>0</td>\n",
       "      <td>1</td>\n",
       "      <td>0</td>\n",
       "      <td>0</td>\n",
       "      <td>9.84</td>\n",
       "      <td>0</td>\n",
       "      <td>0</td>\n",
       "      <td>0.0</td>\n",
       "      <td>0</td>\n",
       "    </tr>\n",
       "  </tbody>\n",
       "</table>\n",
       "<p>5 rows × 45 columns</p>\n",
       "</div>"
      ],
      "text/plain": [
       "   Day  Dayofweek_Monday  Dayofweek_Saturday  Dayofweek_Sunday  \\\n",
       "0    1                 0                   1                 0   \n",
       "1    1                 0                   1                 0   \n",
       "2    1                 0                   1                 0   \n",
       "3    1                 0                   1                 0   \n",
       "4    1                 0                   1                 0   \n",
       "\n",
       "   Dayofweek_Thursday  Dayofweek_Tuesday  Dayofweek_Wednesday  Dayofyear  \\\n",
       "0                   0                  0                    0          1   \n",
       "1                   0                  0                    0          1   \n",
       "2                   0                  0                    0          1   \n",
       "3                   0                  0                    0          1   \n",
       "4                   0                  0                    0          1   \n",
       "\n",
       "   Days_in_month       Elapsed     ...      humidity  is_leap_year_True  \\\n",
       "0             31  3.502829e+09     ...            81                  0   \n",
       "1             31  3.502832e+09     ...            80                  0   \n",
       "2             31  3.502836e+09     ...            80                  0   \n",
       "3             31  3.502840e+09     ...            75                  0   \n",
       "4             31  3.502843e+09     ...            75                  0   \n",
       "\n",
       "   season_spring  season_summer  season_winter  temp  \\\n",
       "0              1              0              0  9.84   \n",
       "1              1              0              0  9.02   \n",
       "2              1              0              0  9.02   \n",
       "3              1              0              0  9.84   \n",
       "4              1              0              0  9.84   \n",
       "\n",
       "   weather_light snow/light rain  weather_mist/cloudy  windspeed  workingday  \n",
       "0                              0                    0        0.0           0  \n",
       "1                              0                    0        0.0           0  \n",
       "2                              0                    0        0.0           0  \n",
       "3                              0                    0        0.0           0  \n",
       "4                              0                    0        0.0           0  \n",
       "\n",
       "[5 rows x 45 columns]"
      ]
     },
     "execution_count": 75,
     "metadata": {},
     "output_type": "execute_result"
    }
   ],
   "source": [
    "train_on_dum[imp_cols].head(5)"
   ]
  },
  {
   "cell_type": "code",
   "execution_count": 63,
   "metadata": {},
   "outputs": [
    {
     "name": "stdout",
     "output_type": "stream",
     "text": [
      "[0]\tvalidation_0-rmse:3.92471\tvalidation_1-rmse:3.87532\n",
      "[1]\tvalidation_0-rmse:3.54681\tvalidation_1-rmse:3.49961\n",
      "[2]\tvalidation_0-rmse:3.20783\tvalidation_1-rmse:3.16337\n",
      "[3]\tvalidation_0-rmse:2.90467\tvalidation_1-rmse:2.86219\n",
      "[4]\tvalidation_0-rmse:2.63221\tvalidation_1-rmse:2.59107\n",
      "[5]\tvalidation_0-rmse:2.38739\tvalidation_1-rmse:2.34894\n",
      "[6]\tvalidation_0-rmse:2.16948\tvalidation_1-rmse:2.13285\n",
      "[7]\tvalidation_0-rmse:1.97228\tvalidation_1-rmse:1.93859\n",
      "[8]\tvalidation_0-rmse:1.79836\tvalidation_1-rmse:1.76592\n",
      "[9]\tvalidation_0-rmse:1.64121\tvalidation_1-rmse:1.61113\n",
      "[10]\tvalidation_0-rmse:1.50189\tvalidation_1-rmse:1.47455\n",
      "[11]\tvalidation_0-rmse:1.37897\tvalidation_1-rmse:1.35331\n",
      "[12]\tvalidation_0-rmse:1.26826\tvalidation_1-rmse:1.24546\n",
      "[13]\tvalidation_0-rmse:1.17076\tvalidation_1-rmse:1.14931\n",
      "[14]\tvalidation_0-rmse:1.08371\tvalidation_1-rmse:1.06479\n",
      "[15]\tvalidation_0-rmse:1.00711\tvalidation_1-rmse:0.990181\n",
      "[16]\tvalidation_0-rmse:0.940508\tvalidation_1-rmse:0.926443\n",
      "[17]\tvalidation_0-rmse:0.881144\tvalidation_1-rmse:0.869547\n",
      "[18]\tvalidation_0-rmse:0.829719\tvalidation_1-rmse:0.82041\n",
      "[19]\tvalidation_0-rmse:0.784046\tvalidation_1-rmse:0.776664\n",
      "[20]\tvalidation_0-rmse:0.744582\tvalidation_1-rmse:0.738795\n",
      "[21]\tvalidation_0-rmse:0.708735\tvalidation_1-rmse:0.705388\n",
      "[22]\tvalidation_0-rmse:0.677873\tvalidation_1-rmse:0.676398\n",
      "[23]\tvalidation_0-rmse:0.651548\tvalidation_1-rmse:0.651708\n",
      "[24]\tvalidation_0-rmse:0.628777\tvalidation_1-rmse:0.630539\n",
      "[25]\tvalidation_0-rmse:0.607989\tvalidation_1-rmse:0.611523\n",
      "[26]\tvalidation_0-rmse:0.591234\tvalidation_1-rmse:0.595799\n",
      "[27]\tvalidation_0-rmse:0.576375\tvalidation_1-rmse:0.581864\n",
      "[28]\tvalidation_0-rmse:0.562839\tvalidation_1-rmse:0.56987\n",
      "[29]\tvalidation_0-rmse:0.550643\tvalidation_1-rmse:0.559824\n",
      "[30]\tvalidation_0-rmse:0.540259\tvalidation_1-rmse:0.550684\n",
      "[31]\tvalidation_0-rmse:0.531438\tvalidation_1-rmse:0.54252\n",
      "[32]\tvalidation_0-rmse:0.524506\tvalidation_1-rmse:0.53614\n",
      "[33]\tvalidation_0-rmse:0.517996\tvalidation_1-rmse:0.530913\n",
      "[34]\tvalidation_0-rmse:0.511735\tvalidation_1-rmse:0.525243\n",
      "[35]\tvalidation_0-rmse:0.505748\tvalidation_1-rmse:0.520105\n",
      "[36]\tvalidation_0-rmse:0.501404\tvalidation_1-rmse:0.516047\n",
      "[37]\tvalidation_0-rmse:0.49684\tvalidation_1-rmse:0.511949\n",
      "[38]\tvalidation_0-rmse:0.493374\tvalidation_1-rmse:0.50915\n",
      "[39]\tvalidation_0-rmse:0.49\tvalidation_1-rmse:0.506305\n",
      "[40]\tvalidation_0-rmse:0.482033\tvalidation_1-rmse:0.498351\n",
      "[41]\tvalidation_0-rmse:0.479509\tvalidation_1-rmse:0.496412\n",
      "[42]\tvalidation_0-rmse:0.476311\tvalidation_1-rmse:0.493716\n",
      "[43]\tvalidation_0-rmse:0.472261\tvalidation_1-rmse:0.490509\n",
      "[44]\tvalidation_0-rmse:0.470286\tvalidation_1-rmse:0.48906\n",
      "[45]\tvalidation_0-rmse:0.463876\tvalidation_1-rmse:0.482536\n",
      "[46]\tvalidation_0-rmse:0.459418\tvalidation_1-rmse:0.477774\n",
      "[47]\tvalidation_0-rmse:0.451275\tvalidation_1-rmse:0.470535\n",
      "[48]\tvalidation_0-rmse:0.448711\tvalidation_1-rmse:0.468547\n",
      "[49]\tvalidation_0-rmse:0.445792\tvalidation_1-rmse:0.466229\n",
      "[50]\tvalidation_0-rmse:0.443913\tvalidation_1-rmse:0.464464\n",
      "[51]\tvalidation_0-rmse:0.438673\tvalidation_1-rmse:0.459004\n",
      "[52]\tvalidation_0-rmse:0.437283\tvalidation_1-rmse:0.457807\n",
      "[53]\tvalidation_0-rmse:0.435303\tvalidation_1-rmse:0.456282\n",
      "[54]\tvalidation_0-rmse:0.43214\tvalidation_1-rmse:0.452939\n",
      "[55]\tvalidation_0-rmse:0.42981\tvalidation_1-rmse:0.450789\n",
      "[56]\tvalidation_0-rmse:0.428601\tvalidation_1-rmse:0.450016\n",
      "[57]\tvalidation_0-rmse:0.427506\tvalidation_1-rmse:0.449124\n",
      "[58]\tvalidation_0-rmse:0.425491\tvalidation_1-rmse:0.447339\n",
      "[59]\tvalidation_0-rmse:0.423679\tvalidation_1-rmse:0.445815\n",
      "[60]\tvalidation_0-rmse:0.418148\tvalidation_1-rmse:0.439575\n",
      "[61]\tvalidation_0-rmse:0.414615\tvalidation_1-rmse:0.436121\n",
      "[62]\tvalidation_0-rmse:0.413798\tvalidation_1-rmse:0.435625\n",
      "[63]\tvalidation_0-rmse:0.41102\tvalidation_1-rmse:0.433705\n",
      "[64]\tvalidation_0-rmse:0.409451\tvalidation_1-rmse:0.432512\n",
      "[65]\tvalidation_0-rmse:0.408559\tvalidation_1-rmse:0.431624\n",
      "[66]\tvalidation_0-rmse:0.398563\tvalidation_1-rmse:0.422342\n",
      "[67]\tvalidation_0-rmse:0.39702\tvalidation_1-rmse:0.420754\n",
      "[68]\tvalidation_0-rmse:0.395637\tvalidation_1-rmse:0.419585\n",
      "[69]\tvalidation_0-rmse:0.387339\tvalidation_1-rmse:0.411999\n",
      "[70]\tvalidation_0-rmse:0.385152\tvalidation_1-rmse:0.410231\n",
      "[71]\tvalidation_0-rmse:0.383567\tvalidation_1-rmse:0.408934\n",
      "[72]\tvalidation_0-rmse:0.382805\tvalidation_1-rmse:0.408378\n",
      "[73]\tvalidation_0-rmse:0.381276\tvalidation_1-rmse:0.406812\n",
      "[74]\tvalidation_0-rmse:0.377648\tvalidation_1-rmse:0.40283\n",
      "[75]\tvalidation_0-rmse:0.370195\tvalidation_1-rmse:0.395891\n",
      "[76]\tvalidation_0-rmse:0.364879\tvalidation_1-rmse:0.391079\n",
      "[77]\tvalidation_0-rmse:0.36294\tvalidation_1-rmse:0.388879\n",
      "[78]\tvalidation_0-rmse:0.360482\tvalidation_1-rmse:0.386855\n",
      "[79]\tvalidation_0-rmse:0.35942\tvalidation_1-rmse:0.38585\n",
      "[80]\tvalidation_0-rmse:0.357455\tvalidation_1-rmse:0.384871\n",
      "[81]\tvalidation_0-rmse:0.356723\tvalidation_1-rmse:0.384271\n",
      "[82]\tvalidation_0-rmse:0.354003\tvalidation_1-rmse:0.381682\n",
      "[83]\tvalidation_0-rmse:0.350829\tvalidation_1-rmse:0.378855\n",
      "[84]\tvalidation_0-rmse:0.346993\tvalidation_1-rmse:0.375917\n",
      "[85]\tvalidation_0-rmse:0.342301\tvalidation_1-rmse:0.371742\n",
      "[86]\tvalidation_0-rmse:0.339353\tvalidation_1-rmse:0.369412\n",
      "[87]\tvalidation_0-rmse:0.338704\tvalidation_1-rmse:0.369104\n",
      "[88]\tvalidation_0-rmse:0.337981\tvalidation_1-rmse:0.368488\n",
      "[89]\tvalidation_0-rmse:0.336695\tvalidation_1-rmse:0.367551\n",
      "[90]\tvalidation_0-rmse:0.335446\tvalidation_1-rmse:0.366534\n",
      "[91]\tvalidation_0-rmse:0.334844\tvalidation_1-rmse:0.365981\n",
      "[92]\tvalidation_0-rmse:0.334369\tvalidation_1-rmse:0.365586\n",
      "[93]\tvalidation_0-rmse:0.33388\tvalidation_1-rmse:0.365082\n",
      "[94]\tvalidation_0-rmse:0.333483\tvalidation_1-rmse:0.364932\n",
      "[95]\tvalidation_0-rmse:0.332485\tvalidation_1-rmse:0.364108\n",
      "[96]\tvalidation_0-rmse:0.331507\tvalidation_1-rmse:0.363169\n",
      "[97]\tvalidation_0-rmse:0.331151\tvalidation_1-rmse:0.362965\n",
      "[98]\tvalidation_0-rmse:0.33087\tvalidation_1-rmse:0.362834\n",
      "[99]\tvalidation_0-rmse:0.328079\tvalidation_1-rmse:0.360593\n",
      "CPU times: user 2.88 s, sys: 207 ms, total: 3.09 s\n",
      "Wall time: 1.58 s\n"
     ]
    },
    {
     "data": {
      "text/plain": [
       "XGBRegressor(base_score=0.5, booster='gbtree', colsample_bylevel=1,\n",
       "       colsample_bytree=1, gamma=0, learning_rate=0.1, max_delta_step=0,\n",
       "       max_depth=3, min_child_weight=1, missing=None, n_estimators=100,\n",
       "       n_jobs=-1, nthread=None, objective='reg:linear', random_state=0,\n",
       "       reg_alpha=0, reg_lambda=1, scale_pos_weight=1, seed=None,\n",
       "       silent=True, subsample=1)"
      ]
     },
     "execution_count": 63,
     "metadata": {},
     "output_type": "execute_result"
    }
   ],
   "source": [
    "eval_set = [(train, train_labels), (test, test_labels)]\n",
    "eval_metric = [\"rmse\"]\n",
    "%time xgb_model.fit(train, train_labels, eval_metric=eval_metric, eval_set=eval_set, verbose=True)"
   ]
  },
  {
   "cell_type": "code",
   "execution_count": 102,
   "metadata": {},
   "outputs": [
    {
     "data": {
      "image/png": "[encoded data removed]",
      "text/plain": [
       "<Figure size 432x288 with 1 Axes>"
      ]
     },
     "metadata": {
      "needs_background": "light"
     },
     "output_type": "display_data"
    }
   ],
   "source": [
    "valid_0 = xgb_model.evals_result_['validation_0']['rmse']\n",
    "valid_1 = xgb_model.evals_result_['validation_1']['rmse']\n",
    "iters = np.arange(0, len(xgb_model.evals_result_['validation_0']['rmse']), 1)\n",
    "\n",
    "plt.plot(iters, valid_0, 'r')\n",
    "plt.plot(iters, valid_1, 'b')\n",
    "plt.axis([-5, 100, 0, 5])\n",
    "plt.show()"
   ]
  },
  {
   "cell_type": "code",
   "execution_count": 104,
   "metadata": {},
   "outputs": [
    {
     "data": {
      "text/plain": [
       "{'base_score': 0.5,\n",
       " 'booster': 'gbtree',\n",
       " 'colsample_bylevel': 1,\n",
       " 'colsample_bytree': 1,\n",
       " 'gamma': 0,\n",
       " 'learning_rate': 0.1,\n",
       " 'max_delta_step': 0,\n",
       " 'max_depth': 3,\n",
       " 'min_child_weight': 1,\n",
       " 'missing': None,\n",
       " 'n_estimators': 100,\n",
       " 'objective': 'reg:linear',\n",
       " 'reg_alpha': 0,\n",
       " 'reg_lambda': 1,\n",
       " 'scale_pos_weight': 1,\n",
       " 'seed': 0,\n",
       " 'silent': 1,\n",
       " 'subsample': 1}"
      ]
     },
     "execution_count": 104,
     "metadata": {},
     "output_type": "execute_result"
    }
   ],
   "source": [
    "xgb_model.get_xgb_params()"
   ]
  },
  {
   "cell_type": "code",
   "execution_count": null,
   "metadata": {},
   "outputs": [],
   "source": [
    "xgb_model.best"
   ]
  }
 ],
 "metadata": {
  "kernelspec": {
   "display_name": "Python 3",
   "language": "python",
   "name": "python3"
  },
  "language_info": {
   "codemirror_mode": {
    "name": "ipython",
    "version": 3
   },
   "file_extension": ".py",
   "mimetype": "text/x-python",
   "name": "python",
   "nbconvert_exporter": "python",
   "pygments_lexer": "ipython3",
   "version": "3.6.6"
  },
  "toc": {
   "base_numbering": 1,
   "nav_menu": {},
   "number_sections": true,
   "sideBar": true,
   "skip_h1_title": true,
   "title_cell": "Table of Contents",
   "title_sidebar": "Contents",
   "toc_cell": false,
   "toc_position": {},
   "toc_section_display": true,
   "toc_window_display": false
  },
  "varInspector": {
   "cols": {
    "lenName": 16,
    "lenType": 16,
    "lenVar": 40
   },
   "kernels_config": {
    "python": {
     "delete_cmd_postfix": "",
     "delete_cmd_prefix": "del ",
     "library": "var_list.py",
     "varRefreshCmd": "print(var_dic_list())"
    },
    "r": {
     "delete_cmd_postfix": ") ",
     "delete_cmd_prefix": "rm(",
     "library": "var_list.r",
     "varRefreshCmd": "cat(var_dic_list()) "
    }
   },
   "types_to_exclude": [
    "module",
    "function",
    "builtin_function_or_method",
    "instance",
    "_Feature"
   ],
   "window_display": false
  }
 },
 "nbformat": 4,
 "nbformat_minor": 2
}
