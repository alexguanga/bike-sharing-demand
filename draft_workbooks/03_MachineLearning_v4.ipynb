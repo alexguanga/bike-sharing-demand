{
 "cells": [
  {
   "cell_type": "code",
   "execution_count": 1,
   "metadata": {},
   "outputs": [
    {
     "name": "stderr",
     "output_type": "stream",
     "text": [
      "/Users/alexguanga/anaconda/lib/python3.6/site-packages/sklearn/ensemble/weight_boosting.py:29: DeprecationWarning: numpy.core.umath_tests is an internal NumPy module and should not be imported. It will be removed in a future NumPy release.\n",
      "  from numpy.core.umath_tests import inner1d\n"
     ]
    }
   ],
   "source": [
    "import numpy as np\n",
    "import pandas as pd\n",
    "import matplotlib.pyplot as plt\n",
    "import seaborn as sns\n",
    "import pickle\n",
    "from ml_metrics import rmsle\n",
    "sns.set_style('darkgrid')\n",
    "%matplotlib inline\n",
    "\n",
    "from sklearn.linear_model import Ridge, Lasso, ElasticNet, LassoLars\n",
    "from sklearn.ensemble import RandomForestRegressor, AdaBoostRegressor, BaggingRegressor, GradientBoostingRegressor\n",
    "from sklearn.tree import DecisionTreeRegressor\n",
    "import xgboost as xgb\n",
    "\n",
    "from sklearn.feature_selection import VarianceThreshold, SelectKBest, chi2, RFE\n",
    "\n",
    "from sklearn.model_selection import cross_val_score, GridSearchCV\n",
    "from sklearn.metrics import make_scorer, mean_squared_error"
   ]
  },
  {
   "cell_type": "code",
   "execution_count": 2,
   "metadata": {},
   "outputs": [],
   "source": [
    "# Uploading the training set\n",
    "saved_train = pd.read_pickle(\"./pickles/saved_trainset.pkl\")\n",
    "saved_train_std = pd.read_pickle(\"./pickles/saved_trainset_std.pkl\")\n",
    "\n",
    "# Uploading testing set\n",
    "saved_test = pd.read_pickle(\"./pickles/saved_testset.pkl\")\n",
    "saved_datetime = saved_test['datetime']\n",
    "saved_test = saved_test.drop(['datetime'], axis=1)\n",
    "saved_test_std = pd.read_pickle(\"./pickles/saved_testset_std.pkl\")\n",
    "saved_test_std = saved_test_std.drop(['datetime'], axis=1)\n",
    "\n",
    "# Removing the predictors from the training sets\n",
    "x_train = saved_train.drop(['casual', 'registered', 'count'], axis=1)\n",
    "x_train_std = saved_train_std.drop(['casual', 'registered', 'count'], axis=1)\n",
    "\n",
    "# Saving the different versions of predictors (saved trainset version)\n",
    "y_train_casual = saved_train['casual']\n",
    "y_train_registered = saved_train['registered']\n",
    "y_train_count = saved_train['count']\n",
    "\n",
    "# Saving the different versions of predictors (saved trainset_std version)\n",
    "y_train_casual_std = saved_train_std['casual']\n",
    "y_train_registered_std = saved_train_std['registered']\n",
    "y_train_count_std = saved_train_std['count']"
   ]
  },
  {
   "cell_type": "code",
   "execution_count": 4,
   "metadata": {},
   "outputs": [
    {
     "data": {
      "text/html": [
       "<div>\n",
       "<style scoped>\n",
       "    .dataframe tbody tr th:only-of-type {\n",
       "        vertical-align: middle;\n",
       "    }\n",
       "\n",
       "    .dataframe tbody tr th {\n",
       "        vertical-align: top;\n",
       "    }\n",
       "\n",
       "    .dataframe thead th {\n",
       "        text-align: right;\n",
       "    }\n",
       "</style>\n",
       "<table border=\"1\" class=\"dataframe\">\n",
       "  <thead>\n",
       "    <tr style=\"text-align: right;\">\n",
       "      <th></th>\n",
       "      <th>temp</th>\n",
       "      <th>atemp</th>\n",
       "      <th>humidity</th>\n",
       "      <th>windspeed</th>\n",
       "      <th>day</th>\n",
       "      <th>hour</th>\n",
       "      <th>minute</th>\n",
       "      <th>weekofyear</th>\n",
       "      <th>season_spring</th>\n",
       "      <th>season_summer</th>\n",
       "      <th>...</th>\n",
       "      <th>month_Sep</th>\n",
       "      <th>dayofweek_Monday</th>\n",
       "      <th>dayofweek_Saturday</th>\n",
       "      <th>dayofweek_Sunday</th>\n",
       "      <th>dayofweek_Thursday</th>\n",
       "      <th>dayofweek_Tuesday</th>\n",
       "      <th>dayofweek_Wednesday</th>\n",
       "      <th>time_of_day_evening</th>\n",
       "      <th>time_of_day_morning</th>\n",
       "      <th>time_of_day_night</th>\n",
       "    </tr>\n",
       "  </thead>\n",
       "  <tbody>\n",
       "    <tr>\n",
       "      <th>0</th>\n",
       "      <td>9.84</td>\n",
       "      <td>14.395</td>\n",
       "      <td>81</td>\n",
       "      <td>0.0</td>\n",
       "      <td>1</td>\n",
       "      <td>0</td>\n",
       "      <td>0</td>\n",
       "      <td>52</td>\n",
       "      <td>1</td>\n",
       "      <td>0</td>\n",
       "      <td>...</td>\n",
       "      <td>0</td>\n",
       "      <td>0</td>\n",
       "      <td>1</td>\n",
       "      <td>0</td>\n",
       "      <td>0</td>\n",
       "      <td>0</td>\n",
       "      <td>0</td>\n",
       "      <td>0</td>\n",
       "      <td>0</td>\n",
       "      <td>1</td>\n",
       "    </tr>\n",
       "    <tr>\n",
       "      <th>1</th>\n",
       "      <td>9.02</td>\n",
       "      <td>13.635</td>\n",
       "      <td>80</td>\n",
       "      <td>0.0</td>\n",
       "      <td>1</td>\n",
       "      <td>1</td>\n",
       "      <td>0</td>\n",
       "      <td>52</td>\n",
       "      <td>1</td>\n",
       "      <td>0</td>\n",
       "      <td>...</td>\n",
       "      <td>0</td>\n",
       "      <td>0</td>\n",
       "      <td>1</td>\n",
       "      <td>0</td>\n",
       "      <td>0</td>\n",
       "      <td>0</td>\n",
       "      <td>0</td>\n",
       "      <td>0</td>\n",
       "      <td>0</td>\n",
       "      <td>1</td>\n",
       "    </tr>\n",
       "    <tr>\n",
       "      <th>2</th>\n",
       "      <td>9.02</td>\n",
       "      <td>13.635</td>\n",
       "      <td>80</td>\n",
       "      <td>0.0</td>\n",
       "      <td>1</td>\n",
       "      <td>2</td>\n",
       "      <td>0</td>\n",
       "      <td>52</td>\n",
       "      <td>1</td>\n",
       "      <td>0</td>\n",
       "      <td>...</td>\n",
       "      <td>0</td>\n",
       "      <td>0</td>\n",
       "      <td>1</td>\n",
       "      <td>0</td>\n",
       "      <td>0</td>\n",
       "      <td>0</td>\n",
       "      <td>0</td>\n",
       "      <td>0</td>\n",
       "      <td>0</td>\n",
       "      <td>1</td>\n",
       "    </tr>\n",
       "    <tr>\n",
       "      <th>3</th>\n",
       "      <td>9.84</td>\n",
       "      <td>14.395</td>\n",
       "      <td>75</td>\n",
       "      <td>0.0</td>\n",
       "      <td>1</td>\n",
       "      <td>3</td>\n",
       "      <td>0</td>\n",
       "      <td>52</td>\n",
       "      <td>1</td>\n",
       "      <td>0</td>\n",
       "      <td>...</td>\n",
       "      <td>0</td>\n",
       "      <td>0</td>\n",
       "      <td>1</td>\n",
       "      <td>0</td>\n",
       "      <td>0</td>\n",
       "      <td>0</td>\n",
       "      <td>0</td>\n",
       "      <td>0</td>\n",
       "      <td>0</td>\n",
       "      <td>1</td>\n",
       "    </tr>\n",
       "    <tr>\n",
       "      <th>4</th>\n",
       "      <td>9.84</td>\n",
       "      <td>14.395</td>\n",
       "      <td>75</td>\n",
       "      <td>0.0</td>\n",
       "      <td>1</td>\n",
       "      <td>4</td>\n",
       "      <td>0</td>\n",
       "      <td>52</td>\n",
       "      <td>1</td>\n",
       "      <td>0</td>\n",
       "      <td>...</td>\n",
       "      <td>0</td>\n",
       "      <td>0</td>\n",
       "      <td>1</td>\n",
       "      <td>0</td>\n",
       "      <td>0</td>\n",
       "      <td>0</td>\n",
       "      <td>0</td>\n",
       "      <td>0</td>\n",
       "      <td>0</td>\n",
       "      <td>1</td>\n",
       "    </tr>\n",
       "  </tbody>\n",
       "</table>\n",
       "<p>5 rows × 33 columns</p>\n",
       "</div>"
      ],
      "text/plain": [
       "   temp   atemp  humidity  windspeed  day  hour  minute  weekofyear  \\\n",
       "0  9.84  14.395        81        0.0    1     0       0          52   \n",
       "1  9.02  13.635        80        0.0    1     1       0          52   \n",
       "2  9.02  13.635        80        0.0    1     2       0          52   \n",
       "3  9.84  14.395        75        0.0    1     3       0          52   \n",
       "4  9.84  14.395        75        0.0    1     4       0          52   \n",
       "\n",
       "   season_spring  season_summer        ...          month_Sep  \\\n",
       "0              1              0        ...                  0   \n",
       "1              1              0        ...                  0   \n",
       "2              1              0        ...                  0   \n",
       "3              1              0        ...                  0   \n",
       "4              1              0        ...                  0   \n",
       "\n",
       "   dayofweek_Monday  dayofweek_Saturday  dayofweek_Sunday  dayofweek_Thursday  \\\n",
       "0                 0                   1                 0                   0   \n",
       "1                 0                   1                 0                   0   \n",
       "2                 0                   1                 0                   0   \n",
       "3                 0                   1                 0                   0   \n",
       "4                 0                   1                 0                   0   \n",
       "\n",
       "   dayofweek_Tuesday  dayofweek_Wednesday  time_of_day_evening  \\\n",
       "0                  0                    0                    0   \n",
       "1                  0                    0                    0   \n",
       "2                  0                    0                    0   \n",
       "3                  0                    0                    0   \n",
       "4                  0                    0                    0   \n",
       "\n",
       "   time_of_day_morning  time_of_day_night  \n",
       "0                    0                  1  \n",
       "1                    0                  1  \n",
       "2                    0                  1  \n",
       "3                    0                  1  \n",
       "4                    0                  1  \n",
       "\n",
       "[5 rows x 33 columns]"
      ]
     },
     "execution_count": 4,
     "metadata": {},
     "output_type": "execute_result"
    }
   ],
   "source": [
    "x_train.head(5)"
   ]
  },
  {
   "cell_type": "code",
   "execution_count": 8,
   "metadata": {},
   "outputs": [
    {
     "data": {
      "text/plain": [
       "Index(['temp', 'atemp', 'humidity', 'windspeed', 'day', 'hour', 'minute',\n",
       "       'weekofyear', 'season_spring', 'season_summer', 'season_winter',\n",
       "       'workingday_Yes', 'year_2012', 'month_Aug', 'month_Dec', 'month_Feb',\n",
       "       'month_Jan', 'month_Jul', 'month_Jun', 'month_Mar', 'month_May',\n",
       "       'month_Nov', 'month_Oct', 'month_Sep', 'dayofweek_Monday',\n",
       "       'dayofweek_Saturday', 'dayofweek_Sunday', 'dayofweek_Thursday',\n",
       "       'dayofweek_Tuesday', 'dayofweek_Wednesday', 'time_of_day_evening',\n",
       "       'time_of_day_morning', 'time_of_day_night'],\n",
       "      dtype='object')"
      ]
     },
     "execution_count": 8,
     "metadata": {},
     "output_type": "execute_result"
    }
   ],
   "source": [
    "x_train_std.columns"
   ]
  },
  {
   "cell_type": "code",
   "execution_count": 7,
   "metadata": {},
   "outputs": [],
   "source": [
    "# The following are functions that will run the models. \n",
    "\n",
    "def rmsle_custom(actual, predicted):\n",
    "    sle = (np.power(np.log(np.array((actual))+1) - \n",
    "            np.log(np.array(np.abs(predicted))+1), 2))\n",
    "    msle = np.mean(sle)\n",
    "    return (np.sqrt(msle))\n",
    "\n",
    "def return_parameters(gridsearch, verbose=False):\n",
    "    params = gridsearch.best_params_\n",
    "    score = gridsearch.best_score_\n",
    "    if verbose:\n",
    "        print('{0} were the best parameters to use'.format(params))\n",
    "        print('{0} was the accuracies'.format(np.abs(score)))\n",
    "    return [params, np.abs(score)]\n",
    "\n",
    "def gridsearch_cv(model, params, Xs_df, y_df, cv=5):\n",
    "    Xs, y = Xs_df.values, y_df.values\n",
    "    rmsle_score = make_scorer(rmsle_custom, greater_is_better=False)\n",
    "    grid_search = GridSearchCV(estimator=model,\n",
    "                               param_grid=params,\n",
    "                               scoring=rmsle_score,\n",
    "                               cv=cv, n_jobs=-1)\n",
    "    model = grid_search.fit(Xs, y)\n",
    "    return model"
   ]
  },
  {
   "cell_type": "code",
   "execution_count": 8,
   "metadata": {
    "code_folding": []
   },
   "outputs": [],
   "source": [
    "def run_model(models_params, Xs_df, y_df, test_df, test_ids):\n",
    "    Xs, y = Xs_df.values, y_df.values\n",
    "    models_params.fit(Xs_df, y_df)\n",
    "    \n",
    "    test = test_df.values\n",
    "    predict = models_params.predict(test_df)\n",
    "    predict = np.exp(predict) - 1\n",
    "    \n",
    "    submission = pd.DataFrame({'Id': test_ids, 'Target':predict.astype(int)})\n",
    "    return submission"
   ]
  },
  {
   "cell_type": "code",
   "execution_count": 5,
   "metadata": {
    "code_folding": [
     0,
     6
    ]
   },
   "outputs": [],
   "source": [
    "Y_TRAIN_SETS = {\n",
    "    'y_casual': y_train_casual,\n",
    "    'y_register': y_train_registered,\n",
    "    'y_count': y_train_count\n",
    "}\n",
    "\n",
    "Y_TRAIN_SETS_STD = {\n",
    "    'y_casual': y_train_casual_std,\n",
    "    'y_register': y_train_registered_std,\n",
    "    'y_count': y_train_count_std\n",
    "}"
   ]
  },
  {
   "cell_type": "markdown",
   "metadata": {},
   "source": [
    "### Ridge Model"
   ]
  },
  {
   "cell_type": "code",
   "execution_count": 6,
   "metadata": {},
   "outputs": [
    {
     "name": "stdout",
     "output_type": "stream",
     "text": [
      "y_casual\n",
      "{'alpha': 30} were the best parameters to use\n",
      "0.326383458165148 was the accuracies\n",
      "-------------------------\n",
      "\n",
      "y_register\n",
      "{'alpha': 1} were the best parameters to use\n",
      "0.20576026152780735 was the accuracies\n",
      "-------------------------\n",
      "\n",
      "y_count\n",
      "{'alpha': 5} were the best parameters to use\n",
      "0.19512459762604878 was the accuracies\n",
      "-------------------------\n",
      "\n"
     ]
    }
   ],
   "source": [
    "# For version without the standardized dataset\n",
    "\n",
    "for y_name, y in Y_TRAIN_SETS.items():\n",
    "    print(\"{0}\".format(y_name))\n",
    "        \n",
    "    # Creating the cv for the ridge regression\n",
    "    ridge_model = Ridge()\n",
    "    ridge_params = {\n",
    "        'alpha': [0.05, 0.1, 0.3, 1, 3, 5, 10, 15, 30, 50, 75]\n",
    "    }\n",
    "\n",
    "    gridcv_ridge = gridsearch_cv(ridge_model, ridge_params, x_train, y, cv=10)\n",
    "    best_params_ridge, _ = return_parameters(gridcv_ridge, verbose=True)\n",
    "    print(\"-------------------------\\n\")"
   ]
  },
  {
   "cell_type": "code",
   "execution_count": 7,
   "metadata": {},
   "outputs": [
    {
     "name": "stdout",
     "output_type": "stream",
     "text": [
      "y_casual\n",
      "{'alpha': 50} were the best parameters to use\n",
      "0.32604002704501933 was the accuracies\n",
      "-------------------------\n",
      "\n",
      "y_register\n",
      "{'alpha': 5} were the best parameters to use\n",
      "0.2057563504407891 was the accuracies\n",
      "-------------------------\n",
      "\n",
      "y_count\n",
      "{'alpha': 15} were the best parameters to use\n",
      "0.1951064012400066 was the accuracies\n",
      "-------------------------\n",
      "\n"
     ]
    }
   ],
   "source": [
    "# For version without the standardized dataset\n",
    "best_params_list = []\n",
    "for y_name, y in Y_TRAIN_SETS_STD.items():\n",
    "    print(\"{0}\".format(y_name))\n",
    "        \n",
    "    # Creating the cv for the ridge regression\n",
    "    ridge_model = Ridge()\n",
    "    ridge_params = {\n",
    "        'alpha': [0.05, 0.1, 0.3, 1, 3, 5, 10, 15, 30, 50, 75]\n",
    "    }\n",
    "\n",
    "    gridcv_ridge = gridsearch_cv(ridge_model, ridge_params, x_train_std, y, cv=10)\n",
    "    best_params_ridge, _ = return_parameters(gridcv_ridge, verbose=True)\n",
    "    best_params_list.append(best_params_ridge)\n",
    "    print(\"-------------------------\\n\")"
   ]
  },
  {
   "cell_type": "code",
   "execution_count": 8,
   "metadata": {},
   "outputs": [
    {
     "data": {
      "text/html": [
       "<div>\n",
       "<style scoped>\n",
       "    .dataframe tbody tr th:only-of-type {\n",
       "        vertical-align: middle;\n",
       "    }\n",
       "\n",
       "    .dataframe tbody tr th {\n",
       "        vertical-align: top;\n",
       "    }\n",
       "\n",
       "    .dataframe thead th {\n",
       "        text-align: right;\n",
       "    }\n",
       "</style>\n",
       "<table border=\"1\" class=\"dataframe\">\n",
       "  <thead>\n",
       "    <tr style=\"text-align: right;\">\n",
       "      <th></th>\n",
       "      <th>datetime</th>\n",
       "      <th>count</th>\n",
       "    </tr>\n",
       "  </thead>\n",
       "  <tbody>\n",
       "    <tr>\n",
       "      <th>0</th>\n",
       "      <td>2011-01-20 00:00:00</td>\n",
       "      <td>4</td>\n",
       "    </tr>\n",
       "    <tr>\n",
       "      <th>1</th>\n",
       "      <td>2011-01-20 01:00:00</td>\n",
       "      <td>5</td>\n",
       "    </tr>\n",
       "    <tr>\n",
       "      <th>2</th>\n",
       "      <td>2011-01-20 02:00:00</td>\n",
       "      <td>6</td>\n",
       "    </tr>\n",
       "    <tr>\n",
       "      <th>3</th>\n",
       "      <td>2011-01-20 03:00:00</td>\n",
       "      <td>6</td>\n",
       "    </tr>\n",
       "    <tr>\n",
       "      <th>4</th>\n",
       "      <td>2011-01-20 04:00:00</td>\n",
       "      <td>7</td>\n",
       "    </tr>\n",
       "  </tbody>\n",
       "</table>\n",
       "</div>"
      ],
      "text/plain": [
       "              datetime  count\n",
       "0  2011-01-20 00:00:00      4\n",
       "1  2011-01-20 01:00:00      5\n",
       "2  2011-01-20 02:00:00      6\n",
       "3  2011-01-20 03:00:00      6\n",
       "4  2011-01-20 04:00:00      7"
      ]
     },
     "execution_count": 8,
     "metadata": {},
     "output_type": "execute_result"
    }
   ],
   "source": [
    "ridge_model = Ridge(**best_params_list[2])\n",
    "ridge_submission_df = run_model(ridge_model, x_train_std, y_train_count, saved_test_std, saved_datetime)\n",
    "#ridge_submission_df.to_csv(\"./saved_submissions/ridge_train_v2-16_08_2018.csv\", index=False)\n",
    "ridge_submission_df.head(5)"
   ]
  },
  {
   "cell_type": "code",
   "execution_count": null,
   "metadata": {},
   "outputs": [],
   "source": []
  },
  {
   "cell_type": "markdown",
   "metadata": {},
   "source": [
    "### Random Forest"
   ]
  },
  {
   "cell_type": "code",
   "execution_count": 9,
   "metadata": {},
   "outputs": [
    {
     "data": {
      "text/html": [
       "<div>\n",
       "<style scoped>\n",
       "    .dataframe tbody tr th:only-of-type {\n",
       "        vertical-align: middle;\n",
       "    }\n",
       "\n",
       "    .dataframe tbody tr th {\n",
       "        vertical-align: top;\n",
       "    }\n",
       "\n",
       "    .dataframe thead th {\n",
       "        text-align: right;\n",
       "    }\n",
       "</style>\n",
       "<table border=\"1\" class=\"dataframe\">\n",
       "  <thead>\n",
       "    <tr style=\"text-align: right;\">\n",
       "      <th></th>\n",
       "      <th>datetime</th>\n",
       "      <th>count</th>\n",
       "    </tr>\n",
       "  </thead>\n",
       "  <tbody>\n",
       "    <tr>\n",
       "      <th>0</th>\n",
       "      <td>2011-01-20 00:00:00</td>\n",
       "      <td>11</td>\n",
       "    </tr>\n",
       "    <tr>\n",
       "      <th>1</th>\n",
       "      <td>2011-01-20 01:00:00</td>\n",
       "      <td>5</td>\n",
       "    </tr>\n",
       "    <tr>\n",
       "      <th>2</th>\n",
       "      <td>2011-01-20 02:00:00</td>\n",
       "      <td>3</td>\n",
       "    </tr>\n",
       "    <tr>\n",
       "      <th>3</th>\n",
       "      <td>2011-01-20 03:00:00</td>\n",
       "      <td>3</td>\n",
       "    </tr>\n",
       "    <tr>\n",
       "      <th>4</th>\n",
       "      <td>2011-01-20 04:00:00</td>\n",
       "      <td>2</td>\n",
       "    </tr>\n",
       "  </tbody>\n",
       "</table>\n",
       "</div>"
      ],
      "text/plain": [
       "              datetime  count\n",
       "0  2011-01-20 00:00:00     11\n",
       "1  2011-01-20 01:00:00      5\n",
       "2  2011-01-20 02:00:00      3\n",
       "3  2011-01-20 03:00:00      3\n",
       "4  2011-01-20 04:00:00      2"
      ]
     },
     "execution_count": 9,
     "metadata": {},
     "output_type": "execute_result"
    }
   ],
   "source": [
    "# Random Forest Regression\n",
    "rf_model = RandomForestRegressor(n_estimators=500, n_jobs=-1)\n",
    "rf_submission_df = run_model(rf_model, x_train, y_train_count, saved_test, saved_datetime)\n",
    "#rf_submission_df.to_csv(\"./saved_submissions/rf_train_v2-28_08_2018.csv\", index=False)\n",
    "rf_submission_df.head(5)"
   ]
  },
  {
   "cell_type": "markdown",
   "metadata": {},
   "source": [
    "### Xgboost"
   ]
  },
  {
   "cell_type": "code",
   "execution_count": 15,
   "metadata": {},
   "outputs": [
    {
     "name": "stdout",
     "output_type": "stream",
     "text": [
      "y_casual\n",
      "{'learning_rate': 0.3} were the best parameters to use\n",
      "0.23297893813907422 was the accuracies\n",
      "-------------------------\n",
      "\n",
      "y_register\n",
      "{'learning_rate': 0.3} were the best parameters to use\n",
      "0.09767920999354975 was the accuracies\n",
      "-------------------------\n",
      "\n",
      "y_count\n",
      "{'learning_rate': 0.3} were the best parameters to use\n",
      "0.09186284337610981 was the accuracies\n",
      "-------------------------\n",
      "\n"
     ]
    }
   ],
   "source": [
    "best_params_list = []\n",
    "for y_name, y in Y_TRAIN_SETS.items():\n",
    "    print(\"{0}\".format(y_name))\n",
    "        \n",
    "    # Creating the cv for the ridge regression\n",
    "    xgb_model = xgb.XGBRegressor()\n",
    "    xgb_params = {\n",
    "        'learning_rate': [0.05, 0.1, 0.3, 1, 3, 5, 10]\n",
    "    }\n",
    "\n",
    "    xgb_gridcv = gridsearch_cv(xgb_model, xgb_params, x_train, y, cv=10)\n",
    "    xgb_best_params, _ = return_parameters(xgb_gridcv, verbose=True)\n",
    "    best_params_list.append(xgb_best_params)\n",
    "    print(\"-------------------------\\n\")"
   ]
  },
  {
   "cell_type": "code",
   "execution_count": 9,
   "metadata": {},
   "outputs": [
    {
     "data": {
      "text/html": [
       "<div>\n",
       "<style scoped>\n",
       "    .dataframe tbody tr th:only-of-type {\n",
       "        vertical-align: middle;\n",
       "    }\n",
       "\n",
       "    .dataframe tbody tr th {\n",
       "        vertical-align: top;\n",
       "    }\n",
       "\n",
       "    .dataframe thead th {\n",
       "        text-align: right;\n",
       "    }\n",
       "</style>\n",
       "<table border=\"1\" class=\"dataframe\">\n",
       "  <thead>\n",
       "    <tr style=\"text-align: right;\">\n",
       "      <th></th>\n",
       "      <th>Id</th>\n",
       "      <th>Target</th>\n",
       "    </tr>\n",
       "  </thead>\n",
       "  <tbody>\n",
       "    <tr>\n",
       "      <th>0</th>\n",
       "      <td>2011-01-20 00:00:00</td>\n",
       "      <td>7</td>\n",
       "    </tr>\n",
       "    <tr>\n",
       "      <th>1</th>\n",
       "      <td>2011-01-20 01:00:00</td>\n",
       "      <td>4</td>\n",
       "    </tr>\n",
       "    <tr>\n",
       "      <th>2</th>\n",
       "      <td>2011-01-20 02:00:00</td>\n",
       "      <td>2</td>\n",
       "    </tr>\n",
       "    <tr>\n",
       "      <th>3</th>\n",
       "      <td>2011-01-20 03:00:00</td>\n",
       "      <td>1</td>\n",
       "    </tr>\n",
       "    <tr>\n",
       "      <th>4</th>\n",
       "      <td>2011-01-20 04:00:00</td>\n",
       "      <td>1</td>\n",
       "    </tr>\n",
       "  </tbody>\n",
       "</table>\n",
       "</div>"
      ],
      "text/plain": [
       "                    Id  Target\n",
       "0  2011-01-20 00:00:00       7\n",
       "1  2011-01-20 01:00:00       4\n",
       "2  2011-01-20 02:00:00       2\n",
       "3  2011-01-20 03:00:00       1\n",
       "4  2011-01-20 04:00:00       1"
      ]
     },
     "execution_count": 9,
     "metadata": {},
     "output_type": "execute_result"
    }
   ],
   "source": [
    "xgb_params = {\n",
    "    'learning_rate': .3\n",
    "}\n",
    "\n",
    "xgb_model = xgb.XGBRegressor(**xgb_params)\n",
    "xgb_submission_df = run_model(xgb_model, x_train, y_train_count, saved_test, saved_datetime)\n",
    "#xgb_submission_df.to_csv(\"./saved_submissions/xgb_train_v2-29_08_2018.csv\", index=False)\n",
    "xgb_submission_df.head(5)"
   ]
  },
  {
   "cell_type": "code",
   "execution_count": 14,
   "metadata": {},
   "outputs": [
    {
     "data": {
      "text/plain": [
       "Index(['temp', 'atemp', 'humidity', 'windspeed', 'day', 'hour', 'minute',\n",
       "       'weekofyear', 'season_spring', 'season_summer', 'season_winter',\n",
       "       'workingday_Yes', 'year_2012', 'month_Aug', 'month_Dec', 'month_Feb',\n",
       "       'month_Jan', 'month_Jul', 'month_Jun', 'month_Mar', 'month_May',\n",
       "       'month_Nov', 'month_Oct', 'month_Sep', 'dayofweek_Monday',\n",
       "       'dayofweek_Saturday', 'dayofweek_Sunday', 'dayofweek_Thursday',\n",
       "       'dayofweek_Tuesday', 'dayofweek_Wednesday', 'time_of_day_evening',\n",
       "       'time_of_day_morning', 'time_of_day_night'],\n",
       "      dtype='object')"
      ]
     },
     "execution_count": 14,
     "metadata": {},
     "output_type": "execute_result"
    }
   ],
   "source": [
    "x_train.columns"
   ]
  },
  {
   "cell_type": "markdown",
   "metadata": {},
   "source": [
    "**Scoring: .41643 (397/3251)**"
   ]
  },
  {
   "cell_type": "code",
   "execution_count": 17,
   "metadata": {},
   "outputs": [
    {
     "data": {
      "text/plain": [
       "temp                    9.840\n",
       "atemp                  14.395\n",
       "humidity               81.000\n",
       "windspeed               0.000\n",
       "day                     1.000\n",
       "hour                    0.000\n",
       "minute                  0.000\n",
       "weekofyear             52.000\n",
       "season_spring           1.000\n",
       "season_summer           0.000\n",
       "season_winter           0.000\n",
       "workingday_Yes          0.000\n",
       "year_2012               0.000\n",
       "month_Aug               0.000\n",
       "month_Dec               0.000\n",
       "month_Feb               0.000\n",
       "month_Jan               1.000\n",
       "month_Jul               0.000\n",
       "month_Jun               0.000\n",
       "month_Mar               0.000\n",
       "month_May               0.000\n",
       "month_Nov               0.000\n",
       "month_Oct               0.000\n",
       "month_Sep               0.000\n",
       "dayofweek_Monday        0.000\n",
       "dayofweek_Saturday      1.000\n",
       "dayofweek_Sunday        0.000\n",
       "dayofweek_Thursday      0.000\n",
       "dayofweek_Tuesday       0.000\n",
       "dayofweek_Wednesday     0.000\n",
       "time_of_day_evening     0.000\n",
       "time_of_day_morning     0.000\n",
       "time_of_day_night       1.000\n",
       "Name: 0, dtype: float64"
      ]
     },
     "execution_count": 17,
     "metadata": {},
     "output_type": "execute_result"
    }
   ],
   "source": [
    "x_train.loc[0, :]\n"
   ]
  },
  {
   "cell_type": "code",
   "execution_count": null,
   "metadata": {},
   "outputs": [],
   "source": []
  }
 ],
 "metadata": {
  "kernelspec": {
   "display_name": "Python 3",
   "language": "python",
   "name": "python3"
  },
  "language_info": {
   "codemirror_mode": {
    "name": "ipython",
    "version": 3
   },
   "file_extension": ".py",
   "mimetype": "text/x-python",
   "name": "python",
   "nbconvert_exporter": "python",
   "pygments_lexer": "ipython3",
   "version": "3.6.6"
  },
  "toc": {
   "base_numbering": 1,
   "nav_menu": {},
   "number_sections": true,
   "sideBar": true,
   "skip_h1_title": true,
   "title_cell": "Table of Contents",
   "title_sidebar": "Contents",
   "toc_cell": false,
   "toc_position": {},
   "toc_section_display": true,
   "toc_window_display": false
  },
  "varInspector": {
   "cols": {
    "lenName": 16,
    "lenType": 16,
    "lenVar": 40
   },
   "kernels_config": {
    "python": {
     "delete_cmd_postfix": "",
     "delete_cmd_prefix": "del ",
     "library": "var_list.py",
     "varRefreshCmd": "print(var_dic_list())"
    },
    "r": {
     "delete_cmd_postfix": ") ",
     "delete_cmd_prefix": "rm(",
     "library": "var_list.r",
     "varRefreshCmd": "cat(var_dic_list()) "
    }
   },
   "types_to_exclude": [
    "module",
    "function",
    "builtin_function_or_method",
    "instance",
    "_Feature"
   ],
   "window_display": false
  }
 },
 "nbformat": 4,
 "nbformat_minor": 2
}
