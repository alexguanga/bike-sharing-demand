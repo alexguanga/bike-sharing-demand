{
 "cells": [
  {
   "cell_type": "code",
   "execution_count": 1,
   "metadata": {},
   "outputs": [],
   "source": [
    "# Importing necessary packages\n",
    "import numpy as np\n",
    "import pandas as pd\n",
    "\n",
    "import matplotlib.pyplot as plt\n",
    "import seaborn as sns\n",
    "sns.set_style('whitegrid')\n",
    "%matplotlib inline"
   ]
  },
  {
   "cell_type": "code",
   "execution_count": 2,
   "metadata": {},
   "outputs": [],
   "source": [
    "# Importing the datasets that will be used\n",
    "train_set = pd.read_csv(\"./archive/train.csv\")\n",
    "test_set = pd.read_csv(\"./archive/test.csv\")\n",
    "\n",
    "# Creating a column to label the train_set & test_set\n",
    "train_set['data_source'] = \"train_set\"\n",
    "test_set['data_source'] = \"test_set\""
   ]
  },
  {
   "cell_type": "code",
   "execution_count": 3,
   "metadata": {},
   "outputs": [],
   "source": [
    "# Adding the missing columns for the testing columns\n",
    "test_set['count'] = np.nan\n",
    "test_set['registered'] = np.nan\n",
    "test_set['casual'] = np.nan"
   ]
  },
  {
   "cell_type": "code",
   "execution_count": 4,
   "metadata": {},
   "outputs": [
    {
     "data": {
      "text/html": [
       "<div>\n",
       "<style scoped>\n",
       "    .dataframe tbody tr th:only-of-type {\n",
       "        vertical-align: middle;\n",
       "    }\n",
       "\n",
       "    .dataframe tbody tr th {\n",
       "        vertical-align: top;\n",
       "    }\n",
       "\n",
       "    .dataframe thead th {\n",
       "        text-align: right;\n",
       "    }\n",
       "</style>\n",
       "<table border=\"1\" class=\"dataframe\">\n",
       "  <thead>\n",
       "    <tr style=\"text-align: right;\">\n",
       "      <th></th>\n",
       "      <th>datetime</th>\n",
       "      <th>season</th>\n",
       "      <th>holiday</th>\n",
       "      <th>workingday</th>\n",
       "      <th>weather</th>\n",
       "      <th>temp</th>\n",
       "      <th>atemp</th>\n",
       "      <th>humidity</th>\n",
       "      <th>windspeed</th>\n",
       "      <th>casual</th>\n",
       "      <th>registered</th>\n",
       "      <th>count</th>\n",
       "      <th>data_source</th>\n",
       "    </tr>\n",
       "  </thead>\n",
       "  <tbody>\n",
       "    <tr>\n",
       "      <th>0</th>\n",
       "      <td>2011-01-01 00:00:00</td>\n",
       "      <td>1</td>\n",
       "      <td>0</td>\n",
       "      <td>0</td>\n",
       "      <td>1</td>\n",
       "      <td>9.84</td>\n",
       "      <td>14.395</td>\n",
       "      <td>81</td>\n",
       "      <td>0.0</td>\n",
       "      <td>3.0</td>\n",
       "      <td>13.0</td>\n",
       "      <td>16.0</td>\n",
       "      <td>train_set</td>\n",
       "    </tr>\n",
       "    <tr>\n",
       "      <th>1</th>\n",
       "      <td>2011-01-01 01:00:00</td>\n",
       "      <td>1</td>\n",
       "      <td>0</td>\n",
       "      <td>0</td>\n",
       "      <td>1</td>\n",
       "      <td>9.02</td>\n",
       "      <td>13.635</td>\n",
       "      <td>80</td>\n",
       "      <td>0.0</td>\n",
       "      <td>8.0</td>\n",
       "      <td>32.0</td>\n",
       "      <td>40.0</td>\n",
       "      <td>train_set</td>\n",
       "    </tr>\n",
       "    <tr>\n",
       "      <th>2</th>\n",
       "      <td>2011-01-01 02:00:00</td>\n",
       "      <td>1</td>\n",
       "      <td>0</td>\n",
       "      <td>0</td>\n",
       "      <td>1</td>\n",
       "      <td>9.02</td>\n",
       "      <td>13.635</td>\n",
       "      <td>80</td>\n",
       "      <td>0.0</td>\n",
       "      <td>5.0</td>\n",
       "      <td>27.0</td>\n",
       "      <td>32.0</td>\n",
       "      <td>train_set</td>\n",
       "    </tr>\n",
       "    <tr>\n",
       "      <th>3</th>\n",
       "      <td>2011-01-01 03:00:00</td>\n",
       "      <td>1</td>\n",
       "      <td>0</td>\n",
       "      <td>0</td>\n",
       "      <td>1</td>\n",
       "      <td>9.84</td>\n",
       "      <td>14.395</td>\n",
       "      <td>75</td>\n",
       "      <td>0.0</td>\n",
       "      <td>3.0</td>\n",
       "      <td>10.0</td>\n",
       "      <td>13.0</td>\n",
       "      <td>train_set</td>\n",
       "    </tr>\n",
       "    <tr>\n",
       "      <th>4</th>\n",
       "      <td>2011-01-01 04:00:00</td>\n",
       "      <td>1</td>\n",
       "      <td>0</td>\n",
       "      <td>0</td>\n",
       "      <td>1</td>\n",
       "      <td>9.84</td>\n",
       "      <td>14.395</td>\n",
       "      <td>75</td>\n",
       "      <td>0.0</td>\n",
       "      <td>0.0</td>\n",
       "      <td>1.0</td>\n",
       "      <td>1.0</td>\n",
       "      <td>train_set</td>\n",
       "    </tr>\n",
       "  </tbody>\n",
       "</table>\n",
       "</div>"
      ],
      "text/plain": [
       "              datetime  season  holiday  workingday  weather  temp   atemp  \\\n",
       "0  2011-01-01 00:00:00       1        0           0        1  9.84  14.395   \n",
       "1  2011-01-01 01:00:00       1        0           0        1  9.02  13.635   \n",
       "2  2011-01-01 02:00:00       1        0           0        1  9.02  13.635   \n",
       "3  2011-01-01 03:00:00       1        0           0        1  9.84  14.395   \n",
       "4  2011-01-01 04:00:00       1        0           0        1  9.84  14.395   \n",
       "\n",
       "   humidity  windspeed  casual  registered  count data_source  \n",
       "0        81        0.0     3.0        13.0   16.0   train_set  \n",
       "1        80        0.0     8.0        32.0   40.0   train_set  \n",
       "2        80        0.0     5.0        27.0   32.0   train_set  \n",
       "3        75        0.0     3.0        10.0   13.0   train_set  \n",
       "4        75        0.0     0.0         1.0    1.0   train_set  "
      ]
     },
     "execution_count": 4,
     "metadata": {},
     "output_type": "execute_result"
    }
   ],
   "source": [
    "# Concatenating the train_set with the test_set\n",
    "data = pd.concat([train_set, test_set], axis=0, sort=False)\n",
    "\n",
    "# Lowercase column names\n",
    "data.columns = map(str.lower, data.columns)\n",
    "\n",
    "data.head(5)"
   ]
  },
  {
   "cell_type": "code",
   "execution_count": 5,
   "metadata": {},
   "outputs": [
    {
     "name": "stdout",
     "output_type": "stream",
     "text": [
      "Train set cols. datetime, season, holiday, workingday, weather, temp, atemp, humidity, windspeed, casual, registered, count, data_source\n",
      "Test set cols. datetime, season, holiday, workingday, weather, temp, atemp, humidity, windspeed, data_source, count, registered, casual\n",
      "Difference cols. are set()\n"
     ]
    }
   ],
   "source": [
    "print(f'Train set cols. {\", \".join(train_set.columns.tolist())}')\n",
    "print(f'Test set cols. {\", \".join(test_set.columns.tolist())}')\n",
    "print(f'Difference cols. are {set(train_set.columns) - set(test_set.columns)}')"
   ]
  },
  {
   "cell_type": "markdown",
   "metadata": {},
   "source": [
    "#### Notes:\n",
    "Notice that we have three potential target variables. While the count is the exact predictor, we could calculate the casual and registerd to find the count... we'll see how we will calculate the predictor."
   ]
  },
  {
   "cell_type": "code",
   "execution_count": 6,
   "metadata": {},
   "outputs": [
    {
     "data": {
      "text/plain": [
       "season           int64\n",
       "holiday          int64\n",
       "workingday       int64\n",
       "weather          int64\n",
       "humidity         int64\n",
       "temp           float64\n",
       "atemp          float64\n",
       "windspeed      float64\n",
       "casual         float64\n",
       "registered     float64\n",
       "count          float64\n",
       "datetime        object\n",
       "data_source     object\n",
       "dtype: object"
      ]
     },
     "execution_count": 6,
     "metadata": {},
     "output_type": "execute_result"
    }
   ],
   "source": [
    "# Let's look at the datatype\n",
    "data.dtypes.sort_values()"
   ]
  },
  {
   "cell_type": "code",
   "execution_count": 7,
   "metadata": {},
   "outputs": [
    {
     "name": "stdout",
     "output_type": "stream",
     "text": [
      "Total observation (train_set): 10886\n",
      "Total observation (test_set): 6493\n"
     ]
    }
   ],
   "source": [
    "print(f\"Total observation (train_set): {train_set.shape[0]}\")\n",
    "print(f\"Total observation (test_set): {test_set.shape[0]}\")"
   ]
  },
  {
   "cell_type": "markdown",
   "metadata": {},
   "source": [
    "#### Notes:\n",
    "- The date variable is an object so you will have to change it to a datetype"
   ]
  },
  {
   "cell_type": "markdown",
   "metadata": {},
   "source": [
    "## Data Cleaning"
   ]
  },
  {
   "cell_type": "code",
   "execution_count": 8,
   "metadata": {},
   "outputs": [],
   "source": [
    "# Interpolate weather, atemp, humidity\n",
    "data[\"weather\"] = data[\"weather\"].interpolate(method='time').apply(np.round)\n",
    "data[\"temp\"] = data[\"temp\"].interpolate(method='time')\n",
    "data[\"atemp\"] = data[\"atemp\"].interpolate(method='time')\n",
    "data[\"humidity\"] = data[\"humidity\"].interpolate(method='time').apply(np.round)\n",
    "data[\"windspeed\"] = data[\"windspeed\"].interpolate(method='time')"
   ]
  },
  {
   "cell_type": "code",
   "execution_count": 9,
   "metadata": {
    "code_folding": [
     0,
     11
    ]
   },
   "outputs": [],
   "source": [
    "def get_dtypes(data, verbose=False):\n",
    "    \"\"\"Returns a list: numerical values, object-like columns\"\"\"\n",
    "    \n",
    "    numerics = ['int16', 'int32', 'int64', 'float16', 'float32', 'float64']\n",
    "    numerics_cols = data.select_dtypes(include=numerics).columns\n",
    "    object_cols = data.select_dtypes(include='object').columns\n",
    "    if verbose:\n",
    "        print('There are {0} numeric cols: {1}\\nThere are {2} object cols: {3}\\nThere are total cols: {4}'.format\n",
    "              (len(numerics_cols),numerics_cols, len(object_cols), object_cols, len(data.columns)))\n",
    "    return [numerics_cols, object_cols]\n",
    "\n",
    "def get_missing_values(data, cols):\n",
    "    \"\"\"Returns a dataframe with missing values (in absolute and percentage format)\"\"\"\n",
    "    \n",
    "    missing_percent = data[cols].apply(lambda x: sum(x.isnull())/len(x), axis=0).sort_values(ascending=False)\n",
    "    missing_abs = data[cols].apply(lambda x: sum(x.isnull()), axis=0).sort_values(ascending=False)\n",
    "    df = pd.DataFrame({'Missing': missing_abs, 'Percent': missing_percent})\n",
    "    \n",
    "    # Removing column if correlation is zero\n",
    "    df = df.loc[~(df==0).all(axis=1)]\n",
    "    return df"
   ]
  },
  {
   "cell_type": "code",
   "execution_count": 10,
   "metadata": {},
   "outputs": [
    {
     "data": {
      "text/html": [
       "<div>\n",
       "<style scoped>\n",
       "    .dataframe tbody tr th:only-of-type {\n",
       "        vertical-align: middle;\n",
       "    }\n",
       "\n",
       "    .dataframe tbody tr th {\n",
       "        vertical-align: top;\n",
       "    }\n",
       "\n",
       "    .dataframe thead th {\n",
       "        text-align: right;\n",
       "    }\n",
       "</style>\n",
       "<table border=\"1\" class=\"dataframe\">\n",
       "  <thead>\n",
       "    <tr style=\"text-align: right;\">\n",
       "      <th></th>\n",
       "      <th>Missing</th>\n",
       "      <th>Percent</th>\n",
       "    </tr>\n",
       "  </thead>\n",
       "  <tbody>\n",
       "    <tr>\n",
       "      <th>count</th>\n",
       "      <td>6493</td>\n",
       "      <td>0.373612</td>\n",
       "    </tr>\n",
       "    <tr>\n",
       "      <th>registered</th>\n",
       "      <td>6493</td>\n",
       "      <td>0.373612</td>\n",
       "    </tr>\n",
       "    <tr>\n",
       "      <th>casual</th>\n",
       "      <td>6493</td>\n",
       "      <td>0.373612</td>\n",
       "    </tr>\n",
       "  </tbody>\n",
       "</table>\n",
       "</div>"
      ],
      "text/plain": [
       "            Missing   Percent\n",
       "count          6493  0.373612\n",
       "registered     6493  0.373612\n",
       "casual         6493  0.373612"
      ]
     },
     "execution_count": 10,
     "metadata": {},
     "output_type": "execute_result"
    }
   ],
   "source": [
    "# Separting the numeric and object columnac\n",
    "num_cols, obj_cols = get_dtypes(data, verbose=False)\n",
    "\n",
    "# Calculating missing values in our data\n",
    "missing = get_missing_values(data, num_cols)\n",
    "missing"
   ]
  },
  {
   "cell_type": "markdown",
   "metadata": {},
   "source": [
    "#### Notes:\n",
    "- The only missing values are from the predictors... which is how it should!"
   ]
  },
  {
   "cell_type": "markdown",
   "metadata": {},
   "source": [
    "## Feature Enginnering"
   ]
  },
  {
   "cell_type": "markdown",
   "metadata": {},
   "source": [
    "#### Notes:\n",
    "- `extract_dateinfo` function is a fast.ai function. \n",
    "    - From a date datatype, it is able to make many calculations!\n",
    "    - It automates the feature engineering processs.\n",
    "- `custom_datainfo` function is a function I created.\n",
    "    - It focuses on renaming or creating abritrary columns (like rush_hour)"
   ]
  },
  {
   "cell_type": "code",
   "execution_count": 11,
   "metadata": {
    "code_folding": [
     2
    ]
   },
   "outputs": [],
   "source": [
    "import re\n",
    "\n",
    "def extract_dateinfo(df, date_col, drop=True, time=False, start_ref=pd.datetime(1900, 1, 1), extra_attr = True):\n",
    "    \"\"\"\n",
    "    Extract Date (and time) Information from a DataFrame\n",
    "    Adapted from: https://github.com/fastai/fastai/blob/master/fastai/structured.py\n",
    "    \"\"\"\n",
    "    df = df.copy()\n",
    "    \n",
    "    # Extract the field\n",
    "    fld = df[date_col]\n",
    "    \n",
    "    # Check the time\n",
    "    fld_dtype = fld.dtype\n",
    "    if isinstance(fld_dtype, pd.core.dtypes.dtypes.DatetimeTZDtype):\n",
    "        fld_dtype = np.datetime64\n",
    "\n",
    "    # Convert to datetime if not already\n",
    "    if not np.issubdtype(fld_dtype, np.datetime64):\n",
    "        df[date_col] = fld = pd.to_datetime(fld, infer_datetime_format=True)\n",
    "    \n",
    "    # Prefix for new columns\n",
    "    pre = re.sub('[Dd]ate', '', date_col)\n",
    "    pre = re.sub('[Tt]ime', '', pre)\n",
    "    \n",
    "    # Basic attributes\n",
    "    attr = ['Year', 'Month', 'Week', 'Day', 'Dayofweek', 'Dayofyear', 'Days_in_month', 'is_leap_year']\n",
    "    \n",
    "    # Additional attributes\n",
    "    if extra_attr:\n",
    "        attr = attr + ['Is_month_end', 'Is_month_start', 'Is_quarter_end', \n",
    "                       'Is_quarter_start', 'Is_year_end', 'Is_year_start']\n",
    "    \n",
    "    # If time is specified, extract time information\n",
    "    if time: \n",
    "        attr = attr + ['Hour', 'Minute', 'Second']\n",
    "        \n",
    "    # Iterate through each attribute\n",
    "    for n in attr: \n",
    "        df[pre + n] = getattr(fld.dt, n.lower())\n",
    "        \n",
    "    # Calculate days in year\n",
    "    df[pre + 'Days_in_year'] = df[pre + 'is_leap_year'] + 365\n",
    "        \n",
    "    if time:\n",
    "        # Add fractional time of day (0 - 1) units of day\n",
    "        df[pre + 'frac_day'] = ((df[pre + 'Hour']) + (df[pre + 'Minute'] / 60) + (df[pre + 'Second'] / 60 / 60)) / 24\n",
    "        \n",
    "        # Add fractional time of week (0 - 1) units of week\n",
    "        df[pre + 'frac_week'] = (df[pre + 'Dayofweek'] + df[pre + 'frac_day']) / 7\n",
    "    \n",
    "        # Add fractional time of month (0 - 1) units of month\n",
    "        df[pre + 'frac_month'] = (df[pre + 'Day'] + (df[pre + 'frac_day'])) / (df[pre + 'Days_in_month'] +  1)\n",
    "        \n",
    "        # Add fractional time of year (0 - 1) units of year\n",
    "        df[pre + 'frac_year'] = (df[pre + 'Dayofyear'] + df[pre + 'frac_day']) / (df[pre + 'Days_in_year'] + 1)\n",
    "        \n",
    "    # Add seconds since start of reference\n",
    "    df[pre + 'Elapsed'] = (fld - start_ref).dt.total_seconds()\n",
    "    \n",
    "    if drop: \n",
    "        df = df.drop(date_col, axis=1)\n",
    "        \n",
    "    return df"
   ]
  },
  {
   "cell_type": "code",
   "execution_count": 12,
   "metadata": {},
   "outputs": [],
   "source": [
    "# Calculating various date variables\n",
    "data = extract_dateinfo(data, 'datetime', drop=False, time=True)"
   ]
  },
  {
   "cell_type": "code",
   "execution_count": 13,
   "metadata": {
    "code_folding": [
     7
    ]
   },
   "outputs": [],
   "source": [
    "import calendar\n",
    "\n",
    "# Conditional on time of day: morning=1, afternoon=2, evening=3, night=4\n",
    "# Conditional on time of day: spring=1, summer=2, fall=3, winter=4\n",
    "# Conditional on time of day: clear/few clouds=1, light snow/light rain=2, \n",
    "#                             light snow/light rain=3, heavy rain/ice pallets=4\n",
    "\n",
    "def custom_dateinfo(data):\n",
    "    data = data.copy()\n",
    "    data['Year'] = data['Year'].astype('object')\n",
    "    data['Month'] = data['Month'].apply(lambda x: calendar.month_abbr[x])\n",
    "    \n",
    "    dayofweek_name = {0:'Monday', 1:'Tuesday', 2:'Wednesday', 3:'Thursday', 4:'Friday', 5:'Saturday', 6:'Sunday'}\n",
    "    data['Dayofweek'] = data['Dayofweek'].map(dayofweek_name)\n",
    "    data['Weekofyear'] = data['datetime'].dt.weekofyear\n",
    "    data['Weekend'] = data['Dayofweek'].map(lambda x: \"Yes\" if int(x in [5,6]) else \"No\")\n",
    "    \n",
    "    # Creatinga new column that identifies the time of the day (morning, afternoon, evening)\n",
    "    time_of_day_conds = [\n",
    "        ((data['Hour'] >=  5) & (data['Hour'] < 12)),\n",
    "        ((data['Hour'] >=  12) & (data['Hour'] < 17)),\n",
    "        ((data['Hour'] >=  17) & (data['Hour'] < 21))]\n",
    "    time_of_days = [\"morning\", \"afternoon\", \"evening\"]\n",
    "    data['Timeofday'] = np.select(time_of_day_conds, time_of_days, default=\"night\")\n",
    "    \n",
    "    # Creating a T/F boolean variable to check whether if it workday\n",
    "    data['Rush_Workday'] = data['Dayofweek'].map(lambda x: \"Yes\" if int(x in [0,1,2,3,4]) else \"No\")\n",
    "    \n",
    "    # Creating a T/F boolean variable to check whether it is rush_hour on a workday\n",
    "    rush_hours = [8, 9, 10, 16, 17, 18]\n",
    "    data['Rush_Hour'] = data.apply(lambda x: \"Yes\" if x['Rush_Workday'] == 1 \n",
    "                                   and x['hour'] in rush_hours else \"No\", axis=1)\n",
    "    \n",
    "    # Modifying the 'season' column\n",
    "    seasons_to_rename = {1: 'spring', 2: 'summer', 3: 'fall', 4: 'winter'}\n",
    "    data['season'] = data['season'].map(seasons_to_rename)\n",
    "    \n",
    "    # Modifying the 'weather' column\n",
    "    weather_to_rename = {1: 'clear/few clouds', 2: 'mist/cloudy', \n",
    "                         3: 'light snow/light rain', 4: 'heavy rain/ice pallets'}\n",
    "    data['weather'] = data['weather'].map(weather_to_rename)\n",
    "        \n",
    "    return data"
   ]
  },
  {
   "cell_type": "code",
   "execution_count": 14,
   "metadata": {},
   "outputs": [],
   "source": [
    "data = custom_dateinfo(data)"
   ]
  },
  {
   "cell_type": "code",
   "execution_count": 15,
   "metadata": {},
   "outputs": [],
   "source": [
    "def agg_cols(data, col_to_agg, col_by, col_to_name):\n",
    "    '''Return the total count of a categorical variable segmented by another categorical variable'''\n",
    "    \n",
    "    data = data.copy()\n",
    "    count = data[data['data_source'] == \"train_set\"].groupby(col_to_agg)[[col_by]].agg(sum)\n",
    "    count.columns = [col_to_name]\n",
    "    data = data.join(count, on=col_to_agg)\n",
    "    return data"
   ]
  },
  {
   "cell_type": "code",
   "execution_count": 16,
   "metadata": {},
   "outputs": [],
   "source": [
    "data = agg_cols(data, 'season', 'count', 'count_by_season')\n",
    "data = agg_cols(data, 'season', 'casual', 'casual_by_season')\n",
    "data = agg_cols(data, 'season', 'registered', 'registered_by_season')\n",
    "data = agg_cols(data, 'holiday', 'count', 'count_by_holiday')\n",
    "data = agg_cols(data, 'holiday', 'casual', 'casual_by_holiday')\n",
    "data = agg_cols(data, 'holiday', 'registered', 'registered_by_holiday')"
   ]
  },
  {
   "cell_type": "markdown",
   "metadata": {},
   "source": [
    "## Data Visualization"
   ]
  },
  {
   "cell_type": "code",
   "execution_count": 17,
   "metadata": {
    "code_folding": [
     0,
     7
    ]
   },
   "outputs": [],
   "source": [
    "def plot_by_hour(x, predictor, year=None, agg='sum'):\n",
    "    dd = data.copy()\n",
    "    if year: dd = dd[dd.datetime.dt.year == year]\n",
    "    \n",
    "    by_hour = dd.groupby(['Hour', x])[predictor].agg(agg).unstack()\n",
    "    by_hour.plot(kind='bar', figsize=(15,3), width=0.9, title=\"Year = {0}\".format(year))\n",
    "\n",
    "def plot_by_year(agg_attr, predictor, title):\n",
    "    dd = data.copy()    \n",
    "    by_year = dd.groupby([agg_attr, 'year'])[predictor].agg('sum').unstack()\n",
    "    return by_year.plot(kind='bar', figsize=(15,3), width=0.9, title=title)"
   ]
  },
  {
   "cell_type": "code",
   "execution_count": 18,
   "metadata": {},
   "outputs": [
    {
     "name": "stderr",
     "output_type": "stream",
     "text": [
      "/Users/alexguanga/anaconda/lib/python3.6/site-packages/scipy/stats/stats.py:1713: FutureWarning: Using a non-tuple sequence for multidimensional indexing is deprecated; use `arr[tuple(seq)]` instead of `arr[seq]`. In the future this will be interpreted as an array index, `arr[np.array(seq)]`, which will result either in an error or a different result.\n",
      "  return np.add.reduce(sorted[indexer] * weights, axis=axis) / sumval\n"
     ]
    },
    {
     "data": {
      "image/png": "[encoded data removed]",
      "text/plain": [
       "<Figure size 1440x216 with 3 Axes>"
      ]
     },
     "metadata": {
      "needs_background": "light"
     },
     "output_type": "display_data"
    }
   ],
   "source": [
    "# Visualizing the distribution of potential target variables\n",
    "\n",
    "fig, axes = plt.subplots(1, 3, figsize = (20, 3), sharex=True, sharey=True)\n",
    "\n",
    "sns.distplot(train_set['count'], ax=axes[0])\n",
    "sns.distplot(train_set['casual'], ax=axes[1])\n",
    "sns.distplot(train_set['registered'], ax=axes[2])\n",
    "\n",
    "axes[0].set_title('Distribution: Count')\n",
    "axes[1].set_title('Distribution: Casual')\n",
    "axes[2].set_title('Distribution: Registered');"
   ]
  },
  {
   "cell_type": "code",
   "execution_count": 19,
   "metadata": {},
   "outputs": [
    {
     "name": "stderr",
     "output_type": "stream",
     "text": [
      "/Users/alexguanga/anaconda/lib/python3.6/site-packages/scipy/stats/stats.py:1713: FutureWarning: Using a non-tuple sequence for multidimensional indexing is deprecated; use `arr[tuple(seq)]` instead of `arr[seq]`. In the future this will be interpreted as an array index, `arr[np.array(seq)]`, which will result either in an error or a different result.\n",
      "  return np.add.reduce(sorted[indexer] * weights, axis=axis) / sumval\n"
     ]
    },
    {
     "data": {
      "image/png": "[encoded data removed]",
      "text/plain": [
       "<Figure size 1440x216 with 3 Axes>"
      ]
     },
     "metadata": {
      "needs_background": "light"
     },
     "output_type": "display_data"
    }
   ],
   "source": [
    "# Visualizing the distribution of our potential target variables\n",
    "\n",
    "fig, axes = plt.subplots(1, 3, figsize = (20, 3), sharex=True, sharey=True)\n",
    "\n",
    "sns.distplot(np.log1p(train_set['count']), ax=axes[0])\n",
    "sns.distplot(np.log1p(train_set['casual']), ax=axes[1])\n",
    "sns.distplot(np.log1p(train_set['registered']), ax=axes[2])\n",
    "\n",
    "axes[0].set_title('Distribution: Count (log)')\n",
    "axes[1].set_title('Distribution: Casual (log)')\n",
    "axes[2].set_title('Distribution: Registered (log)');"
   ]
  },
  {
   "cell_type": "markdown",
   "metadata": {},
   "source": [
    "#### Notes:\n",
    "- For casual, the # of bikes being used has a huge spike in the low-end\n",
    "- For registered, the distribution is more flat (indicating that registered users are more common at a daily level)\n",
    "- We are better calculating the log.1p to get a normal distribution. \n",
    "\n",
    "A logistic distribution better represents the data when the data is highly skewed. For example, if our data contained values like 0, 1, 10, and 100, well our data will be skewed by the 100. When transforming 0, 1, 10, and 100 in a logistic distrbution, we are normalizing the increases from 0, 1, 10, and 100:\n",
    "\n",
    "```python\n",
    "log_transform = [np.log1p(i) for i in [0, 1, 10, 100]]\n",
    "log_transform    \n",
    "    \n",
    "# Output: [0.0, 0.6931471805599453, 2.3978952727983707, 4.61512051684126]\n",
    "```"
   ]
  },
  {
   "cell_type": "code",
   "execution_count": 20,
   "metadata": {},
   "outputs": [
    {
     "name": "stderr",
     "output_type": "stream",
     "text": [
      "/Users/alexguanga/anaconda/lib/python3.6/site-packages/scipy/stats/stats.py:1713: FutureWarning: Using a non-tuple sequence for multidimensional indexing is deprecated; use `arr[tuple(seq)]` instead of `arr[seq]`. In the future this will be interpreted as an array index, `arr[np.array(seq)]`, which will result either in an error or a different result.\n",
      "  return np.add.reduce(sorted[indexer] * weights, axis=axis) / sumval\n"
     ]
    },
    {
     "data": {
      "image/png": "[encoded data removed]",
      "text/plain": [
       "<Figure size 1440x288 with 3 Axes>"
      ]
     },
     "metadata": {
      "needs_background": "light"
     },
     "output_type": "display_data"
    }
   ],
   "source": [
    "# Lets visualize the distribution of the windspeed, humidity, temp\n",
    "\n",
    "fig, axes = plt.subplots(1, 3, figsize=(20, 4), sharey=True)\n",
    "\n",
    "sns.distplot(data['humidity'], ax=axes[0])\n",
    "sns.distplot(data['windspeed'], ax=axes[1])\n",
    "sns.distplot(data['temp'], ax=axes[2])\n",
    "\n",
    "axes[0].set_title('Distribution: Humidity')\n",
    "axes[1].set_title('Distribution: Windspeed')\n",
    "axes[2].set_title('Distribution: Temp');"
   ]
  },
  {
   "cell_type": "code",
   "execution_count": 21,
   "metadata": {},
   "outputs": [
    {
     "data": {
      "text/plain": [
       "datetime                 datetime64[ns]\n",
       "season                           object\n",
       "holiday                           int64\n",
       "workingday                        int64\n",
       "weather                          object\n",
       "temp                            float64\n",
       "atemp                           float64\n",
       "humidity                          int64\n",
       "windspeed                       float64\n",
       "casual                          float64\n",
       "registered                      float64\n",
       "count                           float64\n",
       "data_source                      object\n",
       "Year                             object\n",
       "Month                            object\n",
       "Week                              int64\n",
       "Day                               int64\n",
       "Dayofweek                        object\n",
       "Dayofyear                         int64\n",
       "Days_in_month                     int64\n",
       "is_leap_year                       bool\n",
       "Is_month_end                       bool\n",
       "Is_month_start                     bool\n",
       "Is_quarter_end                     bool\n",
       "Is_quarter_start                   bool\n",
       "Is_year_end                        bool\n",
       "Is_year_start                      bool\n",
       "Hour                              int64\n",
       "Minute                            int64\n",
       "Second                            int64\n",
       "Days_in_year                      int64\n",
       "frac_day                        float64\n",
       "frac_week                       float64\n",
       "frac_month                      float64\n",
       "frac_year                       float64\n",
       "Elapsed                         float64\n",
       "Weekofyear                        int64\n",
       "Weekend                          object\n",
       "Timeofday                        object\n",
       "Rush_Workday                     object\n",
       "Rush_Hour                        object\n",
       "count_by_season                 float64\n",
       "casual_by_season                float64\n",
       "registered_by_season            float64\n",
       "count_by_holiday                float64\n",
       "casual_by_holiday               float64\n",
       "registered_by_holiday           float64\n",
       "dtype: object"
      ]
     },
     "execution_count": 21,
     "metadata": {},
     "output_type": "execute_result"
    }
   ],
   "source": [
    "data.dtypes"
   ]
  },
  {
   "cell_type": "code",
   "execution_count": null,
   "metadata": {},
   "outputs": [],
   "source": [
    "# Visualizing boxplots\n",
    "plt.figure(figsize=(12,4))\n",
    "sns.boxplot(data=train_set[['temp', 'humidity', 'windspeed', 'casual', 'registered', 'count']])\n",
    "plt.show()"
   ]
  },
  {
   "cell_type": "markdown",
   "metadata": {},
   "source": [
    "#### Notes:\n",
    "- Count has the largest variation "
   ]
  },
  {
   "cell_type": "code",
   "execution_count": 23,
   "metadata": {},
   "outputs": [
    {
     "data": {
      "image/png": "[encoded data removed]",
      "text/plain": [
       "<Figure size 1080x216 with 1 Axes>"
      ]
     },
     "metadata": {
      "needs_background": "light"
     },
     "output_type": "display_data"
    },
    {
     "data": {
      "image/png": "[encoded data removed]",
      "text/plain": [
       "<Figure size 1080x216 with 1 Axes>"
      ]
     },
     "metadata": {
      "needs_background": "light"
     },
     "output_type": "display_data"
    }
   ],
   "source": [
    "plot_by_hour('workingday', 'count', year=2011)\n",
    "plot_by_hour('workingday', 'count', year=2012)"
   ]
  },
  {
   "cell_type": "markdown",
   "metadata": {},
   "source": [
    "#### Notes:\n",
    "- Notice that we see there is an increase during peak hours in 2011 and 2012. "
   ]
  },
  {
   "cell_type": "code",
   "execution_count": 24,
   "metadata": {},
   "outputs": [
    {
     "data": {
      "image/png": "[encoded data removed]",
      "text/plain": [
       "<Figure size 1080x216 with 1 Axes>"
      ]
     },
     "metadata": {
      "needs_background": "light"
     },
     "output_type": "display_data"
    },
    {
     "data": {
      "image/png": "[encoded data removed]",
      "text/plain": [
       "<Figure size 1080x216 with 1 Axes>"
      ]
     },
     "metadata": {
      "needs_background": "light"
     },
     "output_type": "display_data"
    }
   ],
   "source": [
    "plot_by_hour('season', 'count', year=2011)\n",
    "plot_by_hour('season', 'count', year=2012)"
   ]
  },
  {
   "cell_type": "markdown",
   "metadata": {},
   "source": [
    "#### Notes\n",
    "- Every season has a similar trend except for the spring\n",
    "    -  1 = spring, 2 = summer, 3 = fall, 4 = winter \n"
   ]
  },
  {
   "cell_type": "code",
   "execution_count": 25,
   "metadata": {},
   "outputs": [
    {
     "data": {
      "image/png": "[encoded data removed]",
      "text/plain": [
       "<Figure size 1080x216 with 1 Axes>"
      ]
     },
     "metadata": {
      "needs_background": "light"
     },
     "output_type": "display_data"
    },
    {
     "data": {
      "image/png": "[encoded data removed]",
      "text/plain": [
       "<Figure size 1080x216 with 1 Axes>"
      ]
     },
     "metadata": {
      "needs_background": "light"
     },
     "output_type": "display_data"
    }
   ],
   "source": [
    "# - weather \n",
    "#    - 1: Clear, Few clouds, Partly cloudy, Partly cloudy \n",
    "#    - 2: Mist + Cloudy, Mist + Broken clouds, Mist + Few clouds, Mist \n",
    "#    - 3: Light Snow, Light Rain + Thunderstorm + Scattered clouds, Light Rain + Scattered clouds \n",
    "#    - 4: Heavy Rain + Ice Pallets + Thunderstorm + Mist, Snow + Fog \n",
    "\n",
    "plot_by_hour('weather', 'count', year=2011)\n",
    "plot_by_hour('weather', 'count', year=2012)"
   ]
  },
  {
   "cell_type": "markdown",
   "metadata": {},
   "source": [
    "#### Notes:\n",
    "- The season and weather visualization states that:\n",
    "    - All season follow a similar distribution along the x-axis (hours) but spring is has a signficant lesser count\n",
    "    - A clear weather attracts more people (higher count)"
   ]
  },
  {
   "cell_type": "code",
   "execution_count": 26,
   "metadata": {},
   "outputs": [
    {
     "data": {
      "image/png": "[encoded data removed]",
      "text/plain": [
       "<Figure size 1440x216 with 3 Axes>"
      ]
     },
     "metadata": {
      "needs_background": "light"
     },
     "output_type": "display_data"
    }
   ],
   "source": [
    "data['Dayofweek'] = data['Dayofweek'].map({\"Monday\": 1, \"Tuesday\": 2, \"Wednesday\": 3, \"Thursday\": 4, \n",
    "                                           \"Friday\": 5, \"Saturday\": 6,  \"Sunday\": 7})\n",
    "\n",
    "fig, axs = plt.subplots(1, 3, figsize=(20, 3))\n",
    "\n",
    "data.groupby('Dayofweek')['count'].sum().sort_index().plot.bar(color='R', ax=axs[0])\n",
    "data.groupby('Dayofweek')['casual'].sum().sort_index(ascending=True).plot.bar(color='R', ax=axs[1])\n",
    "data.groupby('Dayofweek')['registered'].sum().sort_index(ascending=True).plot.bar(color='R', ax=axs[2])\n",
    "\n",
    "axs[0].set_title('Count')\n",
    "axs[1].set_title('Casual')\n",
    "axs[2].set_title('Registered');"
   ]
  },
  {
   "cell_type": "markdown",
   "metadata": {},
   "source": [
    "#### Notes:\n",
    "- Casual users are more common in the weekend while registered users are more common in the weekdays"
   ]
  },
  {
   "cell_type": "code",
   "execution_count": 27,
   "metadata": {},
   "outputs": [
    {
     "data": {
      "image/png": "[encoded data removed]",
      "text/plain": [
       "<Figure size 720x288 with 1 Axes>"
      ]
     },
     "metadata": {
      "needs_background": "light"
     },
     "output_type": "display_data"
    }
   ],
   "source": [
    "# Scatter plot for temp\n",
    "plt.figure(figsize=(10, 4))\n",
    "plt.scatter(x=\"temp\",y=\"count\",data=data,color='#ff4125')\n",
    "plt.show()"
   ]
  },
  {
   "cell_type": "markdown",
   "metadata": {},
   "source": [
    "## Data Cleaning"
   ]
  },
  {
   "cell_type": "code",
   "execution_count": 28,
   "metadata": {},
   "outputs": [],
   "source": [
    "np.warnings.filterwarnings('ignore')\n",
    "\n",
    "data['casual_log'] = np.log1p(data['casual'])\n",
    "data['registered_log'] = np.log1p(data['registered'])\n",
    "data['count_log'] = np.log1p(data['count'])\n",
    "\n",
    "data.drop(['casual', 'registered', 'count'], axis=1, inplace=True)"
   ]
  },
  {
   "cell_type": "markdown",
   "metadata": {},
   "source": [
    "## Model Selection: Correlation"
   ]
  },
  {
   "cell_type": "code",
   "execution_count": 29,
   "metadata": {},
   "outputs": [],
   "source": [
    "PREDICTORS = ['casual_log', 'registered_log', 'count_log']"
   ]
  },
  {
   "cell_type": "code",
   "execution_count": 30,
   "metadata": {},
   "outputs": [
    {
     "data": {
      "image/png": "[encoded data removed]",
      "text/plain": [
       "<Figure size 1440x864 with 3 Axes>"
      ]
     },
     "metadata": {
      "needs_background": "light"
     },
     "output_type": "display_data"
    }
   ],
   "source": [
    "# Correlation among the variables and the potential predictors\n",
    "corrs = data.corr()\n",
    "\n",
    "fig, axs = plt.subplots(3, 1, figsize=(20, 12), sharex=True)\n",
    "corrs['casual_log'].drop(PREDICTORS).plot.bar(color = 'b', ax=axs[0], title=\"Correlation: Casual\");\n",
    "corrs['registered_log'].drop(PREDICTORS).plot.bar(color = 'b', ax=axs[1], title=\"Correlation: Registered\");\n",
    "corrs['count_log'].drop(PREDICTORS).plot.bar(color = 'b', ax=axs[2], title=\"Correlation: Count\");"
   ]
  },
  {
   "cell_type": "markdown",
   "metadata": {},
   "source": [
    "#### Notes:\n",
    "- The top correlated variables with the predictors are Hour, Days_in_year, frac_day, Elapsed\n",
    "- The correlation values are similar throughout the three predictors with the exception of workingday"
   ]
  },
  {
   "cell_type": "code",
   "execution_count": 31,
   "metadata": {
    "code_folding": [
     0
    ]
   },
   "outputs": [],
   "source": [
    "def correlation(data, corr_by, remove_by=None, top_values=10):\n",
    "    data = data.copy()\n",
    "    corrs = data.corr()\n",
    "    if remove_by is None: remove_by = [corr_by]     \n",
    "        \n",
    "    vals = corrs[corr_by].drop(remove_by).sort_values().values\n",
    "    col = corrs[corr_by].drop(remove_by).sort_values().index\n",
    "    \n",
    "    df = pd.DataFrame({'columns': col, 'values': vals})\n",
    "    df['abs_vals'] = abs(df['values'])\n",
    "    \n",
    "    return df.sort_values(by='abs_vals', ascending=False)[:top_values]"
   ]
  },
  {
   "cell_type": "code",
   "execution_count": 32,
   "metadata": {},
   "outputs": [
    {
     "data": {
      "text/html": [
       "<div>\n",
       "<style scoped>\n",
       "    .dataframe tbody tr th:only-of-type {\n",
       "        vertical-align: middle;\n",
       "    }\n",
       "\n",
       "    .dataframe tbody tr th {\n",
       "        vertical-align: top;\n",
       "    }\n",
       "\n",
       "    .dataframe thead th {\n",
       "        text-align: right;\n",
       "    }\n",
       "</style>\n",
       "<table border=\"1\" class=\"dataframe\">\n",
       "  <thead>\n",
       "    <tr style=\"text-align: right;\">\n",
       "      <th></th>\n",
       "      <th>columns</th>\n",
       "      <th>values</th>\n",
       "      <th>abs_vals</th>\n",
       "    </tr>\n",
       "  </thead>\n",
       "  <tbody>\n",
       "    <tr>\n",
       "      <th>28</th>\n",
       "      <td>temp</td>\n",
       "      <td>0.562596</td>\n",
       "      <td>0.562596</td>\n",
       "    </tr>\n",
       "    <tr>\n",
       "      <th>27</th>\n",
       "      <td>atemp</td>\n",
       "      <td>0.559950</td>\n",
       "      <td>0.559950</td>\n",
       "    </tr>\n",
       "    <tr>\n",
       "      <th>26</th>\n",
       "      <td>frac_day</td>\n",
       "      <td>0.486784</td>\n",
       "      <td>0.486784</td>\n",
       "    </tr>\n",
       "    <tr>\n",
       "      <th>25</th>\n",
       "      <td>Hour</td>\n",
       "      <td>0.486784</td>\n",
       "      <td>0.486784</td>\n",
       "    </tr>\n",
       "    <tr>\n",
       "      <th>0</th>\n",
       "      <td>humidity</td>\n",
       "      <td>-0.366263</td>\n",
       "      <td>0.366263</td>\n",
       "    </tr>\n",
       "    <tr>\n",
       "      <th>24</th>\n",
       "      <td>casual_by_season</td>\n",
       "      <td>0.362035</td>\n",
       "      <td>0.362035</td>\n",
       "    </tr>\n",
       "    <tr>\n",
       "      <th>23</th>\n",
       "      <td>count_by_season</td>\n",
       "      <td>0.353901</td>\n",
       "      <td>0.353901</td>\n",
       "    </tr>\n",
       "    <tr>\n",
       "      <th>22</th>\n",
       "      <td>registered_by_season</td>\n",
       "      <td>0.332353</td>\n",
       "      <td>0.332353</td>\n",
       "    </tr>\n",
       "    <tr>\n",
       "      <th>21</th>\n",
       "      <td>frac_week</td>\n",
       "      <td>0.232573</td>\n",
       "      <td>0.232573</td>\n",
       "    </tr>\n",
       "    <tr>\n",
       "      <th>1</th>\n",
       "      <td>workingday</td>\n",
       "      <td>-0.208715</td>\n",
       "      <td>0.208715</td>\n",
       "    </tr>\n",
       "  </tbody>\n",
       "</table>\n",
       "</div>"
      ],
      "text/plain": [
       "                 columns    values  abs_vals\n",
       "28                  temp  0.562596  0.562596\n",
       "27                 atemp  0.559950  0.559950\n",
       "26              frac_day  0.486784  0.486784\n",
       "25                  Hour  0.486784  0.486784\n",
       "0               humidity -0.366263  0.366263\n",
       "24      casual_by_season  0.362035  0.362035\n",
       "23       count_by_season  0.353901  0.353901\n",
       "22  registered_by_season  0.332353  0.332353\n",
       "21             frac_week  0.232573  0.232573\n",
       "1             workingday -0.208715  0.208715"
      ]
     },
     "execution_count": 32,
     "metadata": {},
     "output_type": "execute_result"
    }
   ],
   "source": [
    "correlation(data, 'casual_log', remove_by=PREDICTORS)"
   ]
  },
  {
   "cell_type": "code",
   "execution_count": 33,
   "metadata": {},
   "outputs": [
    {
     "data": {
      "text/html": [
       "<div>\n",
       "<style scoped>\n",
       "    .dataframe tbody tr th:only-of-type {\n",
       "        vertical-align: middle;\n",
       "    }\n",
       "\n",
       "    .dataframe tbody tr th {\n",
       "        vertical-align: top;\n",
       "    }\n",
       "\n",
       "    .dataframe thead th {\n",
       "        text-align: right;\n",
       "    }\n",
       "</style>\n",
       "<table border=\"1\" class=\"dataframe\">\n",
       "  <thead>\n",
       "    <tr style=\"text-align: right;\">\n",
       "      <th></th>\n",
       "      <th>columns</th>\n",
       "      <th>values</th>\n",
       "      <th>abs_vals</th>\n",
       "    </tr>\n",
       "  </thead>\n",
       "  <tbody>\n",
       "    <tr>\n",
       "      <th>28</th>\n",
       "      <td>Hour</td>\n",
       "      <td>0.572704</td>\n",
       "      <td>0.572704</td>\n",
       "    </tr>\n",
       "    <tr>\n",
       "      <th>27</th>\n",
       "      <td>frac_day</td>\n",
       "      <td>0.572704</td>\n",
       "      <td>0.572704</td>\n",
       "    </tr>\n",
       "    <tr>\n",
       "      <th>26</th>\n",
       "      <td>temp</td>\n",
       "      <td>0.330701</td>\n",
       "      <td>0.330701</td>\n",
       "    </tr>\n",
       "    <tr>\n",
       "      <th>25</th>\n",
       "      <td>atemp</td>\n",
       "      <td>0.326022</td>\n",
       "      <td>0.326022</td>\n",
       "    </tr>\n",
       "    <tr>\n",
       "      <th>0</th>\n",
       "      <td>humidity</td>\n",
       "      <td>-0.317667</td>\n",
       "      <td>0.317667</td>\n",
       "    </tr>\n",
       "    <tr>\n",
       "      <th>24</th>\n",
       "      <td>Elapsed</td>\n",
       "      <td>0.246150</td>\n",
       "      <td>0.246150</td>\n",
       "    </tr>\n",
       "    <tr>\n",
       "      <th>23</th>\n",
       "      <td>registered_by_season</td>\n",
       "      <td>0.196908</td>\n",
       "      <td>0.196908</td>\n",
       "    </tr>\n",
       "    <tr>\n",
       "      <th>22</th>\n",
       "      <td>count_by_season</td>\n",
       "      <td>0.192971</td>\n",
       "      <td>0.192971</td>\n",
       "    </tr>\n",
       "    <tr>\n",
       "      <th>21</th>\n",
       "      <td>is_leap_year</td>\n",
       "      <td>0.189234</td>\n",
       "      <td>0.189234</td>\n",
       "    </tr>\n",
       "    <tr>\n",
       "      <th>20</th>\n",
       "      <td>Days_in_year</td>\n",
       "      <td>0.189234</td>\n",
       "      <td>0.189234</td>\n",
       "    </tr>\n",
       "  </tbody>\n",
       "</table>\n",
       "</div>"
      ],
      "text/plain": [
       "                 columns    values  abs_vals\n",
       "28                  Hour  0.572704  0.572704\n",
       "27              frac_day  0.572704  0.572704\n",
       "26                  temp  0.330701  0.330701\n",
       "25                 atemp  0.326022  0.326022\n",
       "0               humidity -0.317667  0.317667\n",
       "24               Elapsed  0.246150  0.246150\n",
       "23  registered_by_season  0.196908  0.196908\n",
       "22       count_by_season  0.192971  0.192971\n",
       "21          is_leap_year  0.189234  0.189234\n",
       "20          Days_in_year  0.189234  0.189234"
      ]
     },
     "execution_count": 33,
     "metadata": {},
     "output_type": "execute_result"
    }
   ],
   "source": [
    "correlation(data, 'registered_log', remove_by=PREDICTORS)"
   ]
  },
  {
   "cell_type": "code",
   "execution_count": 34,
   "metadata": {},
   "outputs": [
    {
     "data": {
      "text/html": [
       "<div>\n",
       "<style scoped>\n",
       "    .dataframe tbody tr th:only-of-type {\n",
       "        vertical-align: middle;\n",
       "    }\n",
       "\n",
       "    .dataframe tbody tr th {\n",
       "        vertical-align: top;\n",
       "    }\n",
       "\n",
       "    .dataframe thead th {\n",
       "        text-align: right;\n",
       "    }\n",
       "</style>\n",
       "<table border=\"1\" class=\"dataframe\">\n",
       "  <thead>\n",
       "    <tr style=\"text-align: right;\">\n",
       "      <th></th>\n",
       "      <th>columns</th>\n",
       "      <th>values</th>\n",
       "      <th>abs_vals</th>\n",
       "    </tr>\n",
       "  </thead>\n",
       "  <tbody>\n",
       "    <tr>\n",
       "      <th>28</th>\n",
       "      <td>Hour</td>\n",
       "      <td>0.570638</td>\n",
       "      <td>0.570638</td>\n",
       "    </tr>\n",
       "    <tr>\n",
       "      <th>27</th>\n",
       "      <td>frac_day</td>\n",
       "      <td>0.570638</td>\n",
       "      <td>0.570638</td>\n",
       "    </tr>\n",
       "    <tr>\n",
       "      <th>26</th>\n",
       "      <td>temp</td>\n",
       "      <td>0.376587</td>\n",
       "      <td>0.376587</td>\n",
       "    </tr>\n",
       "    <tr>\n",
       "      <th>25</th>\n",
       "      <td>atemp</td>\n",
       "      <td>0.372167</td>\n",
       "      <td>0.372167</td>\n",
       "    </tr>\n",
       "    <tr>\n",
       "      <th>0</th>\n",
       "      <td>humidity</td>\n",
       "      <td>-0.333158</td>\n",
       "      <td>0.333158</td>\n",
       "    </tr>\n",
       "    <tr>\n",
       "      <th>24</th>\n",
       "      <td>Elapsed</td>\n",
       "      <td>0.237444</td>\n",
       "      <td>0.237444</td>\n",
       "    </tr>\n",
       "    <tr>\n",
       "      <th>23</th>\n",
       "      <td>count_by_season</td>\n",
       "      <td>0.223818</td>\n",
       "      <td>0.223818</td>\n",
       "    </tr>\n",
       "    <tr>\n",
       "      <th>22</th>\n",
       "      <td>registered_by_season</td>\n",
       "      <td>0.223127</td>\n",
       "      <td>0.223127</td>\n",
       "    </tr>\n",
       "    <tr>\n",
       "      <th>21</th>\n",
       "      <td>casual_by_season</td>\n",
       "      <td>0.200552</td>\n",
       "      <td>0.200552</td>\n",
       "    </tr>\n",
       "    <tr>\n",
       "      <th>20</th>\n",
       "      <td>is_leap_year</td>\n",
       "      <td>0.178236</td>\n",
       "      <td>0.178236</td>\n",
       "    </tr>\n",
       "  </tbody>\n",
       "</table>\n",
       "</div>"
      ],
      "text/plain": [
       "                 columns    values  abs_vals\n",
       "28                  Hour  0.570638  0.570638\n",
       "27              frac_day  0.570638  0.570638\n",
       "26                  temp  0.376587  0.376587\n",
       "25                 atemp  0.372167  0.372167\n",
       "0               humidity -0.333158  0.333158\n",
       "24               Elapsed  0.237444  0.237444\n",
       "23       count_by_season  0.223818  0.223818\n",
       "22  registered_by_season  0.223127  0.223127\n",
       "21      casual_by_season  0.200552  0.200552\n",
       "20          is_leap_year  0.178236  0.178236"
      ]
     },
     "execution_count": 34,
     "metadata": {},
     "output_type": "execute_result"
    }
   ],
   "source": [
    "correlation(data, 'count_log', remove_by=PREDICTORS)"
   ]
  },
  {
   "cell_type": "markdown",
   "metadata": {},
   "source": [
    "## Data Cleaning: Removing Columns"
   ]
  },
  {
   "cell_type": "markdown",
   "metadata": {},
   "source": [
    "#### Notes:\n",
    "- After checking the correlations values, there are a couple of columns that represent the same information. Some of the redudant columns are:\n",
    "    - Hour and frac_day\n",
    "    - temp and atemp\n",
    "    - Days_in_year and is_leap_year"
   ]
  },
  {
   "cell_type": "code",
   "execution_count": 35,
   "metadata": {},
   "outputs": [],
   "source": [
    "data.drop(['frac_day', 'atemp', 'Days_in_year'], axis=1, inplace=True)"
   ]
  },
  {
   "cell_type": "markdown",
   "metadata": {},
   "source": [
    "## Data Cleaning: Dummies\n",
    "\n",
    "To encode the categorical variables, we will be using the `pd.get_dummies()`\n"
   ]
  },
  {
   "cell_type": "code",
   "execution_count": 36,
   "metadata": {},
   "outputs": [],
   "source": [
    "from sklearn import preprocessing\n",
    "\n",
    "# Extracting the columns that will be encoded\n",
    "object_cols = data.select_dtypes('object').columns.tolist()\n",
    "bool_cols = data.select_dtypes('bool').columns.tolist()\n",
    "encoded_cols = object_cols+bool_cols\n",
    "\n",
    "# Copying the dataframe to create encoders\n",
    "data = data.copy()\n",
    "\n",
    "# Encoding the object/bool columns\n",
    "data = pd.get_dummies(data, columns=encoded_cols, drop_first=True)"
   ]
  },
  {
   "cell_type": "markdown",
   "metadata": {},
   "source": [
    "## Feature Engineering"
   ]
  },
  {
   "cell_type": "code",
   "execution_count": 37,
   "metadata": {},
   "outputs": [
    {
     "data": {
      "text/plain": [
       "{dtype('<M8[ns]'): Index(['datetime'], dtype='object'),\n",
       " dtype('uint8'): Index(['season_spring', 'season_summer', 'season_winter',\n",
       "        'weather_heavy rain/ice pallets', 'weather_light snow/light rain',\n",
       "        'weather_mist/cloudy', 'data_source_train_set', 'Year_2012',\n",
       "        'Month_Aug', 'Month_Dec', 'Month_Feb', 'Month_Jan', 'Month_Jul',\n",
       "        'Month_Jun', 'Month_Mar', 'Month_May', 'Month_Nov', 'Month_Oct',\n",
       "        'Month_Sep', 'Timeofday_evening', 'Timeofday_morning',\n",
       "        'Timeofday_night', 'is_leap_year_True', 'Is_month_end_True',\n",
       "        'Is_month_start_True', 'Is_quarter_end_True', 'Is_quarter_start_True',\n",
       "        'Is_year_end_True', 'Is_year_start_True'],\n",
       "       dtype='object'),\n",
       " dtype('int64'): Index(['holiday', 'workingday', 'humidity', 'Week', 'Day', 'Dayofweek',\n",
       "        'Dayofyear', 'Days_in_month', 'Hour', 'Minute', 'Second', 'Weekofyear'],\n",
       "       dtype='object'),\n",
       " dtype('float64'): Index(['temp', 'windspeed', 'frac_week', 'frac_month', 'frac_year', 'Elapsed',\n",
       "        'count_by_season', 'casual_by_season', 'registered_by_season',\n",
       "        'count_by_holiday', 'casual_by_holiday', 'registered_by_holiday',\n",
       "        'casual_log', 'registered_log', 'count_log'],\n",
       "       dtype='object')}"
      ]
     },
     "execution_count": 37,
     "metadata": {},
     "output_type": "execute_result"
    }
   ],
   "source": [
    "# Grouping the columns' datatype \n",
    "data.columns.to_series().groupby(data.dtypes).groups"
   ]
  },
  {
   "cell_type": "markdown",
   "metadata": {},
   "source": [
    "## Data Modeling"
   ]
  },
  {
   "cell_type": "code",
   "execution_count": 38,
   "metadata": {},
   "outputs": [
    {
     "name": "stderr",
     "output_type": "stream",
     "text": [
      "/Users/alexguanga/anaconda/lib/python3.6/site-packages/sklearn/ensemble/weight_boosting.py:29: DeprecationWarning: numpy.core.umath_tests is an internal NumPy module and should not be imported. It will be removed in a future NumPy release.\n",
      "  from numpy.core.umath_tests import inner1d\n"
     ]
    }
   ],
   "source": [
    "from sklearn.ensemble import RandomForestRegressor, GradientBoostingRegressor, AdaBoostRegressor, BaggingRegressor\n",
    "import xgboost as xgb\n",
    "from sklearn.svm import SVR\n",
    "\n",
    "from sklearn.model_selection import cross_val_score\n",
    "from sklearn.metrics import make_scorer\n",
    "\n",
    "from sklearn.model_selection import GridSearchCV, RandomizedSearchCV, cross_val_score\n",
    "\n",
    "# There are some internal error with Xgboost, this is the way around it\n",
    "import os\n",
    "os.environ['KMP_DUPLICATE_LIB_OK']='True'"
   ]
  },
  {
   "cell_type": "code",
   "execution_count": 39,
   "metadata": {},
   "outputs": [],
   "source": [
    "# Will need the test_datetime when we are submitting the predictions\n",
    "test_datetime = data.loc[data['count_log'].isnull(), \"datetime\"]\n",
    "\n",
    "# Changing columns names to lowercase\n",
    "data.columns = map(str.lower, data.columns)\n",
    "\n",
    "# Extracting the training set\n",
    "train_on = data[data['data_source_train_set'] == 1]\n",
    "\n",
    "# Calculating the testing set for the two dataframes\n",
    "test_on = data[data['data_source_train_set'] == 0]\n",
    "\n",
    "# Columns that will be dropped from the dataset (predictors & time)\n",
    "cols_to_drop = ['count_log', 'registered_log', 'casual_log', 'datetime']\n",
    "train_on.drop(cols_to_drop, axis=1, inplace=True)\n",
    "test_on.drop(cols_to_drop, axis=1, inplace=True)"
   ]
  },
  {
   "cell_type": "code",
   "execution_count": 40,
   "metadata": {
    "code_folding": [
     0
    ]
   },
   "outputs": [],
   "source": [
    "def get_train_labels(data, predictors):\n",
    "    '''Returns the target variable for the training set'''\n",
    "\n",
    "    labels = [np.array(list(data.loc[data[p].notnull(), p])) for p in predictors]\n",
    "    return labels"
   ]
  },
  {
   "cell_type": "code",
   "execution_count": 41,
   "metadata": {},
   "outputs": [],
   "source": [
    "# Splitting the dataset into a training and testing set\n",
    "\n",
    "from sklearn.model_selection import train_test_split\n",
    "\n",
    "# Extracting the target variable without encoding(we will have 3 for this dataset)\n",
    "train_label_count, train_label_reg, train_label_cas = get_train_labels(\n",
    "    data, ['count_log', 'registered_log', 'casual_log'])\n",
    "\n",
    "x_train, x_test, y_train, y_test = train_test_split(train_on, train_label_count, test_size=0.25, random_state=42)\n",
    "x_train_c, x_test_c, y_train_c, y_test_c = train_test_split(train_on, train_label_cas, test_size=0.25, random_state=42)\n",
    "x_train_r, x_test_r, y_train_r, y_test_r = train_test_split(train_on, train_label_reg, test_size=0.25, random_state=42)"
   ]
  },
  {
   "cell_type": "code",
   "execution_count": 42,
   "metadata": {},
   "outputs": [
    {
     "name": "stdout",
     "output_type": "stream",
     "text": [
      "Casual to Count Ratio: 0.19\n",
      "Registered to Count Ratio: 0.81\n"
     ]
    }
   ],
   "source": [
    "sum_count = train_set['count'].sum()\n",
    "sum_casual = train_set['casual'].sum()\n",
    "sum_registered = train_set['registered'].sum()\n",
    "\n",
    "# A rough estimate of our weights to casual & registered\n",
    "print(f\"Casual to Count Ratio: {sum_casual/sum_count:.2f}\")\n",
    "print(f\"Registered to Count Ratio: {sum_registered/sum_count:.2f}\")"
   ]
  },
  {
   "cell_type": "code",
   "execution_count": 43,
   "metadata": {
    "code_folding": [
     1,
     5
    ]
   },
   "outputs": [],
   "source": [
    "# Custom scorer that will be used to measure performance\n",
    "def rmse(actual, predicted):        \n",
    "    assert len(actual) == len(predicted)\n",
    "    return np.sqrt(np.mean(np.power((actual)-(predicted), 2)))\n",
    "\n",
    "def rmse_log(actual, predicted):\n",
    "    assert len(actual) == len(predicted)\n",
    "    sle = (np.power(np.log(np.array((actual))+1) - np.log(np.array(np.abs(predicted))+1), 2))\n",
    "    msle = np.mean(sle)\n",
    "    return np.sqrt(msle)"
   ]
  },
  {
   "cell_type": "code",
   "execution_count": 44,
   "metadata": {},
   "outputs": [],
   "source": [
    "rmsle_scorer = make_scorer(rmse_log, greater_is_better=False)\n",
    "rmse_scorer = make_scorer(rmse, greater_is_better=False)"
   ]
  },
  {
   "cell_type": "code",
   "execution_count": 45,
   "metadata": {},
   "outputs": [],
   "source": [
    "MODELS = {\"Random Forest\": RandomForestRegressor(n_jobs=-1),\n",
    "          \"XGBoost\": xgb.XGBRegressor(n_jobs=-1), \n",
    "          \"Gradient Boosting\": GradientBoostingRegressor(),\n",
    "          \"AdaBoost\": AdaBoostRegressor(),\n",
    "          \"Bagging\": BaggingRegressor(),\n",
    "          \"SVR\": SVR()\n",
    "         }"
   ]
  },
  {
   "cell_type": "code",
   "execution_count": 46,
   "metadata": {},
   "outputs": [],
   "source": [
    "def run_models_cv(data, labels, model, cv=10):\n",
    "    cv_score = cross_val_score(model, data, labels, cv=cv, scoring=rmse_scorer)\n",
    "    print(f\"10Fold CV RMLSE - Mean: {round(np.abs(cv_score.mean()), 4)}, Std. deviation: {round(cv_score.std(), 4)}\")\n",
    "    return np.abs(cv_score.mean())\n",
    "    "
   ]
  },
  {
   "cell_type": "code",
   "execution_count": 47,
   "metadata": {},
   "outputs": [
    {
     "name": "stdout",
     "output_type": "stream",
     "text": [
      "Random Forest\n",
      "10Fold CV RMLSE - Mean: 0.3245, Std. deviation: 0.016\n",
      "----------\n",
      "XGBoost\n",
      "10Fold CV RMLSE - Mean: 0.3608, Std. deviation: 0.0128\n",
      "----------\n",
      "Gradient Boosting\n",
      "10Fold CV RMLSE - Mean: 0.3607, Std. deviation: 0.0113\n",
      "----------\n",
      "AdaBoost\n",
      "10Fold CV RMLSE - Mean: 0.6457, Std. deviation: 0.0177\n",
      "----------\n",
      "Bagging\n",
      "10Fold CV RMLSE - Mean: 0.3209, Std. deviation: 0.0165\n",
      "----------\n",
      "SVR\n",
      "10Fold CV RMLSE - Mean: 1.444, Std. deviation: 0.0533\n",
      "----------\n"
     ]
    }
   ],
   "source": [
    "# Quickly training the model for comparision\n",
    "\n",
    "rmsle_history = []\n",
    "for model_name, model in MODELS.items():\n",
    "    print(f\"{model_name}\")\n",
    "    rmsle_perf = run_models_cv(x_train, y_train, model)\n",
    "    rmsle_history.append(rmsle_perf)\n",
    "    print(\"----------\")\n",
    "    "
   ]
  },
  {
   "cell_type": "code",
   "execution_count": null,
   "metadata": {},
   "outputs": [],
   "source": [
    "# Visualizing baseline scores\n",
    "d = {\"Modeling Algo\": list(MODELS.keys()), \"RMSLE\": rmsle_history}\n",
    "rmsle_frame = pd.DataFrame(d)\n",
    "\n",
    "sns.factorplot(y='Modeling Algo', x='RMSLE', data=rmsle_frame, kind='bar', size=5, aspect=2)\n",
    "plt.show()"
   ]
  },
  {
   "cell_type": "markdown",
   "metadata": {},
   "source": [
    "#### Notes:\n",
    "- `factorplot` do an excellent way of creating chart that could be easily manipulated and tweak to include additional features... it's an effective method to automate the visualization with seaborn's API!"
   ]
  },
  {
   "cell_type": "markdown",
   "metadata": {},
   "source": [
    "#### Notes\n",
    "- I would like to use all three target variables to make predictions.\n",
    "- However, finding the appropriate weight to each of the target variables is more complicated than it seems.\n",
    "- I am going to make two prediction (to gain a better understanding of their performance)\n",
    "    1. Add the Casual + Registered predictions\n",
    "    2. Use the Count predictions"
   ]
  },
  {
   "cell_type": "code",
   "execution_count": 49,
   "metadata": {
    "code_folding": []
   },
   "outputs": [],
   "source": [
    "def feat_df(feats, cols):\n",
    "    return pd.DataFrame(feats, index=cols, columns=['importance']).sort_values('importance', ascending=False)\n",
    "\n",
    "def random_search(model, params, train_on, train_labels, cv=5):\n",
    "    train_on = train_on.values\n",
    "    rs = RandomizedSearchCV(model, param_distributions=params, scoring=rmse_scorer, cv=cv, )\n",
    "    \n",
    "    # Train the model\n",
    "    rs.fit(train_on, train_labels)\n",
    "    return rs\n",
    "\n",
    "def get_predict(model, train_on, train_labels, test_on, test_ids=None, return_df=False):\n",
    "    model.fit(train_on, train_labels)\n",
    "    predict = model.predict(test_on)\n",
    "    predict = np.exp(predict) - 1\n",
    "    \n",
    "    if return_df:\n",
    "        sub = pd.DataFrame({'datetime': test_ids, 'count': predict.astype(int)})\n",
    "                           \n",
    "        return sub\n",
    "                           \n",
    "    return predict"
   ]
  },
  {
   "cell_type": "code",
   "execution_count": 50,
   "metadata": {
    "code_folding": [
     0
    ]
   },
   "outputs": [],
   "source": [
    "def run_model(rs_model, train_model, params, train_on, train_label, predict=False):\n",
    "    # Creating a copy of the dataframe\n",
    "    train_on = train_on.copy()\n",
    "    \n",
    "    columns = train_on.columns\n",
    "    \n",
    "    # Creating two dictionaries: parameters that were found best via Random Search & the model trained with the data\n",
    "    model_searches, model_trained = {}, {}\n",
    "        \n",
    "    # Finding the best parameters among the hyperparameter that were passed\n",
    "    model_search_1 = random_search(rs_model, params, train_on, train_label, cv=5)\n",
    "    \n",
    "    # Printing the best score & parameters\n",
    "    best_params, best_score = model_search_1.best_params_, model_search_1.best_score_\n",
    "    print(f\"Best Params. (all-in columns): {best_params}\")\n",
    "    print(f\"Best Score for (all-in columns): {np.abs(best_score):.2f}\")\n",
    "    \n",
    "    # Saving the parameters to the dictionary\n",
    "    model_searches[\"Model-Search_All\"] = model_search_1\n",
    "\n",
    "    # Training the model\n",
    "    model = train_model(**best_params)\n",
    "    model.fit(train_on, train_label)\n",
    "    model_trained['Model-Search_All'] = model\n",
    "    \n",
    "    # Now, we will train the model only with the most important features\n",
    "    imp_cols = feat_df(model.feature_importances_, columns)\n",
    "    imp_cols = imp_cols[imp_cols['importance'] > 0].index\n",
    "    \n",
    "    # Redoing the process but with variables that had a higher importance than 1\n",
    "    model_search_2 = random_search(rs_model, params, train_on[imp_cols], train_label, cv=5)\n",
    "    best_params, best_score = model_search_2.best_params_, model_search_2.best_score_\n",
    "    print(f\"Best Params. for (feat. selection): {best_params}\")\n",
    "    print(f\"Best Score for (feat. selection): {np.abs(best_score):.2f}\\n\")\n",
    "    \n",
    "    # Saving the parameters of the model with important features to the dictionary\n",
    "    model_searches['Model-Search_Features'] = model_search_2\n",
    "\n",
    "    # Training the model with the optimal features\n",
    "    model = train_model(**best_params)\n",
    "    model.fit(train_on, train_label)\n",
    "    model_trained['Model-Search_Features'] = model\n",
    "\n",
    "    \n",
    "    return [model_searches, model_trained, imp_cols] "
   ]
  },
  {
   "cell_type": "code",
   "execution_count": null,
   "metadata": {},
   "outputs": [],
   "source": [
    "Y_LABELS = {\"y_train\": y_train, \n",
    "            \"y_train_c\": y_train_c, \n",
    "            \"y_train_r\": y_train_r\n",
    "           }"
   ]
  },
  {
   "cell_type": "markdown",
   "metadata": {},
   "source": [
    "### Model: XGBRegressor"
   ]
  },
  {
   "cell_type": "code",
   "execution_count": 51,
   "metadata": {},
   "outputs": [],
   "source": [
    "xgb_model_1 = xgb.XGBRegressor(n_jobs=-1, random_state=0)\n",
    "xgb_model_2 = xgb.XGBRegressor\n",
    "xgb_params = {\"learning_rate\": [0.05, 0.10, 0.15, 0.20, 0.25, 0.30],\n",
    "              \"max_depth\": [3, 4, 5, 6, 8, 10, 12, 15],\n",
    "              \"min_child_weight\": [1, 3, 5, 7],\n",
    "              \"gamma\": [0.0, 0.1, 0.2 , 0.3, 0.4],\n",
    "              \"colsample_bytree\": [0.3, 0.4, 0.5 , 0.7]}"
   ]
  },
  {
   "cell_type": "code",
   "execution_count": 53,
   "metadata": {},
   "outputs": [
    {
     "name": "stdout",
     "output_type": "stream",
     "text": [
      "Best Params. (all-in columns): {'min_child_weight': 1, 'max_depth': 6, 'learning_rate': 0.15, 'gamma': 0.1, 'colsample_bytree': 0.5}\n",
      "Best Score for (all-in columns): 0.29\n",
      "Best Params. for (feat. selection): {'min_child_weight': 7, 'max_depth': 6, 'learning_rate': 0.1, 'gamma': 0.2, 'colsample_bytree': 0.5}\n",
      "Best Score for (feat. selection): 0.29\n",
      "\n",
      "Best Params. (all-in columns): {'min_child_weight': 1, 'max_depth': 6, 'learning_rate': 0.15, 'gamma': 0.0, 'colsample_bytree': 0.3}\n",
      "Best Score for (all-in columns): 0.46\n",
      "Best Params. for (feat. selection): {'min_child_weight': 5, 'max_depth': 8, 'learning_rate': 0.1, 'gamma': 0.3, 'colsample_bytree': 0.4}\n",
      "Best Score for (feat. selection): 0.46\n",
      "\n",
      "Best Params. (all-in columns): {'min_child_weight': 5, 'max_depth': 8, 'learning_rate': 0.15, 'gamma': 0.1, 'colsample_bytree': 0.4}\n",
      "Best Score for (all-in columns): 0.28\n",
      "Best Params. for (feat. selection): {'min_child_weight': 3, 'max_depth': 8, 'learning_rate': 0.15, 'gamma': 0.1, 'colsample_bytree': 0.5}\n",
      "Best Score for (feat. selection): 0.28\n",
      "\n"
     ]
    }
   ],
   "source": [
    "# Training different models to get the best \n",
    "\n",
    "results_d = {}\n",
    "\n",
    "for label_name, label in Y_LABELS.items():\n",
    "    model_rs, model_trained, imp_cols = run_model(xgb_model_1, xgb_model_2, xgb_params, x_train, label)\n",
    "    results_d[label_name] = [model_rs, model_trained, imp_cols]"
   ]
  },
  {
   "cell_type": "code",
   "execution_count": 54,
   "metadata": {},
   "outputs": [
    {
     "data": {
      "text/plain": [
       "dict_keys(['y_train', 'y_train_c', 'y_train_r'])"
      ]
     },
     "execution_count": 54,
     "metadata": {},
     "output_type": "execute_result"
    }
   ],
   "source": [
    "results_d.keys()"
   ]
  },
  {
   "cell_type": "code",
   "execution_count": null,
   "metadata": {},
   "outputs": [],
   "source": [
    "# Storing the dataframe dictionary\n",
    "d = {}"
   ]
  },
  {
   "cell_type": "code",
   "execution_count": 55,
   "metadata": {},
   "outputs": [],
   "source": [
    "# Models that were trained in the for loop above\n",
    "\n",
    "model_all = results_d['y_train'][1]['Model-Search_All']\n",
    "model_feat = results_d['y_train'][1]['Model-Search_Features']\n",
    "\n",
    "model_all_c = results_d['y_train_c'][1]['Model-Search_All']\n",
    "model_feat_c = results_d['y_train_c'][1]['Model-Search_Features']\n",
    "\n",
    "model_all_r = results_d['y_train_r'][1]['Model-Search_All']\n",
    "model_feat_r = results_d['y_train_r'][1]['Model-Search_Features']"
   ]
  },
  {
   "cell_type": "code",
   "execution_count": 88,
   "metadata": {},
   "outputs": [
    {
     "name": "stdout",
     "output_type": "stream",
     "text": [
      "Testing Score: 39.07\n"
     ]
    }
   ],
   "source": [
    "# Quick-check on the testing set (a part of the training set)\n",
    "\n",
    "y_predict_xgb = get_predict(model_all, x_train, y_train, x_test)\n",
    "rmse_score = rmse(np.expm1(y_test), y_predict_xgb)\n",
    "print(f\"Testing Score: {rmse_score:.2f}\")"
   ]
  },
  {
   "cell_type": "code",
   "execution_count": 59,
   "metadata": {},
   "outputs": [],
   "source": [
    "# Let's test it on the actual test_set\n",
    "predict = get_predict(model_all, train_on, train_label_count, test_on, test_datetime, return_df=True)\n",
    "\n",
    "# Extracting to csv\n",
    "d['model_xgb_all'] = predict\n",
    "#predict.to_csv(\"./saved_submissions/xgb-all_12-27-18.csv\", index=False) #0.41202"
   ]
  },
  {
   "cell_type": "code",
   "execution_count": 60,
   "metadata": {},
   "outputs": [],
   "source": [
    "# Let's test it on the actual test_set\n",
    "predict = get_predict(model_feat, train_on, train_label_count, test_on, test_datetime, return_df=True)\n",
    "\n",
    "# Extracting to csv\n",
    "d['model_xgb_feat'] = predict\n",
    "#predict.to_csv(\"./saved_submissions/xgb-feat_12-27-18.csv\", index=False)#0.42347"
   ]
  },
  {
   "cell_type": "code",
   "execution_count": 76,
   "metadata": {},
   "outputs": [],
   "source": [
    "# Let view the results if we add reg + casual\n",
    "predict_cas = get_predict(model_all_c, train_on, train_label_cas, test_on, test_datetime, return_df=True)\n",
    "predict_reg = get_predict(model_all_r, train_on, train_label_reg, test_on, test_datetime, return_df=True)\n",
    "\n",
    "# Aggregating the predictions\n",
    "predict = (predict_cas['count'] + predict_reg['count']).astype(int)\n",
    "predict = pd.DataFrame({'datetime': test_datetime, 'count': predict})\n",
    "\n",
    "d['model_xgb_agg_all'] = predict\n",
    "predict.to_csv('./saved_submissions/xgb_all-sum_1-2-18.csv', index=False)\n",
    "\n",
    "# Scoring -> 0.41332"
   ]
  },
  {
   "cell_type": "code",
   "execution_count": 77,
   "metadata": {},
   "outputs": [],
   "source": [
    "# Let view the results if we add reg + casual\n",
    "predict_cas = get_predict(model_feat_c, train_on, train_label_cas, test_on, test_datetime, return_df=True)\n",
    "predict_reg = get_predict(model_feat_r, train_on, train_label_reg, test_on, test_datetime, return_df=True)\n",
    "\n",
    "# Aggregating the predictions\n",
    "predict = (predict_cas['count'] + predict_reg['count']).astype(int)\n",
    "predict = pd.DataFrame({'datetime': test_datetime, 'count': predict})\n",
    "\n",
    "d['model_xgb_agg_feat'] = predict\n",
    "predict.to_csv('./saved_submissions/xgb_feat-sum_1-2-18.csv', index=False)\n",
    "\n",
    "# Scoring -> 0.41574"
   ]
  },
  {
   "cell_type": "markdown",
   "metadata": {},
   "source": [
    "#### Scoring Performance:\n",
    "- `model_xgb_all`: 0.41202\n",
    "- `model_xgb_feat`: 0.42347\n",
    "- `model_xgb_agg_all`: 0.41332\n",
    "- `model_xgb_agg_feat`: 0.41574"
   ]
  },
  {
   "cell_type": "markdown",
   "metadata": {},
   "source": [
    "### Model: GradientBoostingRegressor"
   ]
  },
  {
   "cell_type": "code",
   "execution_count": 78,
   "metadata": {},
   "outputs": [],
   "source": [
    "gb_model_1 = GradientBoostingRegressor()\n",
    "gb_model_2 = GradientBoostingRegressor\n",
    "gb_params = {\"learning_rate\": [0.10, 0.15, 0.20, 0.25, 0.30],\n",
    "             \"n_estimators\": [100, 125, 150, 175, 200],\n",
    "             \"max_depth\": np.linspace(1, 32, 32, endpoint=True),\n",
    "             \"min_samples_split\": np.linspace(0.1, 1.0, 10, endpoint=True),\n",
    "             \"min_samples_leaf\": [2, 4, 6, 8, 10, 12, 14]}"
   ]
  },
  {
   "cell_type": "code",
   "execution_count": 79,
   "metadata": {},
   "outputs": [
    {
     "name": "stdout",
     "output_type": "stream",
     "text": [
      "Best Params. (all-in columns): {'n_estimators': 125, 'min_samples_split': 0.1, 'min_samples_leaf': 4, 'max_depth': 28.0, 'learning_rate': 0.3}\n",
      "Best Score for (all-in columns): 0.29\n",
      "Best Params. for (feat. selection): {'n_estimators': 175, 'min_samples_split': 0.1, 'min_samples_leaf': 4, 'max_depth': 18.0, 'learning_rate': 0.15}\n",
      "Best Score for (feat. selection): 0.29\n",
      "\n",
      "Best Params. (all-in columns): {'n_estimators': 200, 'min_samples_split': 0.1, 'min_samples_leaf': 10, 'max_depth': 15.0, 'learning_rate': 0.15}\n",
      "Best Score for (all-in columns): 0.45\n",
      "Best Params. for (feat. selection): {'n_estimators': 100, 'min_samples_split': 0.1, 'min_samples_leaf': 12, 'max_depth': 16.0, 'learning_rate': 0.2}\n",
      "Best Score for (feat. selection): 0.46\n",
      "\n",
      "Best Params. (all-in columns): {'n_estimators': 100, 'min_samples_split': 0.4, 'min_samples_leaf': 14, 'max_depth': 11.0, 'learning_rate': 0.3}\n",
      "Best Score for (all-in columns): 0.31\n",
      "Best Params. for (feat. selection): {'n_estimators': 150, 'min_samples_split': 0.2, 'min_samples_leaf': 6, 'max_depth': 31.0, 'learning_rate': 0.3}\n",
      "Best Score for (feat. selection): 0.29\n",
      "\n"
     ]
    }
   ],
   "source": [
    "results_gb = {}\n",
    "\n",
    "for label_name, label in Y_LABELS.items():\n",
    "    model_rs, model_trained, imp_cols = run_model(gb_model_1, gb_model_2, gb_params, x_train, label)\n",
    "    results_gb[label_name] = [model_rs, model_trained, imp_cols]"
   ]
  },
  {
   "cell_type": "code",
   "execution_count": 80,
   "metadata": {},
   "outputs": [],
   "source": [
    "model_all = results_gb['y_train'][1]['Model-Search_All']\n",
    "model_feat = results_gb['y_train'][1]['Model-Search_Features']\n",
    "\n",
    "model_all_c = results_gb['y_train_c'][1]['Model-Search_All']\n",
    "model_feat_c = results_gb['y_train_c'][1]['Model-Search_Features']\n",
    "\n",
    "model_all_r = results_gb['y_train_r'][1]['Model-Search_All']\n",
    "model_feat_r = results_gb['y_train_r'][1]['Model-Search_Features']\n"
   ]
  },
  {
   "cell_type": "code",
   "execution_count": 85,
   "metadata": {},
   "outputs": [],
   "source": [
    "# Let's test it on the actual test_set\n",
    "predict = get_predict(model_all, train_on, train_label_count, test_on, test_datetime, return_df=True)\n",
    "d['model_gb_all'] = predict\n",
    "#predict.to_csv(\"./saved_submissions/gb-all_1-2-18.csv\", index=False) #0.43123"
   ]
  },
  {
   "cell_type": "code",
   "execution_count": 84,
   "metadata": {},
   "outputs": [],
   "source": [
    "# Extracting to csv\n",
    "predict = get_predict(model_feat, train_on, train_label_count, test_on, test_datetime, return_df=True)\n",
    "d['model_gb_feat'] = predict\n",
    "#predict.to_csv(\"./saved_submissions/gb-feat_1-2-18.csv\", index=False) #0.44574"
   ]
  },
  {
   "cell_type": "code",
   "execution_count": 87,
   "metadata": {},
   "outputs": [],
   "source": [
    "# Let view the results if we add reg + casual\n",
    "predict_cas = get_predict(model_all_c, train_on, train_label_cas, test_on, test_datetime, return_df=True)\n",
    "predict_reg = get_predict(model_all_r, train_on, train_label_reg, test_on, test_datetime, return_df=True)\n",
    "\n",
    "# Aggregating the predictions\n",
    "predict = (predict_cas['count'] + predict_reg['count']).astype(int)\n",
    "predict = pd.DataFrame({'datetime': test_datetime, 'count': predict})\n",
    "\n",
    "d['model_gb_agg_all'] = predict\n",
    "predict.to_csv('./saved_submissions/gb_all-sum_1-2-18.csv', index=False) # Scoring -> 0.44070"
   ]
  },
  {
   "cell_type": "code",
   "execution_count": 88,
   "metadata": {},
   "outputs": [],
   "source": [
    "# Let view the results if we add reg + casual\n",
    "predict_cas = get_predict(model_feat_c, train_on, train_label_cas, test_on, test_datetime, return_df=True)\n",
    "predict_reg = get_predict(model_feat_r, train_on, train_label_reg, test_on, test_datetime, return_df=True)\n",
    "\n",
    "# Aggregating the predictions\n",
    "predict = (predict_cas['count'] + predict_reg['count']).astype(int)\n",
    "predict = pd.DataFrame({'datetime': test_datetime, 'count': predict})\n",
    "\n",
    "d['model_gb_agg_feat'] = predict\n",
    "predict.to_csv('./saved_submissions/gb_feat-sum_1-2-18.csv', index=False) # Scoring -> 0.45243"
   ]
  },
  {
   "cell_type": "markdown",
   "metadata": {},
   "source": [
    "#### Scoring Performance:\n",
    "- `model_gb_all`: 0.43123\n",
    "- `model_gb_feat`: 0.44574\n",
    "- `model_gb_agg_all`: 0.44070\n",
    "- `model_gb_agg_feat`: 0.45243"
   ]
  },
  {
   "cell_type": "markdown",
   "metadata": {},
   "source": [
    "### Model: RandomForestRegressor"
   ]
  },
  {
   "cell_type": "code",
   "execution_count": 89,
   "metadata": {},
   "outputs": [],
   "source": [
    "rf_model_1 = RandomForestRegressor(n_jobs=-1)\n",
    "rf_model_2 = RandomForestRegressor\n",
    "rf_params = {\"n_estimators\": [int (x) for x in np.linspace(start=200, stop=1000, num=9, endpoint=True)],\n",
    "             \"max_features\": ['auto', 'sqrt'],\n",
    "             \"max_depth\": np.linspace(5, 32, 28, endpoint=True),\n",
    "             \"min_samples_split\": np.linspace(0.1, 1.0, 10, endpoint=True),\n",
    "             \"min_samples_leaf\": [4, 6, 8, 10, 12, 20]}"
   ]
  },
  {
   "cell_type": "code",
   "execution_count": 90,
   "metadata": {},
   "outputs": [
    {
     "name": "stdout",
     "output_type": "stream",
     "text": [
      "Best Params. (all-in columns): {'n_estimators': 600, 'min_samples_split': 0.30000000000000004, 'min_samples_leaf': 10, 'max_features': 'sqrt', 'max_depth': 27.0}\n",
      "Best Score for (all-in columns): 0.99\n",
      "Best Params. for (feat. selection): {'n_estimators': 400, 'min_samples_split': 0.1, 'min_samples_leaf': 8, 'max_features': 'auto', 'max_depth': 25.0}\n",
      "Best Score for (feat. selection): 0.69\n",
      "\n",
      "Best Params. (all-in columns): {'n_estimators': 800, 'min_samples_split': 0.1, 'min_samples_leaf': 20, 'max_features': 'auto', 'max_depth': 27.0}\n",
      "Best Score for (all-in columns): 0.75\n",
      "Best Params. for (feat. selection): {'n_estimators': 700, 'min_samples_split': 0.1, 'min_samples_leaf': 20, 'max_features': 'sqrt', 'max_depth': 5.0}\n",
      "Best Score for (feat. selection): 0.78\n",
      "\n",
      "Best Params. (all-in columns): {'n_estimators': 900, 'min_samples_split': 0.1, 'min_samples_leaf': 10, 'max_features': 'auto', 'max_depth': 17.0}\n",
      "Best Score for (all-in columns): 0.69\n",
      "Best Params. for (feat. selection): {'n_estimators': 200, 'min_samples_split': 0.4, 'min_samples_leaf': 20, 'max_features': 'sqrt', 'max_depth': 25.0}\n",
      "Best Score for (feat. selection): 0.91\n",
      "\n"
     ]
    }
   ],
   "source": [
    "results_rf = {}\n",
    "\n",
    "for label_name, label in Y_LABELS.items():\n",
    "    model_rs, model_trained, imp_cols = run_model(rf_model_1, rf_model_2, rf_params, x_train, label)\n",
    "    results_rf[label_name] = [model_rs, model_trained, imp_cols]"
   ]
  },
  {
   "cell_type": "markdown",
   "metadata": {},
   "source": [
    "#### Notes:\n",
    "- For some reason, Random Forest has terrible performance. This should something we look into!"
   ]
  },
  {
   "cell_type": "code",
   "execution_count": 98,
   "metadata": {},
   "outputs": [],
   "source": [
    "model_all_rf = results_rf['y_train'][1]['Model-Search_All']\n",
    "model_feat = results_rf['y_train'][1]['Model-Search_Features']\n",
    "\n",
    "model_all_c = results_rf['y_train_c'][1]['Model-Search_All']\n",
    "model_feat_c = results_rf['y_train_c'][1]['Model-Search_Features']\n",
    "\n",
    "model_all_r = results_rf['y_train_r'][1]['Model-Search_All']\n",
    "model_feat_r = results_rf['y_train_r'][1]['Model-Search_Features']\n"
   ]
  },
  {
   "cell_type": "code",
   "execution_count": 99,
   "metadata": {},
   "outputs": [],
   "source": [
    "# Let's test it on the actual test_set\n",
    "predict = get_predict(model_all, train_on, train_label_count, test_on, test_datetime, return_df=True)\n",
    "d['model_rf_all'] = predict\n",
    "predict.to_csv(\"./saved_submissions/rf-all_1-2-18.csv\", index=False) "
   ]
  },
  {
   "cell_type": "code",
   "execution_count": 100,
   "metadata": {},
   "outputs": [],
   "source": [
    "# Extracting to csv\n",
    "predict = get_predict(model_feat, train_on, train_label_count, test_on, test_datetime, return_df=True)\n",
    "d['model_rf_feat'] = predict\n",
    "predict.to_csv(\"./saved_submissions/rf-feat_1-2-18.csv\", index=False) "
   ]
  },
  {
   "cell_type": "code",
   "execution_count": 101,
   "metadata": {},
   "outputs": [],
   "source": [
    "# Let view the results if we add reg + casual\n",
    "predict_cas = get_predict(model_all_c, train_on, train_label_cas, test_on, test_datetime, return_df=True)\n",
    "predict_reg = get_predict(model_all_r, train_on, train_label_reg, test_on, test_datetime, return_df=True)\n",
    "\n",
    "# Aggregating the predictions\n",
    "predict = (predict_cas['count'] + predict_reg['count']).astype(int)\n",
    "predict = pd.DataFrame({'datetime': test_datetime, 'count': predict})\n",
    "\n",
    "d['model_rf_agg_all'] = predict\n",
    "predict.to_csv('./saved_submissions/rf_all-sum_1-2-18.csv', index=False) # Scoring -> 0.44070"
   ]
  },
  {
   "cell_type": "code",
   "execution_count": 102,
   "metadata": {},
   "outputs": [],
   "source": [
    "# Let view the results if we add reg + casual\n",
    "predict_cas = get_predict(model_feat_c, train_on, train_label_cas, test_on, test_datetime, return_df=True)\n",
    "predict_reg = get_predict(model_feat_r, train_on, train_label_reg, test_on, test_datetime, return_df=True)\n",
    "\n",
    "# Aggregating the predictions\n",
    "predict = (predict_cas['count'] + predict_reg['count']).astype(int)\n",
    "predict = pd.DataFrame({'datetime': test_datetime, 'count': predict})\n",
    "\n",
    "d['model_rf_agg_feat'] = predict\n",
    "predict.to_csv('./saved_submissions/rf_feat-sum_1-2-18.csv', index=False) # Scoring -> 0.45243"
   ]
  },
  {
   "cell_type": "markdown",
   "metadata": {},
   "source": [
    "#### Scoring Performance:\n",
    "- `model_rf_all`: 0.99251\n",
    "- `model_rf_feat`: 0.75609\n",
    "- `model_rf_agg_all`: 0.72469\n",
    "- `model_rf_agg_feat`: 1.04207"
   ]
  },
  {
   "cell_type": "markdown",
   "metadata": {},
   "source": [
    "### Model: Advanced (Combining Models)"
   ]
  },
  {
   "cell_type": "code",
   "execution_count": 119,
   "metadata": {},
   "outputs": [
    {
     "data": {
      "text/plain": [
       "dict_keys(['y_train', 'y_train_c', 'y_train_r'])"
      ]
     },
     "execution_count": 119,
     "metadata": {},
     "output_type": "execute_result"
    }
   ],
   "source": [
    "results_d.keys()"
   ]
  },
  {
   "cell_type": "code",
   "execution_count": 125,
   "metadata": {},
   "outputs": [],
   "source": [
    "xgb_model_all = results_d['y_train'][1]['Model-Search_All']\n",
    "xgb_model_features = results_d['y_train'][1]['Model-Search_Features']\n",
    "gb_model_all = results_gb['y_train'][1]['Model-Search_All']\n",
    "gb_model_features = results_gb['y_train'][1]['Model-Search_Features']"
   ]
  },
  {
   "cell_type": "code",
   "execution_count": 126,
   "metadata": {},
   "outputs": [],
   "source": [
    "y_predict_xgb_all = get_predict(xgb_model_all, x_train, y_train, x_test)\n",
    "y_predict_xgb_feats = get_predict(xgb_model_features, x_train, y_train, x_test)\n",
    "y_predict_gb_all = get_predict(gb_model_all, x_train, y_train, x_test)\n",
    "y_predict_gb_feats = get_predict(gb_model_features, x_train, y_train, x_test)"
   ]
  },
  {
   "cell_type": "code",
   "execution_count": 129,
   "metadata": {},
   "outputs": [],
   "source": [
    "y_test = np.expm1(y_test)\n",
    "instances = np.arange(0, len(y_test), 1)"
   ]
  },
  {
   "cell_type": "code",
   "execution_count": 146,
   "metadata": {},
   "outputs": [],
   "source": [
    "y_test_d = {\"ground_truth\": y_test, \"xgb_all\": y_predict_xgb_all, \"xgb_feats\": y_predict_xgb_feats,\n",
    "            \"gb_all\": y_predict_gb_all, \"gb_feats\": y_predict_gb_feats}\n",
    "\n",
    "y_test_df = pd.DataFrame(y_test_d)"
   ]
  },
  {
   "cell_type": "code",
   "execution_count": 149,
   "metadata": {},
   "outputs": [],
   "source": [
    "y_test_df['diff_xgb_all']  = y_test_df['ground_truth'] - y_test_df['xgb_all']\n",
    "y_test_df['diff_xgb_feats'] = y_test_df['ground_truth'] - y_test_df['xgb_feats']\n",
    "y_test_df['diff_gb_all'] = y_test_df['ground_truth'] - y_test_df['gb_all']\n",
    "y_test_df['diff_gb_feats'] = y_test_df['ground_truth'] - y_test_df['gb_feats']"
   ]
  },
  {
   "cell_type": "code",
   "execution_count": 153,
   "metadata": {},
   "outputs": [],
   "source": [
    "y_test_df['avg'] = (y_test_df['xgb_all']+y_test_df['xgb_feats']+y_test_df['gb_all']+y_test_df['gb_feats'])/4"
   ]
  },
  {
   "cell_type": "code",
   "execution_count": 156,
   "metadata": {},
   "outputs": [
    {
     "data": {
      "text/plain": [
       "36.37573392030498"
      ]
     },
     "execution_count": 156,
     "metadata": {},
     "output_type": "execute_result"
    }
   ],
   "source": [
    "rmse_score = rmse(y_test_df['ground_truth'], y_test_df['avg'])\n",
    "rmse_score"
   ]
  },
  {
   "cell_type": "code",
   "execution_count": 157,
   "metadata": {},
   "outputs": [
    {
     "data": {
      "text/plain": [
       "dict_keys(['model_xgb_all', 'model_xgb_feat', 'model_xgb_agg_all', 'model_xgb_agg_feat', 'model_gb_feat', 'model_gb_all', 'model_gb_agg_feat', 'model_gb_agg_all', 'model_rf_all', 'model_rf_feat', 'model_rf_agg_all', 'model_rf_agg_feat'])"
      ]
     },
     "execution_count": 157,
     "metadata": {},
     "output_type": "execute_result"
    }
   ],
   "source": [
    "d.keys()"
   ]
  },
  {
   "cell_type": "code",
   "execution_count": 161,
   "metadata": {},
   "outputs": [],
   "source": [
    "# Averaging the actual test predictions\n",
    "weighted_pred = (d['model_xgb_all']['count'] + d['model_xgb_feat']['count'] + \n",
    "                 d['model_gb_feat']['count'] + d['model_gb_all']['count'])/4"
   ]
  },
  {
   "cell_type": "code",
   "execution_count": 163,
   "metadata": {},
   "outputs": [],
   "source": [
    "predict = pd.DataFrame({'datetime': test_datetime, 'count': weighted_pred})\n",
    "predict.to_csv('./saved_submissions/weighted_1-3-18.csv', index=False) # Scoring -> 0.41143"
   ]
  },
  {
   "cell_type": "markdown",
   "metadata": {},
   "source": [
    "#### Scoring Performance\n",
    "- `Weighted Average`: 0.41143"
   ]
  }
 ],
 "metadata": {
  "kernelspec": {
   "display_name": "Python 3",
   "language": "python",
   "name": "python3"
  },
  "language_info": {
   "codemirror_mode": {
    "name": "ipython",
    "version": 3
   },
   "file_extension": ".py",
   "mimetype": "text/x-python",
   "name": "python",
   "nbconvert_exporter": "python",
   "pygments_lexer": "ipython3",
   "version": "3.6.8"
  },
  "toc": {
   "base_numbering": 1,
   "nav_menu": {},
   "number_sections": true,
   "sideBar": true,
   "skip_h1_title": true,
   "title_cell": "Table of Contents",
   "title_sidebar": "Contents",
   "toc_cell": false,
   "toc_position": {},
   "toc_section_display": true,
   "toc_window_display": false
  },
  "varInspector": {
   "cols": {
    "lenName": 16,
    "lenType": 16,
    "lenVar": 40
   },
   "kernels_config": {
    "python": {
     "delete_cmd_postfix": "",
     "delete_cmd_prefix": "del ",
     "library": "var_list.py",
     "varRefreshCmd": "print(var_dic_list())"
    },
    "r": {
     "delete_cmd_postfix": ") ",
     "delete_cmd_prefix": "rm(",
     "library": "var_list.r",
     "varRefreshCmd": "cat(var_dic_list()) "
    }
   },
   "types_to_exclude": [
    "module",
    "function",
    "builtin_function_or_method",
    "instance",
    "_Feature"
   ],
   "window_display": false
  }
 },
 "nbformat": 4,
 "nbformat_minor": 2
}
